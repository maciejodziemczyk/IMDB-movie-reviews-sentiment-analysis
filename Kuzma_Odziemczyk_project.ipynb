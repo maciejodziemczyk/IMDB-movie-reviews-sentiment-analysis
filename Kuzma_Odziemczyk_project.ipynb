{
 "cells": [
  {
   "cell_type": "markdown",
   "metadata": {},
   "source": [
    "## IMDB Movie reviews - sentiment analysis <br>Notebook.\n",
    "    \n",
    "Text Mining and Social Media Mining <br> final project<br>\n",
    "Bartłomiej Kuźma (384866) & Maciej Odziemczyk (388581)<br>\n",
    "Faculty of Economic Sciences, University of Warsaw <br>\n",
    "February 2021 \n",
    "\n",
    "Sentiment analysis of IMDB movie reviews was made in this project. \n",
    "Some text preprocessing and exploratory data analysis was performed. \n",
    "Then the main model was trained (CNN).\n",
    "CNN was built based on the pretrained GloVe embeddings.\n",
    "CNN results were compared to simple VADER approach.\n",
    "At the end, some experiments were made to check to what point this model is sensible to embeddings dimensionality, reviews' maximum length limitations and stopwords usage during training. Recurrent Neural Network was trained too, but the results were not good enough.\n",
    "\n",
    "#### Table of contents\n",
    "- *Data preparation and analysis*\n",
    "    - data loading,\n",
    "    - checking for nulls,\n",
    "    - balance check,\n",
    "    - entry level clearing,\n",
    "    - label encoding,\n",
    "    - train/dev/test split,\n",
    "    - embedding upload,\n",
    "    - coverage check,\n",
    "    - detailed clearing,\n",
    "    - length choice,\n",
    "    - visualizations (stop words analysiss included),\n",
    "        - bar plots with most frequent words for both categories,\n",
    "        - word cloud for both categories.\n",
    "        \n",
    "- *Modelling*\n",
    "    - tokenization,\n",
    "    - embeddings assignment,\n",
    "    - Convolutional Neural Network,\n",
    "        - training,\n",
    "        - evaluation metrics,\n",
    "        - accuracy and loss plots,\n",
    "        - confusion matrix analysis,\n",
    "        - examples of misclassification,\n",
    "    - Vader analysis,\n",
    "        - computating scores,\n",
    "        - confusion matrix analysis,\n",
    "        - evaluation metrics.\n",
    "        \n",
    "- *Expermiments*\n",
    "     - Convolutional Neural Networks,\n",
    "         - max length of 250 words, 100D embedding,\n",
    "         - max length of 500 words, 100D embedding,\n",
    "         - max length of 1000 words, 100D embedding,\n",
    "         - max length of 500 words, 50D embedding,\n",
    "         - max length of 500 words, 300D embedding,\n",
    "         - max length of 500 words, 100D embedding (without stopwords),\n",
    "     - Recurrent Neural Network,\n",
    "         - max length of 500 words, 100D embedding."
   ]
  },
  {
   "cell_type": "code",
   "execution_count": 1,
   "metadata": {},
   "outputs": [],
   "source": [
    "# libraries\n",
    "#    basics\n",
    "import pandas as pd                                  # data manipulation\n",
    "import numpy as np                                   # linear algebra\n",
    "import matplotlib.pyplot as plt                      # plots\n",
    "import seaborn as sns                                # nicer plots :)\n",
    "import time                                          # timing\n",
    "import os                                            # external files loading\n",
    "import gc                                            # memory cleaning\n",
    "import operator                                      # some operators\n",
    "import re                                            # regular expressions \n",
    "from wordcloud import WordCloud,STOPWORDS            # word cloud plots and stopwords list\n",
    "from sklearn.model_selection import train_test_split # train test split\n",
    "from sklearn.metrics import classification_report    # sklearn metrics\n",
    "from sklearn.metrics import confusion_matrix         # confusion matrix\n",
    "import own                                           # own functions (for experiments)\n",
    "\n",
    "#    Deep Learning\n",
    "import tensorflow as tf                              # tensorflow background\n",
    "from tensorflow import keras                         # keras API\n",
    "\n",
    "from keras.layers import Input, Conv1D, Bidirectional, LSTM, Dropout, Dense, Flatten, MaxPooling1D, Input, Embedding\n",
    "from keras.models import Model                       # model building"
   ]
  },
  {
   "cell_type": "code",
   "execution_count": 2,
   "metadata": {},
   "outputs": [],
   "source": [
    "# random seed configuration\n",
    "tf.random.set_seed(seed = 2021)\n",
    "np.random.seed(seed = 2021)"
   ]
  },
  {
   "cell_type": "code",
   "execution_count": 3,
   "metadata": {},
   "outputs": [],
   "source": [
    "# dataset loading\n",
    "data = pd.read_csv(\"IMDB Dataset.csv\")"
   ]
  },
  {
   "cell_type": "code",
   "execution_count": 4,
   "metadata": {},
   "outputs": [
    {
     "data": {
      "text/plain": [
       "review       0\n",
       "sentiment    0\n",
       "dtype: int64"
      ]
     },
     "execution_count": 4,
     "metadata": {},
     "output_type": "execute_result"
    }
   ],
   "source": [
    "# missings\n",
    "data.isnull().sum()"
   ]
  },
  {
   "cell_type": "markdown",
   "metadata": {},
   "source": [
    "Dataset doesn't have nulls"
   ]
  },
  {
   "cell_type": "code",
   "execution_count": 5,
   "metadata": {},
   "outputs": [
    {
     "data": {
      "image/png": "[encoded data removed]",
      "text/plain": [
       "<Figure size 432x288 with 1 Axes>"
      ]
     },
     "metadata": {
      "needs_background": "light"
     },
     "output_type": "display_data"
    }
   ],
   "source": [
    "# balance check\n",
    "sns.countplot(data['sentiment'])\n",
    "positive_percent = round(np.sum(data.sentiment==\"positive\")/data.shape[0], 2)*100\n",
    "plt.title(\"positive class: {}%\\nnegative class: {}%\".format(positive_percent, 100-positive_percent))\n",
    "plt.show()"
   ]
  },
  {
   "cell_type": "markdown",
   "metadata": {},
   "source": [
    "Well-balanced dataset, well the accuracy is correct metric in further analysis"
   ]
  },
  {
   "cell_type": "code",
   "execution_count": 6,
   "metadata": {},
   "outputs": [
    {
     "name": "stdout",
     "output_type": "stream",
     "text": [
      "\n",
      "1. SENTIMENT:\tpositive\n",
      "A wonderful little production. <br /><br />The filming technique is very unassuming- very old-time-BBC fashion and gives a comforting, and sometimes discomforting, sense of realism to the entire piece. <br /><br />The actors are extremely well chosen- Michael Sheen not only \"has got all the polari\" but he has all the voices down pat too! You can truly see the seamless editing guided by the references to Williams' diary entries, not only is it well worth the watching but it is a terrificly written and performed piece. A masterful production about one of the great master's of comedy and his life. <br /><br />The realism really comes home with the little things: the fantasy of the guard which, rather than use the traditional 'dream' techniques remains solid then disappears. It plays on our knowledge and our senses, particularly with the scenes concerning Orton and Halliwell and the sets (particularly of their flat with Halliwell's murals decorating every surface) are terribly well done.\n",
      "\n",
      "2. SENTIMENT:\tpositive\n",
      "I thought this was a wonderful way to spend time on a too hot summer weekend, sitting in the air conditioned theater and watching a light-hearted comedy. The plot is simplistic, but the dialogue is witty and the characters are likable (even the well bread suspected serial killer). While some may be disappointed when they realize this is not Match Point 2: Risk Addiction, I thought it was proof that Woody Allen is still fully in control of the style many of us have grown to love.<br /><br />This was the most I'd laughed at one of Woody's comedies in years (dare I say a decade?). While I've never been impressed with Scarlet Johanson, in this she managed to tone down her \"sexy\" image and jumped right into a average, but spirited young woman.<br /><br />This may not be the crown jewel of his career, but it was wittier than \"Devil Wears Prada\" and more interesting than \"Superman\" a great comedy to go see with friends.\n",
      "\n",
      "4. SENTIMENT:\tpositive\n",
      "Petter Mattei's \"Love in the Time of Money\" is a visually stunning film to watch. Mr. Mattei offers us a vivid portrait about human relations. This is a movie that seems to be telling us what money, power and success do to people in the different situations we encounter. <br /><br />This being a variation on the Arthur Schnitzler's play about the same theme, the director transfers the action to the present time New York where all these different characters meet and connect. Each one is connected in one way, or another to the next person, but no one seems to know the previous point of contact. Stylishly, the film has a sophisticated luxurious look. We are taken to see how these people live and the world they live in their own habitat.<br /><br />The only thing one gets out of all these souls in the picture is the different stages of loneliness each one inhabits. A big city is not exactly the best place in which human relations find sincere fulfillment, as one discerns is the case with most of the people we encounter.<br /><br />The acting is good under Mr. Mattei's direction. Steve Buscemi, Rosario Dawson, Carol Kane, Michael Imperioli, Adrian Grenier, and the rest of the talented cast, make these characters come alive.<br /><br />We wish Mr. Mattei good luck and await anxiously for his next work.\n",
      "\n",
      "8. SENTIMENT:\tnegative\n",
      "Encouraged by the positive comments about this film on here I was looking forward to watching this film. Bad mistake. I've seen 950+ films and this is truly one of the worst of them - it's awful in almost every way: editing, pacing, storyline, 'acting,' soundtrack (the film's only song - a lame country tune - is played no less than four times). The film looks cheap and nasty and is boring in the extreme. Rarely have I been so happy to see the end credits of a film. <br /><br />The only thing that prevents me giving this a 1-score is Harvey Keitel - while this is far from his best performance he at least seems to be making a bit of an effort. One for Keitel obsessives only.\n",
      "\n",
      "16. SENTIMENT:\tpositive\n",
      "Some films just simply should not be remade. This is one of them. In and of itself it is not a bad film. But it fails to capture the flavor and the terror of the 1963 film of the same title. Liam Neeson was excellent as he always is, and most of the cast holds up, with the exception of Owen Wilson, who just did not bring the right feel to the character of Luke. But the major fault with this version is that it strayed too far from the Shirley Jackson story in it's attempts to be grandiose and lost some of the thrill of the earlier film in a trade off for snazzier special effects. Again I will say that in and of itself it is not a bad film. But you will enjoy the friction of terror in the older version much more.\n",
      "\n",
      "32. SENTIMENT:\tnegative\n",
      "My first exposure to the Templarios & not a good one. I was excited to find this title among the offerings from Anchor Bay Video, which has brought us other cult classics such as \"Spider Baby\". The print quality is excellent, but this alone can't hide the fact that the film is deadly dull. There's a thrilling opening sequence in which the villagers exact a terrible revenge on the Templars (& set the whole thing in motion), but everything else in the movie is slow, ponderous &, ultimately, unfulfilling. Adding insult to injury: the movie was dubbed, not subtitled, as promised on the video jacket.\n",
      "\n",
      "64. SENTIMENT:\tnegative\n",
      "An unmarried woman named Stella (Bette Midler) gets pregnant by a wealthy man (Stephen Collins). He offers to marry her out of a sense of obligation but she turns him down flat and decides to raise the kid on her own. Things go OK until the child named Jenny (Trini Alvarado) becomes a teenager and things gradually (and predictably) become worse.<br /><br />I've seen both the silent version and sound version of \"Stella Dallas\". Neither one affected me much (and I cry easily) but they were well-made if dated. Trying to remake this in 1990 was just a stupid idea. I guess Midler had enough power after the incomprehensible success of \"Beaches\" to get this made. This (predictably) bombed. The story is laughable and dated by today's standards. Even though Midler and Alvarado give good performances this film really drags and I was bored silly by the end. Stephen Collins and Marsha Mason (both good actors) don't help in supporting roles. Flimsy and dull. Really--who thought this would work? See the 1937 Stanwyck version instead. I give this a 1.\n",
      "\n",
      "128. SENTIMENT:\tpositive\n",
      "This movie was one of the best movies that I have seen this year. I didn't see any cameos in the movie, but it is still pretty good. It is similar to Anchorman in the humor department, but I think this is a better put together movie. It actually has a point. If you are going to see a whole bunch of T&A you will be disappointed. Just a well put together movie!!!! If you have nothing to do for the day or you need a lot of humor, you will find this to be a really good movie. I definitely think that Ebert and Roeper's review of this movie is right on. I mean, I don't really like Ebert on most movies, but this is the movie that I will agree about. The movie contains a good enough story that it is actually believable that these type of people are out there. There is definitely something to be said about how they treat virginity in this movie. Yea, sure, you get laughed at when it is found out about, but it still suggests that you wait. Steve did a wonderful job of portraying the person that he did in this movie and yet, it is still funny.\n",
      "\n",
      "256. SENTIMENT:\tnegative\n",
      "I saw this movie in the middle of the night, when I was flipping through the channels and there was nothing else on to watch. It's one of those films where you stop to see what it is - just for a moment! - but realize after twenty minutes or so that you just can't turn it off, no matter how bad it is. One of those movies that is somewhere in between being so bad it's good and so bad it's, well, just plain BAD, it's worth seeing just to experience the confusion of realizing that it's both! Great middle-of-the-night fare, if only for the fabulous tennis drag. Don't even bother asking yourself why nobody can tell that Chad Lowe is so obviously male, because logic does not apply.\n",
      "\n",
      "512. SENTIMENT:\tnegative\n",
      "If I had known this movie was filmed in the exasperating and quease-inducing Dogme 95 style, I would never have rented it. Nevertheless, I took a dramamine for the seasickness and gave it a shot. I lasted a very, very, very long forty minutes before giving up. It's just boring, pretentious twaddle.<br /><br />The last French movie I saw was \"Romance\" and it too was pretty dismal, but at least the camera was steady and not breathing down the necks of the characters all the time. I am baffled at the continuing popularity of Dogme 95 overseas -- it'll catch on in America about the same time as the next big outbreak of leprosy. (It's called Dogme 95 because that's the average number of times the actors are poked in the eye by the camera.)<br /><br />\n",
      "\n",
      "1024. SENTIMENT:\tnegative\n",
      "This is a good time to say how good I think of this site: it gives me the opportunity to feedback all the frustration I lived for two hours, awaiting for something to happens, for something to be said, to be shown, to be insinuated subtly, for a symbol, an idea, whatever. No, just long, endless violins, alternated by a tired piano. Tired voices, tired actors and bored characters and situations. Boring is the long death of the mind, and this movie is, from that point of view, a public enemy. How many thousands of live hours will be still stolen to another thousands of innocent spectators. I don't claim for my money back, just for my time and the time of persons I invited to watch this thing... oh God !\n",
      "\n",
      "2048. SENTIMENT:\tpositive\n",
      "I have always loved The Muppets. Though most children's entertainment then wasn't that likable, The Muppet's was. The Muppet's are very, very funny. They are probably the most likable children's characters ever. <br /><br />Not only did The Muppets have their own show. They also have starred in many films. from The Muppet's Christmas carol to The Muppet's treasure Island. The first Muppet's movie, The Muppet movie, was also, like the show and the other films, excellent.<br /><br />The Muppet movie is about how they all got started. Kermit the frog used to live in a swamp. Until one day a movie executive tells him that there are auditions for frogs in Hollywood. So Kermit takes off for Hollywood. Along the way he runs into lots of people such as Fozzie Bear, Gonzo the great, and Miss Piggy. Also, an evil man is trying to capture Kermit.<br /><br />All of the Muppet films are highly enjoyable. I mean they are all very funny. This film has many film appearances. Such as Steve Martin, Mel Brooks, Elliot Gould, Carol Kane, Richard Pryor, and Orson Welles. The Muppet films are all very enjoyable. I hear that Jason Segel is going to star in one soon. I can't wait to see it.\n",
      "\n",
      "4096. SENTIMENT:\tnegative\n",
      "Oh my god, it just doesn't get any worse than this!!! I always love silly little sci-fi B-movies that are so stupid they are funny and I thought that this would be one of those, but this was just so stupid I found it absolutely deplorable that it was allowed to be released. What were these people thinking? They are obviously not real filmmakers and I really hope that they have gone back to their day jobs after realizing that this is the best they could do! The acting and the not-so special effects were nowhere near the standard of even the lowest budget B-movies. And what is with the men dressed up as women, could they not find any women that wanted to appear in this crappy thing. No, probably not.<br /><br />I would give this a \"0\" if possible, it does not even deserve a \"1\" for awful. Do not waste your time (and especially not your money) on this horrible loser of a non-film!\n",
      "\n",
      "8192. SENTIMENT:\tpositive\n",
      "I am glad I saw this film having seen some of the director's other films in the past. I thought the production values was great like the costumes and settings with the bridge. It was interesting to see how the concept of spirit and demons were handled.<br /><br />I do agree with some of the other comments about the fight scenes. They were hard to follow at times.<br /><br />Ultimately, a moral tale. It would be interesting to know what some Japanese viewers thought of the film. It is a film I would like to see again.<br /><br />Some scenes like the ones where Benkai and the Prince were fighting on a \"psychic\" level were well done.<br /><br />I did come out of the cinema thinking what has just happened here. Intense.\n",
      "\n",
      "16384. SENTIMENT:\tnegative\n",
      "I was waiting to welcome Arnold Schwarzeneger's return to action after the dismal movies he'd made after \"Eraser.\" \"End of Days,\" however, can be added to the dismal films he's had the misfortune of appearing in.<br /><br />\"End of Days\" starts well with a gripping action sequence, yet quickly becomes a bore, taking the focus off action and suspense and instead concentrating on the investigation of demonic happenings and the quickly approaching millenium (read \"Doomsday\"). <br /><br />Performances are stale, special effects so-so, and gore plentiful. Considering myself a die-hard Schwarzenegger fan, I couldn't believe I didn't like this film, but with such an awful, lame script, what could Arnie have done, besides passed on this turkey?<br /><br />3 out of 10<br /><br />\n"
     ]
    }
   ],
   "source": [
    "# look into examples to get an intuition about reviews, cleaning etc.\n",
    "ind = [2**k for k in range(15)]\n",
    "for i in ind:\n",
    "    print('\\n{}. SENTIMENT:\\t{}'.format(i,data.sentiment[i]))\n",
    "    print(data.review[i])"
   ]
  },
  {
   "cell_type": "markdown",
   "metadata": {},
   "source": [
    "HTML tags has to be removed (\"<...>\"), transforming \"&\" to \"and\" should be ok. Numbers in range 0-10 should stay, it can be a rate, so NN could find it useful (this number may be element of the movei title too). Words in \"\" heve often negative meaning, so its make a lot of noise, titles etc. are in \"\" also, should be deleted."
   ]
  },
  {
   "cell_type": "code",
   "execution_count": 7,
   "metadata": {},
   "outputs": [],
   "source": [
    "# entry level data clearing\n",
    "# strategy is to substitute with space then remove unnecessary spaces\n",
    "\n",
    "# remove HTML tags\n",
    "data.review = data.review.apply(lambda x: re.sub(\"<.*?>\", \" \", x))\n",
    "# substitute \"&\" with \"and\"\n",
    "data.review = data.review.apply(lambda x: re.sub(\"[&]\", \"and\", x))\n",
    "#remove punctuation, and non alphanumeric characters excluding apostrophe\n",
    "data.review = data.review.apply(lambda x: re.sub(\"[^a-zA-Z0-9 ']\", \" \", x))\n",
    "# remove numbers >10\n",
    "data.review = data.review.apply(lambda x: re.sub(\"([2-9][0-9]|1[1-9]|\\d{3,})\", \" \", x))\n",
    "# delete unnecessary spaces\n",
    "data.review = data.review.apply(lambda x: re.sub(\" +\", \" \", x))\n",
    "# transform to lowercase\n",
    "data.review = data.review.apply(lambda x: x.lower())"
   ]
  },
  {
   "cell_type": "code",
   "execution_count": 8,
   "metadata": {},
   "outputs": [
    {
     "name": "stdout",
     "output_type": "stream",
     "text": [
      "\n",
      "1. SENTIMENT:\tpositive\n",
      "a wonderful little production the filming technique is very unassuming very old time bbc fashion and gives a comforting and sometimes discomforting sense of realism to the entire piece the actors are extremely well chosen michael sheen not only has got all the polari but he has all the voices down pat too you can truly see the seamless editing guided by the references to williams' diary entries not only is it well worth the watching but it is a terrificly written and performed piece a masterful production about one of the great master's of comedy and his life the realism really comes home with the little things the fantasy of the guard which rather than use the traditional 'dream' techniques remains solid then disappears it plays on our knowledge and our senses particularly with the scenes concerning orton and halliwell and the sets particularly of their flat with halliwell's murals decorating every surface are terribly well done \n",
      "\n",
      "2. SENTIMENT:\tpositive\n",
      "i thought this was a wonderful way to spend time on a too hot summer weekend sitting in the air conditioned theater and watching a light hearted comedy the plot is simplistic but the dialogue is witty and the characters are likable even the well bread suspected serial killer while some may be disappointed when they realize this is not match point 2 risk addiction i thought it was proof that woody allen is still fully in control of the style many of us have grown to love this was the most i'd laughed at one of woody's comedies in years dare i say a decade while i've never been impressed with scarlet johanson in this she managed to tone down her sexy image and jumped right into a average but spirited young woman this may not be the crown jewel of his career but it was wittier than devil wears prada and more interesting than superman a great comedy to go see with friends \n",
      "\n",
      "4. SENTIMENT:\tpositive\n",
      "petter mattei's love in the time of money is a visually stunning film to watch mr mattei offers us a vivid portrait about human relations this is a movie that seems to be telling us what money power and success do to people in the different situations we encounter this being a variation on the arthur schnitzler's play about the same theme the director transfers the action to the present time new york where all these different characters meet and connect each one is connected in one way or another to the next person but no one seems to know the previous point of contact stylishly the film has a sophisticated luxurious look we are taken to see how these people live and the world they live in their own habitat the only thing one gets out of all these souls in the picture is the different stages of loneliness each one inhabits a big city is not exactly the best place in which human relations find sincere fulfillment as one discerns is the case with most of the people we encounter the acting is good under mr mattei's direction steve buscemi rosario dawson carol kane michael imperioli adrian grenier and the rest of the talented cast make these characters come alive we wish mr mattei good luck and await anxiously for his next work \n",
      "\n",
      "8. SENTIMENT:\tnegative\n",
      "encouraged by the positive comments about this film on here i was looking forward to watching this film bad mistake i've seen 0 films and this is truly one of the worst of them it's awful in almost every way editing pacing storyline 'acting ' soundtrack the film's only song a lame country tune is played no less than four times the film looks cheap and nasty and is boring in the extreme rarely have i been so happy to see the end credits of a film the only thing that prevents me giving this a 1 score is harvey keitel while this is far from his best performance he at least seems to be making a bit of an effort one for keitel obsessives only \n",
      "\n",
      "16. SENTIMENT:\tpositive\n",
      "some films just simply should not be remade this is one of them in and of itself it is not a bad film but it fails to capture the flavor and the terror of the film of the same title liam neeson was excellent as he always is and most of the cast holds up with the exception of owen wilson who just did not bring the right feel to the character of luke but the major fault with this version is that it strayed too far from the shirley jackson story in it's attempts to be grandiose and lost some of the thrill of the earlier film in a trade off for snazzier special effects again i will say that in and of itself it is not a bad film but you will enjoy the friction of terror in the older version much more \n",
      "\n",
      "32. SENTIMENT:\tnegative\n",
      "my first exposure to the templarios and not a good one i was excited to find this title among the offerings from anchor bay video which has brought us other cult classics such as spider baby the print quality is excellent but this alone can't hide the fact that the film is deadly dull there's a thrilling opening sequence in which the villagers exact a terrible revenge on the templars and set the whole thing in motion but everything else in the movie is slow ponderous and ultimately unfulfilling adding insult to injury the movie was dubbed not subtitled as promised on the video jacket \n",
      "\n",
      "64. SENTIMENT:\tnegative\n",
      "an unmarried woman named stella bette midler gets pregnant by a wealthy man stephen collins he offers to marry her out of a sense of obligation but she turns him down flat and decides to raise the kid on her own things go ok until the child named jenny trini alvarado becomes a teenager and things gradually and predictably become worse i've seen both the silent version and sound version of stella dallas neither one affected me much and i cry easily but they were well made if dated trying to remake this in was just a stupid idea i guess midler had enough power after the incomprehensible success of beaches to get this made this predictably bombed the story is laughable and dated by today's standards even though midler and alvarado give good performances this film really drags and i was bored silly by the end stephen collins and marsha mason both good actors don't help in supporting roles flimsy and dull really who thought this would work see the stanwyck version instead i give this a 1 \n",
      "\n",
      "128. SENTIMENT:\tpositive\n",
      "this movie was one of the best movies that i have seen this year i didn't see any cameos in the movie but it is still pretty good it is similar to anchorman in the humor department but i think this is a better put together movie it actually has a point if you are going to see a whole bunch of tanda you will be disappointed just a well put together movie if you have nothing to do for the day or you need a lot of humor you will find this to be a really good movie i definitely think that ebert and roeper's review of this movie is right on i mean i don't really like ebert on most movies but this is the movie that i will agree about the movie contains a good enough story that it is actually believable that these type of people are out there there is definitely something to be said about how they treat virginity in this movie yea sure you get laughed at when it is found out about but it still suggests that you wait steve did a wonderful job of portraying the person that he did in this movie and yet it is still funny \n",
      "\n",
      "256. SENTIMENT:\tnegative\n",
      "i saw this movie in the middle of the night when i was flipping through the channels and there was nothing else on to watch it's one of those films where you stop to see what it is just for a moment but realize after twenty minutes or so that you just can't turn it off no matter how bad it is one of those movies that is somewhere in between being so bad it's good and so bad it's well just plain bad it's worth seeing just to experience the confusion of realizing that it's both great middle of the night fare if only for the fabulous tennis drag don't even bother asking yourself why nobody can tell that chad lowe is so obviously male because logic does not apply \n",
      "\n",
      "512. SENTIMENT:\tnegative\n",
      "if i had known this movie was filmed in the exasperating and quease inducing dogme style i would never have rented it nevertheless i took a dramamine for the seasickness and gave it a shot i lasted a very very very long forty minutes before giving up it's just boring pretentious twaddle the last french movie i saw was romance and it too was pretty dismal but at least the camera was steady and not breathing down the necks of the characters all the time i am baffled at the continuing popularity of dogme overseas it'll catch on in america about the same time as the next big outbreak of leprosy it's called dogme because that's the average number of times the actors are poked in the eye by the camera \n",
      "\n",
      "1024. SENTIMENT:\tnegative\n",
      "this is a good time to say how good i think of this site it gives me the opportunity to feedback all the frustration i lived for two hours awaiting for something to happens for something to be said to be shown to be insinuated subtly for a symbol an idea whatever no just long endless violins alternated by a tired piano tired voices tired actors and bored characters and situations boring is the long death of the mind and this movie is from that point of view a public enemy how many thousands of live hours will be still stolen to another thousands of innocent spectators i don't claim for my money back just for my time and the time of persons i invited to watch this thing oh god \n",
      "\n",
      "2048. SENTIMENT:\tpositive\n",
      "i have always loved the muppets though most children's entertainment then wasn't that likable the muppet's was the muppet's are very very funny they are probably the most likable children's characters ever not only did the muppets have their own show they also have starred in many films from the muppet's christmas carol to the muppet's treasure island the first muppet's movie the muppet movie was also like the show and the other films excellent the muppet movie is about how they all got started kermit the frog used to live in a swamp until one day a movie executive tells him that there are auditions for frogs in hollywood so kermit takes off for hollywood along the way he runs into lots of people such as fozzie bear gonzo the great and miss piggy also an evil man is trying to capture kermit all of the muppet films are highly enjoyable i mean they are all very funny this film has many film appearances such as steve martin mel brooks elliot gould carol kane richard pryor and orson welles the muppet films are all very enjoyable i hear that jason segel is going to star in one soon i can't wait to see it \n",
      "\n",
      "4096. SENTIMENT:\tnegative\n",
      "oh my god it just doesn't get any worse than this i always love silly little sci fi b movies that are so stupid they are funny and i thought that this would be one of those but this was just so stupid i found it absolutely deplorable that it was allowed to be released what were these people thinking they are obviously not real filmmakers and i really hope that they have gone back to their day jobs after realizing that this is the best they could do the acting and the not so special effects were nowhere near the standard of even the lowest budget b movies and what is with the men dressed up as women could they not find any women that wanted to appear in this crappy thing no probably not i would give this a 0 if possible it does not even deserve a 1 for awful do not waste your time and especially not your money on this horrible loser of a non film \n",
      "\n",
      "8192. SENTIMENT:\tpositive\n",
      "i am glad i saw this film having seen some of the director's other films in the past i thought the production values was great like the costumes and settings with the bridge it was interesting to see how the concept of spirit and demons were handled i do agree with some of the other comments about the fight scenes they were hard to follow at times ultimately a moral tale it would be interesting to know what some japanese viewers thought of the film it is a film i would like to see again some scenes like the ones where benkai and the prince were fighting on a psychic level were well done i did come out of the cinema thinking what has just happened here intense \n",
      "\n",
      "16384. SENTIMENT:\tnegative\n",
      "i was waiting to welcome arnold schwarzeneger's return to action after the dismal movies he'd made after eraser end of days however can be added to the dismal films he's had the misfortune of appearing in end of days starts well with a gripping action sequence yet quickly becomes a bore taking the focus off action and suspense and instead concentrating on the investigation of demonic happenings and the quickly approaching millenium read doomsday performances are stale special effects so so and gore plentiful considering myself a die hard schwarzenegger fan i couldn't believe i didn't like this film but with such an awful lame script what could arnie have done besides passed on this turkey 3 out of 10 \n"
     ]
    }
   ],
   "source": [
    "# look into examples after entry cleaning\n",
    "ind = [2**k for k in range(15)]\n",
    "for i in ind:\n",
    "    print('\\n{}. SENTIMENT:\\t{}'.format(i,data.sentiment[i]))\n",
    "    print(data.review[i])"
   ]
  },
  {
   "cell_type": "markdown",
   "metadata": {},
   "source": [
    "The reviews looks much better now, nevertheless after embedding coverage checking some more detailed cleaning should be performed."
   ]
  },
  {
   "cell_type": "code",
   "execution_count": 9,
   "metadata": {},
   "outputs": [
    {
     "data": {
      "text/html": [
       "<div>\n",
       "<style scoped>\n",
       "    .dataframe tbody tr th:only-of-type {\n",
       "        vertical-align: middle;\n",
       "    }\n",
       "\n",
       "    .dataframe tbody tr th {\n",
       "        vertical-align: top;\n",
       "    }\n",
       "\n",
       "    .dataframe thead th {\n",
       "        text-align: right;\n",
       "    }\n",
       "</style>\n",
       "<table border=\"1\" class=\"dataframe\">\n",
       "  <thead>\n",
       "    <tr style=\"text-align: right;\">\n",
       "      <th></th>\n",
       "      <th>review</th>\n",
       "      <th>sentiment</th>\n",
       "    </tr>\n",
       "  </thead>\n",
       "  <tbody>\n",
       "    <tr>\n",
       "      <th>0</th>\n",
       "      <td>one of the other reviewers has mentioned that ...</td>\n",
       "      <td>positive</td>\n",
       "    </tr>\n",
       "    <tr>\n",
       "      <th>1</th>\n",
       "      <td>a wonderful little production the filming tech...</td>\n",
       "      <td>positive</td>\n",
       "    </tr>\n",
       "    <tr>\n",
       "      <th>2</th>\n",
       "      <td>i thought this was a wonderful way to spend ti...</td>\n",
       "      <td>positive</td>\n",
       "    </tr>\n",
       "    <tr>\n",
       "      <th>3</th>\n",
       "      <td>basically there's a family where a little boy ...</td>\n",
       "      <td>negative</td>\n",
       "    </tr>\n",
       "    <tr>\n",
       "      <th>4</th>\n",
       "      <td>petter mattei's love in the time of money is a...</td>\n",
       "      <td>positive</td>\n",
       "    </tr>\n",
       "    <tr>\n",
       "      <th>...</th>\n",
       "      <td>...</td>\n",
       "      <td>...</td>\n",
       "    </tr>\n",
       "    <tr>\n",
       "      <th>49995</th>\n",
       "      <td>i thought this movie did a down right good job...</td>\n",
       "      <td>positive</td>\n",
       "    </tr>\n",
       "    <tr>\n",
       "      <th>49996</th>\n",
       "      <td>bad plot bad dialogue bad acting idiotic direc...</td>\n",
       "      <td>negative</td>\n",
       "    </tr>\n",
       "    <tr>\n",
       "      <th>49997</th>\n",
       "      <td>i am a catholic taught in parochial elementary...</td>\n",
       "      <td>negative</td>\n",
       "    </tr>\n",
       "    <tr>\n",
       "      <th>49998</th>\n",
       "      <td>i'm going to have to disagree with the previou...</td>\n",
       "      <td>negative</td>\n",
       "    </tr>\n",
       "    <tr>\n",
       "      <th>49999</th>\n",
       "      <td>no one expects the star trek movies to be high...</td>\n",
       "      <td>negative</td>\n",
       "    </tr>\n",
       "  </tbody>\n",
       "</table>\n",
       "<p>50000 rows × 2 columns</p>\n",
       "</div>"
      ],
      "text/plain": [
       "                                                  review sentiment\n",
       "0      one of the other reviewers has mentioned that ...  positive\n",
       "1      a wonderful little production the filming tech...  positive\n",
       "2      i thought this was a wonderful way to spend ti...  positive\n",
       "3      basically there's a family where a little boy ...  negative\n",
       "4      petter mattei's love in the time of money is a...  positive\n",
       "...                                                  ...       ...\n",
       "49995  i thought this movie did a down right good job...  positive\n",
       "49996  bad plot bad dialogue bad acting idiotic direc...  negative\n",
       "49997  i am a catholic taught in parochial elementary...  negative\n",
       "49998  i'm going to have to disagree with the previou...  negative\n",
       "49999  no one expects the star trek movies to be high...  negative\n",
       "\n",
       "[50000 rows x 2 columns]"
      ]
     },
     "execution_count": 9,
     "metadata": {},
     "output_type": "execute_result"
    }
   ],
   "source": [
    "# look into dataset structure\n",
    "data"
   ]
  },
  {
   "cell_type": "markdown",
   "metadata": {},
   "source": [
    "Look that the entry level clearing is done, now it is time to encode positive reviews as 1 and negative as 0."
   ]
  },
  {
   "cell_type": "code",
   "execution_count": 10,
   "metadata": {},
   "outputs": [],
   "source": [
    "# label encoding\n",
    "data.sentiment = data.sentiment.apply(lambda x: 1 if x == \"positive\" else 0)"
   ]
  },
  {
   "cell_type": "markdown",
   "metadata": {},
   "source": [
    "##### Dataset splitting - train, dev, test sets"
   ]
  },
  {
   "cell_type": "markdown",
   "metadata": {},
   "source": [
    "Data were splitted into 3 sets (by hand). Train set is for model training, dev set is for training monitoring, and test set is for checking model results and compare it with VADER."
   ]
  },
  {
   "cell_type": "code",
   "execution_count": 11,
   "metadata": {},
   "outputs": [],
   "source": [
    "# shuffling\n",
    "data = data.sample(frac = 1, random_state = 2021)"
   ]
  },
  {
   "cell_type": "code",
   "execution_count": 12,
   "metadata": {},
   "outputs": [],
   "source": [
    "# proportions\n",
    "train_size = 0.7\n",
    "dev_size = 0.2\n",
    "test_size = 0.1\n",
    "\n",
    "# extracting training featuers and labels\n",
    "train = data.iloc[range(int(data.shape[0]*train_size)), :].copy()\n",
    "X_train = train.review.values\n",
    "Y_train = train.sentiment.values\n",
    "\n",
    "# extracting dev featuers and labels\n",
    "dev = data.iloc[range(train.shape[0], train.shape[0]+int(data.shape[0]*dev_size)), :].copy()\n",
    "X_dev = dev.review.values\n",
    "Y_dev = dev.sentiment.values\n",
    "\n",
    "# extracting test featuers and labels\n",
    "test = data.iloc[range(train.shape[0]+dev.shape[0], data.shape[0]), :].copy()\n",
    "X_test = test.review.values\n",
    "Y_test = test.sentiment.values"
   ]
  },
  {
   "cell_type": "code",
   "execution_count": 13,
   "metadata": {},
   "outputs": [
    {
     "name": "stdout",
     "output_type": "stream",
     "text": [
      "split is ok: True\n"
     ]
    }
   ],
   "source": [
    "# double check\n",
    "tr_ind = train.index.tolist()\n",
    "tr_ind.extend(dev.index.tolist())\n",
    "tr_ind.extend(test.index.tolist())\n",
    "\n",
    "print(\"split is ok:\", data.index.tolist()==tr_ind)"
   ]
  },
  {
   "cell_type": "markdown",
   "metadata": {},
   "source": [
    "##### Loading embedding vocabulary and adding an unknown token"
   ]
  },
  {
   "cell_type": "markdown",
   "metadata": {},
   "source": [
    "A this stage the pretrained embeddings have to be implemented. In the main analysis GloVe 100 dimensional matrix was used. Model's sensitivity to GloVe embedding dimension analysis was performed at the end."
   ]
  },
  {
   "cell_type": "code",
   "execution_count": 15,
   "metadata": {},
   "outputs": [
    {
     "name": "stdout",
     "output_type": "stream",
     "text": [
      "Found 400000 word vectors.\n"
     ]
    }
   ],
   "source": [
    "# dictionary inicialization\n",
    "embeddings_index = {}\n",
    "\n",
    "# file opening with utf8 encoding (some characters may cause an error)\n",
    "f = open(\"glove.6B.100d.txt\", encoding=\"utf8\")\n",
    "for line in f:\n",
    "    values = line.split()\n",
    "    word = values[0]\n",
    "    coefs = np.asarray(values[1:], dtype='float32')\n",
    "    embeddings_index[word] = coefs\n",
    "f.close()\n",
    "\n",
    "print('Found {} word vectors.'.format(len(embeddings_index)))"
   ]
  },
  {
   "cell_type": "code",
   "execution_count": 16,
   "metadata": {},
   "outputs": [],
   "source": [
    "# look for different-shaped embeddings (in the case of glove 300 some lower-dimension examples were found)\n",
    "\n",
    "# inicialize dict (key: word, value: embedding shape)\n",
    "words = {}\n",
    "# position, to check if there is a pattern\n",
    "iis = []\n",
    "\n",
    "# loop\n",
    "for i, word in enumerate(embeddings_index.keys()):\n",
    "    # current word embedding shape\n",
    "    shape = embeddings_index[word].shape[0]\n",
    "    # condtition check (100 because current glove has 100 dimension vectors)\n",
    "    if shape != 100:\n",
    "        # saving\n",
    "        words[word] = shape\n",
    "        iis.append(i)"
   ]
  },
  {
   "cell_type": "code",
   "execution_count": 17,
   "metadata": {},
   "outputs": [
    {
     "data": {
      "text/plain": [
       "{}"
      ]
     },
     "execution_count": 17,
     "metadata": {},
     "output_type": "execute_result"
    }
   ],
   "source": [
    "# check\n",
    "words"
   ]
  },
  {
   "cell_type": "markdown",
   "metadata": {},
   "source": [
    "All the embedding has the same dimension, that is good <br>\n",
    "If the word from dataset can't be found, a special, unknown token OOV has been assigned to it. OOV token is an average of all the other tokens.\n"
   ]
  },
  {
   "cell_type": "code",
   "execution_count": 18,
   "metadata": {},
   "outputs": [
    {
     "name": "stdout",
     "output_type": "stream",
     "text": [
      "Execution time: 0.2 seconds\n"
     ]
    }
   ],
   "source": [
    "# unknown token computation\n",
    "start = time.time()\n",
    "unknown = sum(embeddings_index.values())/len(embeddings_index)\n",
    "stop = time.time()\n",
    "print(\"Execution time: {} seconds\".format(round(stop-start, 2)))"
   ]
  },
  {
   "cell_type": "code",
   "execution_count": 19,
   "metadata": {},
   "outputs": [],
   "source": [
    "# saving computed unknown to embedding\n",
    "embeddings_index[\"<OOV>\"] = unknown"
   ]
  },
  {
   "cell_type": "markdown",
   "metadata": {},
   "source": [
    "##### Vocabulary analysis (embedding coverage, more advanced cleaning, EDA)"
   ]
  },
  {
   "cell_type": "code",
   "execution_count": 20,
   "metadata": {},
   "outputs": [],
   "source": [
    "def get_vocabulary(data, return_dataframe = False):\n",
    "    '''\n",
    "    function creates vocabulary for given series of sentences\n",
    "    data - pd.Series with with text data\n",
    "    return_dataframe - return sorted pandas DataFrame if True \n",
    "    \n",
    "    return vocabulary (dictionary, keys: words, values: counts or dataframe sorted by occurrence)\n",
    "    '''\n",
    "    # dictionary inicialization\n",
    "    vocabulary = {}\n",
    "        \n",
    "    # sentence level loop\n",
    "    for sentence in data:\n",
    "        words = sentence.split()\n",
    "        # word level loop\n",
    "        for word in words:\n",
    "            if word not in vocabulary.keys():\n",
    "                vocabulary[word] = 1\n",
    "            else:\n",
    "                vocabulary[word] += 1\n",
    "                \n",
    "    # sorting\n",
    "    if return_dataframe:\n",
    "        vocabulary = pd.DataFrame(vocabulary.items(), columns = [\"word\", \"count\"]).sort_values(\"count\", ascending = False)\n",
    "            \n",
    "    return vocabulary"
   ]
  },
  {
   "cell_type": "code",
   "execution_count": 21,
   "metadata": {},
   "outputs": [],
   "source": [
    "def coverage(data, embedding, info = False):\n",
    "    '''\n",
    "    function to check coverage with given embedding\n",
    "    data - pd.Series with text data\n",
    "    embedding - word embedding dictionary\n",
    "    info - coverage percentage printed if true - two measures (occurrence weighting and raw)\n",
    "    \n",
    "    return covered, non_covered (dicts key: word, value: count) \n",
    "    '''\n",
    "    \n",
    "    # get vocabulary\n",
    "    vocabulary = get_vocabulary(data)\n",
    "    \n",
    "    # inicialization\n",
    "    covered = {}\n",
    "    non_covered = {}\n",
    "    \n",
    "    # loop through vocabulary\n",
    "    for word in vocabulary.keys():\n",
    "        if word in embedding.keys():\n",
    "            covered[word] = vocabulary[word]\n",
    "        else:\n",
    "            non_covered[word] = vocabulary[word]\n",
    "    \n",
    "    # DataFrame conversion\n",
    "    covered = pd.DataFrame(covered.items(), columns = [\"word\", \"count\"]).sort_values(\"count\", ascending = False)\n",
    "    non_covered = pd.DataFrame(non_covered.items(), columns = [\"word\", \"count\"]).sort_values(\"count\", ascending = False)\n",
    "    \n",
    "    if info:\n",
    "        print(\"Covered words percentage: {}% raw: {}%\".format(round(\n",
    "            100 * covered[\"count\"].sum()/(covered[\"count\"].sum()+non_covered[\"count\"].sum()),\n",
    "            4), round(100 * covered.shape[0]/(covered.shape[0]+non_covered.shape[0]), 4)))\n",
    "        print(\"Non-covered words percentage: {}% raw: {}%\".format(round(\n",
    "            100 * non_covered[\"count\"].sum()/(covered[\"count\"].sum()+non_covered[\"count\"].sum()), \n",
    "            4), round(100 * non_covered.shape[0]/(covered.shape[0]+non_covered.shape[0]), 4)))\n",
    "    \n",
    "    \n",
    "    return covered, non_covered"
   ]
  },
  {
   "cell_type": "markdown",
   "metadata": {},
   "source": [
    "GloVe coverage analysis"
   ]
  },
  {
   "cell_type": "code",
   "execution_count": 22,
   "metadata": {},
   "outputs": [
    {
     "name": "stdout",
     "output_type": "stream",
     "text": [
      "Covered words percentage: 97.4941% raw: 65.254%\n",
      "Non-covered words percentage: 2.5059% raw: 34.746%\n"
     ]
    }
   ],
   "source": [
    "cov, non_cov = coverage(X_train, embeddings_index, info = True)"
   ]
  },
  {
   "cell_type": "markdown",
   "metadata": {},
   "source": [
    "As it can be see GloVe covers 97.49% of the whole vocabulary (weighted by occurance) used in those reviews and 65.25% of the unique words. Improvement attempt was made below.\n",
    "\n",
    "To perform more specyfic data cleaning, most frequent uncovered words were analyzed to check whether there were some contractions like it's etc. The analysis was performed on the train set"
   ]
  },
  {
   "cell_type": "code",
   "execution_count": 22,
   "metadata": {},
   "outputs": [
    {
     "data": {
      "text/html": [
       "<div>\n",
       "<style scoped>\n",
       "    .dataframe tbody tr th:only-of-type {\n",
       "        vertical-align: middle;\n",
       "    }\n",
       "\n",
       "    .dataframe tbody tr th {\n",
       "        vertical-align: top;\n",
       "    }\n",
       "\n",
       "    .dataframe thead th {\n",
       "        text-align: right;\n",
       "    }\n",
       "</style>\n",
       "<table border=\"1\" class=\"dataframe\">\n",
       "  <thead>\n",
       "    <tr style=\"text-align: right;\">\n",
       "      <th></th>\n",
       "      <th>word</th>\n",
       "      <th>count</th>\n",
       "    </tr>\n",
       "  </thead>\n",
       "  <tbody>\n",
       "    <tr>\n",
       "      <th>11</th>\n",
       "      <td>it's</td>\n",
       "      <td>23457</td>\n",
       "    </tr>\n",
       "    <tr>\n",
       "      <th>32</th>\n",
       "      <td>don't</td>\n",
       "      <td>11880</td>\n",
       "    </tr>\n",
       "    <tr>\n",
       "      <th>23</th>\n",
       "      <td>i'm</td>\n",
       "      <td>6537</td>\n",
       "    </tr>\n",
       "    <tr>\n",
       "      <th>13</th>\n",
       "      <td>doesn't</td>\n",
       "      <td>6198</td>\n",
       "    </tr>\n",
       "    <tr>\n",
       "      <th>7</th>\n",
       "      <td>didn't</td>\n",
       "      <td>6115</td>\n",
       "    </tr>\n",
       "    <tr>\n",
       "      <th>107</th>\n",
       "      <td>can't</td>\n",
       "      <td>4904</td>\n",
       "    </tr>\n",
       "    <tr>\n",
       "      <th>4</th>\n",
       "      <td>that's</td>\n",
       "      <td>4713</td>\n",
       "    </tr>\n",
       "    <tr>\n",
       "      <th>8</th>\n",
       "      <td>i've</td>\n",
       "      <td>4656</td>\n",
       "    </tr>\n",
       "    <tr>\n",
       "      <th>40</th>\n",
       "      <td>isn't</td>\n",
       "      <td>4314</td>\n",
       "    </tr>\n",
       "    <tr>\n",
       "      <th>3</th>\n",
       "      <td>there's</td>\n",
       "      <td>4274</td>\n",
       "    </tr>\n",
       "    <tr>\n",
       "      <th>5</th>\n",
       "      <td>he's</td>\n",
       "      <td>4001</td>\n",
       "    </tr>\n",
       "    <tr>\n",
       "      <th>33</th>\n",
       "      <td>wasn't</td>\n",
       "      <td>3112</td>\n",
       "    </tr>\n",
       "    <tr>\n",
       "      <th>22</th>\n",
       "      <td>you're</td>\n",
       "      <td>2658</td>\n",
       "    </tr>\n",
       "    <tr>\n",
       "      <th>55</th>\n",
       "      <td>couldn't</td>\n",
       "      <td>2130</td>\n",
       "    </tr>\n",
       "    <tr>\n",
       "      <th>64</th>\n",
       "      <td>you'll</td>\n",
       "      <td>1861</td>\n",
       "    </tr>\n",
       "    <tr>\n",
       "      <th>31</th>\n",
       "      <td>she's</td>\n",
       "      <td>1856</td>\n",
       "    </tr>\n",
       "    <tr>\n",
       "      <th>106</th>\n",
       "      <td>i'd</td>\n",
       "      <td>1791</td>\n",
       "    </tr>\n",
       "    <tr>\n",
       "      <th>193</th>\n",
       "      <td>they're</td>\n",
       "      <td>1766</td>\n",
       "    </tr>\n",
       "    <tr>\n",
       "      <th>228</th>\n",
       "      <td>won't</td>\n",
       "      <td>1707</td>\n",
       "    </tr>\n",
       "    <tr>\n",
       "      <th>151</th>\n",
       "      <td>wouldn't</td>\n",
       "      <td>1455</td>\n",
       "    </tr>\n",
       "    <tr>\n",
       "      <th>159</th>\n",
       "      <td>i'll</td>\n",
       "      <td>1358</td>\n",
       "    </tr>\n",
       "    <tr>\n",
       "      <th>27</th>\n",
       "      <td>film's</td>\n",
       "      <td>1349</td>\n",
       "    </tr>\n",
       "    <tr>\n",
       "      <th>132</th>\n",
       "      <td>aren't</td>\n",
       "      <td>1231</td>\n",
       "    </tr>\n",
       "    <tr>\n",
       "      <th>87</th>\n",
       "      <td>haven't</td>\n",
       "      <td>1122</td>\n",
       "    </tr>\n",
       "    <tr>\n",
       "      <th>41</th>\n",
       "      <td>what's</td>\n",
       "      <td>1081</td>\n",
       "    </tr>\n",
       "    <tr>\n",
       "      <th>120</th>\n",
       "      <td>you've</td>\n",
       "      <td>1018</td>\n",
       "    </tr>\n",
       "    <tr>\n",
       "      <th>141</th>\n",
       "      <td>who's</td>\n",
       "      <td>974</td>\n",
       "    </tr>\n",
       "    <tr>\n",
       "      <th>43</th>\n",
       "      <td>let's</td>\n",
       "      <td>942</td>\n",
       "    </tr>\n",
       "    <tr>\n",
       "      <th>239</th>\n",
       "      <td>'the</td>\n",
       "      <td>834</td>\n",
       "    </tr>\n",
       "    <tr>\n",
       "      <th>65</th>\n",
       "      <td>we're</td>\n",
       "      <td>780</td>\n",
       "    </tr>\n",
       "  </tbody>\n",
       "</table>\n",
       "</div>"
      ],
      "text/plain": [
       "         word  count\n",
       "11       it's  23457\n",
       "32      don't  11880\n",
       "23        i'm   6537\n",
       "13    doesn't   6198\n",
       "7      didn't   6115\n",
       "107     can't   4904\n",
       "4      that's   4713\n",
       "8        i've   4656\n",
       "40      isn't   4314\n",
       "3     there's   4274\n",
       "5        he's   4001\n",
       "33     wasn't   3112\n",
       "22     you're   2658\n",
       "55   couldn't   2130\n",
       "64     you'll   1861\n",
       "31      she's   1856\n",
       "106       i'd   1791\n",
       "193   they're   1766\n",
       "228     won't   1707\n",
       "151  wouldn't   1455\n",
       "159      i'll   1358\n",
       "27     film's   1349\n",
       "132    aren't   1231\n",
       "87    haven't   1122\n",
       "41     what's   1081\n",
       "120    you've   1018\n",
       "141     who's    974\n",
       "43      let's    942\n",
       "239      'the    834\n",
       "65      we're    780"
      ]
     },
     "execution_count": 22,
     "metadata": {},
     "output_type": "execute_result"
    }
   ],
   "source": [
    "non_cov.iloc[:30,:]"
   ]
  },
  {
   "cell_type": "code",
   "execution_count": 23,
   "metadata": {},
   "outputs": [
    {
     "data": {
      "text/html": [
       "<div>\n",
       "<style scoped>\n",
       "    .dataframe tbody tr th:only-of-type {\n",
       "        vertical-align: middle;\n",
       "    }\n",
       "\n",
       "    .dataframe tbody tr th {\n",
       "        vertical-align: top;\n",
       "    }\n",
       "\n",
       "    .dataframe thead th {\n",
       "        text-align: right;\n",
       "    }\n",
       "</style>\n",
       "<table border=\"1\" class=\"dataframe\">\n",
       "  <thead>\n",
       "    <tr style=\"text-align: right;\">\n",
       "      <th></th>\n",
       "      <th>word</th>\n",
       "      <th>count</th>\n",
       "    </tr>\n",
       "  </thead>\n",
       "  <tbody>\n",
       "    <tr>\n",
       "      <th>232</th>\n",
       "      <td>weren't</td>\n",
       "      <td>665</td>\n",
       "    </tr>\n",
       "    <tr>\n",
       "      <th>264</th>\n",
       "      <td>movie's</td>\n",
       "      <td>548</td>\n",
       "    </tr>\n",
       "    <tr>\n",
       "      <th>209</th>\n",
       "      <td>you'd</td>\n",
       "      <td>538</td>\n",
       "    </tr>\n",
       "    <tr>\n",
       "      <th>162</th>\n",
       "      <td>hasn't</td>\n",
       "      <td>485</td>\n",
       "    </tr>\n",
       "    <tr>\n",
       "      <th>165</th>\n",
       "      <td>man's</td>\n",
       "      <td>471</td>\n",
       "    </tr>\n",
       "    <tr>\n",
       "      <th>448</th>\n",
       "      <td>shouldn't</td>\n",
       "      <td>471</td>\n",
       "    </tr>\n",
       "    <tr>\n",
       "      <th>208</th>\n",
       "      <td>character's</td>\n",
       "      <td>411</td>\n",
       "    </tr>\n",
       "    <tr>\n",
       "      <th>255</th>\n",
       "      <td>director's</td>\n",
       "      <td>392</td>\n",
       "    </tr>\n",
       "    <tr>\n",
       "      <th>324</th>\n",
       "      <td>today's</td>\n",
       "      <td>380</td>\n",
       "    </tr>\n",
       "    <tr>\n",
       "      <th>183</th>\n",
       "      <td>here's</td>\n",
       "      <td>368</td>\n",
       "    </tr>\n",
       "    <tr>\n",
       "      <th>152</th>\n",
       "      <td>hadn't</td>\n",
       "      <td>364</td>\n",
       "    </tr>\n",
       "    <tr>\n",
       "      <th>21</th>\n",
       "      <td>we've</td>\n",
       "      <td>351</td>\n",
       "    </tr>\n",
       "    <tr>\n",
       "      <th>320</th>\n",
       "      <td>one's</td>\n",
       "      <td>347</td>\n",
       "    </tr>\n",
       "    <tr>\n",
       "      <th>483</th>\n",
       "      <td>they've</td>\n",
       "      <td>309</td>\n",
       "    </tr>\n",
       "    <tr>\n",
       "      <th>388</th>\n",
       "      <td>children's</td>\n",
       "      <td>270</td>\n",
       "    </tr>\n",
       "    <tr>\n",
       "      <th>16</th>\n",
       "      <td>ain't</td>\n",
       "      <td>258</td>\n",
       "    </tr>\n",
       "    <tr>\n",
       "      <th>655</th>\n",
       "      <td>would've</td>\n",
       "      <td>249</td>\n",
       "    </tr>\n",
       "    <tr>\n",
       "      <th>346</th>\n",
       "      <td>could've</td>\n",
       "      <td>245</td>\n",
       "    </tr>\n",
       "    <tr>\n",
       "      <th>1074</th>\n",
       "      <td>he'd</td>\n",
       "      <td>241</td>\n",
       "    </tr>\n",
       "    <tr>\n",
       "      <th>462</th>\n",
       "      <td>father's</td>\n",
       "      <td>228</td>\n",
       "    </tr>\n",
       "    <tr>\n",
       "      <th>66</th>\n",
       "      <td>people's</td>\n",
       "      <td>210</td>\n",
       "    </tr>\n",
       "    <tr>\n",
       "      <th>1470</th>\n",
       "      <td>woman's</td>\n",
       "      <td>194</td>\n",
       "    </tr>\n",
       "    <tr>\n",
       "      <th>1089</th>\n",
       "      <td>we'll</td>\n",
       "      <td>179</td>\n",
       "    </tr>\n",
       "    <tr>\n",
       "      <th>601</th>\n",
       "      <td>they'd</td>\n",
       "      <td>174</td>\n",
       "    </tr>\n",
       "    <tr>\n",
       "      <th>1279</th>\n",
       "      <td>it'll</td>\n",
       "      <td>172</td>\n",
       "    </tr>\n",
       "    <tr>\n",
       "      <th>887</th>\n",
       "      <td>they'll</td>\n",
       "      <td>169</td>\n",
       "    </tr>\n",
       "    <tr>\n",
       "      <th>1255</th>\n",
       "      <td>world's</td>\n",
       "      <td>166</td>\n",
       "    </tr>\n",
       "    <tr>\n",
       "      <th>367</th>\n",
       "      <td>everyone's</td>\n",
       "      <td>160</td>\n",
       "    </tr>\n",
       "    <tr>\n",
       "      <th>402</th>\n",
       "      <td>he'll</td>\n",
       "      <td>156</td>\n",
       "    </tr>\n",
       "    <tr>\n",
       "      <th>530</th>\n",
       "      <td>girl's</td>\n",
       "      <td>150</td>\n",
       "    </tr>\n",
       "  </tbody>\n",
       "</table>\n",
       "</div>"
      ],
      "text/plain": [
       "             word  count\n",
       "232       weren't    665\n",
       "264       movie's    548\n",
       "209         you'd    538\n",
       "162        hasn't    485\n",
       "165         man's    471\n",
       "448     shouldn't    471\n",
       "208   character's    411\n",
       "255    director's    392\n",
       "324       today's    380\n",
       "183        here's    368\n",
       "152        hadn't    364\n",
       "21          we've    351\n",
       "320         one's    347\n",
       "483       they've    309\n",
       "388    children's    270\n",
       "16          ain't    258\n",
       "655      would've    249\n",
       "346      could've    245\n",
       "1074         he'd    241\n",
       "462      father's    228\n",
       "66       people's    210\n",
       "1470      woman's    194\n",
       "1089        we'll    179\n",
       "601        they'd    174\n",
       "1279        it'll    172\n",
       "887       they'll    169\n",
       "1255      world's    166\n",
       "367    everyone's    160\n",
       "402         he'll    156\n",
       "530        girl's    150"
      ]
     },
     "execution_count": 23,
     "metadata": {},
     "output_type": "execute_result"
    }
   ],
   "source": [
    "non_cov.iloc[30:60,:]"
   ]
  },
  {
   "cell_type": "code",
   "execution_count": 24,
   "metadata": {},
   "outputs": [
    {
     "data": {
      "text/html": [
       "<div>\n",
       "<style scoped>\n",
       "    .dataframe tbody tr th:only-of-type {\n",
       "        vertical-align: middle;\n",
       "    }\n",
       "\n",
       "    .dataframe tbody tr th {\n",
       "        vertical-align: top;\n",
       "    }\n",
       "\n",
       "    .dataframe thead th {\n",
       "        text-align: right;\n",
       "    }\n",
       "</style>\n",
       "<table border=\"1\" class=\"dataframe\">\n",
       "  <thead>\n",
       "    <tr style=\"text-align: right;\">\n",
       "      <th></th>\n",
       "      <th>word</th>\n",
       "      <th>count</th>\n",
       "    </tr>\n",
       "  </thead>\n",
       "  <tbody>\n",
       "    <tr>\n",
       "      <th>404</th>\n",
       "      <td>show's</td>\n",
       "      <td>150</td>\n",
       "    </tr>\n",
       "    <tr>\n",
       "      <th>592</th>\n",
       "      <td>mother's</td>\n",
       "      <td>146</td>\n",
       "    </tr>\n",
       "    <tr>\n",
       "      <th>321</th>\n",
       "      <td>hitchcock's</td>\n",
       "      <td>143</td>\n",
       "    </tr>\n",
       "    <tr>\n",
       "      <th>104</th>\n",
       "      <td>someone's</td>\n",
       "      <td>142</td>\n",
       "    </tr>\n",
       "    <tr>\n",
       "      <th>331</th>\n",
       "      <td>guy's</td>\n",
       "      <td>138</td>\n",
       "    </tr>\n",
       "    <tr>\n",
       "      <th>1040</th>\n",
       "      <td>characters'</td>\n",
       "      <td>128</td>\n",
       "    </tr>\n",
       "    <tr>\n",
       "      <th>1092</th>\n",
       "      <td>god's</td>\n",
       "      <td>126</td>\n",
       "    </tr>\n",
       "    <tr>\n",
       "      <th>997</th>\n",
       "      <td>america's</td>\n",
       "      <td>126</td>\n",
       "    </tr>\n",
       "    <tr>\n",
       "      <th>259</th>\n",
       "      <td>hollywood's</td>\n",
       "      <td>125</td>\n",
       "    </tr>\n",
       "    <tr>\n",
       "      <th>613</th>\n",
       "      <td>year's</td>\n",
       "      <td>124</td>\n",
       "    </tr>\n",
       "    <tr>\n",
       "      <th>58</th>\n",
       "      <td>wife's</td>\n",
       "      <td>120</td>\n",
       "    </tr>\n",
       "    <tr>\n",
       "      <th>1842</th>\n",
       "      <td>king's</td>\n",
       "      <td>115</td>\n",
       "    </tr>\n",
       "    <tr>\n",
       "      <th>704</th>\n",
       "      <td>women's</td>\n",
       "      <td>114</td>\n",
       "    </tr>\n",
       "    <tr>\n",
       "      <th>98</th>\n",
       "      <td>where's</td>\n",
       "      <td>114</td>\n",
       "    </tr>\n",
       "    <tr>\n",
       "      <th>1226</th>\n",
       "      <td>family's</td>\n",
       "      <td>112</td>\n",
       "    </tr>\n",
       "    <tr>\n",
       "      <th>771</th>\n",
       "      <td>actor's</td>\n",
       "      <td>110</td>\n",
       "    </tr>\n",
       "    <tr>\n",
       "      <th>327</th>\n",
       "      <td>child's</td>\n",
       "      <td>105</td>\n",
       "    </tr>\n",
       "    <tr>\n",
       "      <th>718</th>\n",
       "      <td>husband's</td>\n",
       "      <td>104</td>\n",
       "    </tr>\n",
       "    <tr>\n",
       "      <th>283</th>\n",
       "      <td>other's</td>\n",
       "      <td>103</td>\n",
       "    </tr>\n",
       "    <tr>\n",
       "      <th>1100</th>\n",
       "      <td>kid's</td>\n",
       "      <td>103</td>\n",
       "    </tr>\n",
       "    <tr>\n",
       "      <th>2110</th>\n",
       "      <td>we'd</td>\n",
       "      <td>99</td>\n",
       "    </tr>\n",
       "    <tr>\n",
       "      <th>894</th>\n",
       "      <td>friend's</td>\n",
       "      <td>98</td>\n",
       "    </tr>\n",
       "    <tr>\n",
       "      <th>343</th>\n",
       "      <td>should've</td>\n",
       "      <td>98</td>\n",
       "    </tr>\n",
       "    <tr>\n",
       "      <th>1953</th>\n",
       "      <td>disney's</td>\n",
       "      <td>96</td>\n",
       "    </tr>\n",
       "    <tr>\n",
       "      <th>5877</th>\n",
       "      <td>carpenter's</td>\n",
       "      <td>95</td>\n",
       "    </tr>\n",
       "    <tr>\n",
       "      <th>1641</th>\n",
       "      <td>viewer's</td>\n",
       "      <td>95</td>\n",
       "    </tr>\n",
       "    <tr>\n",
       "      <th>187</th>\n",
       "      <td>shakespeare's</td>\n",
       "      <td>95</td>\n",
       "    </tr>\n",
       "    <tr>\n",
       "      <th>1792</th>\n",
       "      <td>anyone's</td>\n",
       "      <td>94</td>\n",
       "    </tr>\n",
       "    <tr>\n",
       "      <th>553</th>\n",
       "      <td>boy's</td>\n",
       "      <td>93</td>\n",
       "    </tr>\n",
       "    <tr>\n",
       "      <th>216</th>\n",
       "      <td>jackson's</td>\n",
       "      <td>92</td>\n",
       "    </tr>\n",
       "  </tbody>\n",
       "</table>\n",
       "</div>"
      ],
      "text/plain": [
       "               word  count\n",
       "404          show's    150\n",
       "592        mother's    146\n",
       "321     hitchcock's    143\n",
       "104       someone's    142\n",
       "331           guy's    138\n",
       "1040    characters'    128\n",
       "1092          god's    126\n",
       "997       america's    126\n",
       "259     hollywood's    125\n",
       "613          year's    124\n",
       "58           wife's    120\n",
       "1842         king's    115\n",
       "704         women's    114\n",
       "98          where's    114\n",
       "1226       family's    112\n",
       "771         actor's    110\n",
       "327         child's    105\n",
       "718       husband's    104\n",
       "283         other's    103\n",
       "1100          kid's    103\n",
       "2110           we'd     99\n",
       "894        friend's     98\n",
       "343       should've     98\n",
       "1953       disney's     96\n",
       "5877    carpenter's     95\n",
       "1641       viewer's     95\n",
       "187   shakespeare's     95\n",
       "1792       anyone's     94\n",
       "553           boy's     93\n",
       "216       jackson's     92"
      ]
     },
     "execution_count": 24,
     "metadata": {},
     "output_type": "execute_result"
    }
   ],
   "source": [
    "non_cov.iloc[60:90,:]"
   ]
  },
  {
   "cell_type": "code",
   "execution_count": 25,
   "metadata": {},
   "outputs": [
    {
     "data": {
      "text/html": [
       "<div>\n",
       "<style scoped>\n",
       "    .dataframe tbody tr th:only-of-type {\n",
       "        vertical-align: middle;\n",
       "    }\n",
       "\n",
       "    .dataframe tbody tr th {\n",
       "        vertical-align: top;\n",
       "    }\n",
       "\n",
       "    .dataframe thead th {\n",
       "        text-align: right;\n",
       "    }\n",
       "</style>\n",
       "<table border=\"1\" class=\"dataframe\">\n",
       "  <thead>\n",
       "    <tr style=\"text-align: right;\">\n",
       "      <th></th>\n",
       "      <th>word</th>\n",
       "      <th>count</th>\n",
       "    </tr>\n",
       "  </thead>\n",
       "  <tbody>\n",
       "    <tr>\n",
       "      <th>737</th>\n",
       "      <td>devil's</td>\n",
       "      <td>90</td>\n",
       "    </tr>\n",
       "    <tr>\n",
       "      <th>86</th>\n",
       "      <td>actors'</td>\n",
       "      <td>86</td>\n",
       "    </tr>\n",
       "    <tr>\n",
       "      <th>915</th>\n",
       "      <td>son's</td>\n",
       "      <td>85</td>\n",
       "    </tr>\n",
       "    <tr>\n",
       "      <th>1755</th>\n",
       "      <td>ford's</td>\n",
       "      <td>84</td>\n",
       "    </tr>\n",
       "    <tr>\n",
       "      <th>149</th>\n",
       "      <td>she'd</td>\n",
       "      <td>83</td>\n",
       "    </tr>\n",
       "    <tr>\n",
       "      <th>45</th>\n",
       "      <td>killer's</td>\n",
       "      <td>83</td>\n",
       "    </tr>\n",
       "    <tr>\n",
       "      <th>285</th>\n",
       "      <td>daughter's</td>\n",
       "      <td>82</td>\n",
       "    </tr>\n",
       "    <tr>\n",
       "      <th>2051</th>\n",
       "      <td>she'll</td>\n",
       "      <td>81</td>\n",
       "    </tr>\n",
       "    <tr>\n",
       "      <th>836</th>\n",
       "      <td>chaplin's</td>\n",
       "      <td>80</td>\n",
       "    </tr>\n",
       "    <tr>\n",
       "      <th>4182</th>\n",
       "      <td>brother's</td>\n",
       "      <td>80</td>\n",
       "    </tr>\n",
       "    <tr>\n",
       "      <th>1360</th>\n",
       "      <td>life's</td>\n",
       "      <td>78</td>\n",
       "    </tr>\n",
       "    <tr>\n",
       "      <th>1198</th>\n",
       "      <td>story's</td>\n",
       "      <td>77</td>\n",
       "    </tr>\n",
       "    <tr>\n",
       "      <th>1194</th>\n",
       "      <td>lynch's</td>\n",
       "      <td>75</td>\n",
       "    </tr>\n",
       "    <tr>\n",
       "      <th>2297</th>\n",
       "      <td>else's</td>\n",
       "      <td>75</td>\n",
       "    </tr>\n",
       "    <tr>\n",
       "      <th>2307</th>\n",
       "      <td>lee's</td>\n",
       "      <td>74</td>\n",
       "    </tr>\n",
       "    <tr>\n",
       "      <th>797</th>\n",
       "      <td>men's</td>\n",
       "      <td>74</td>\n",
       "    </tr>\n",
       "    <tr>\n",
       "      <th>478</th>\n",
       "      <td>dvd's</td>\n",
       "      <td>73</td>\n",
       "    </tr>\n",
       "    <tr>\n",
       "      <th>322</th>\n",
       "      <td>audience's</td>\n",
       "      <td>70</td>\n",
       "    </tr>\n",
       "    <tr>\n",
       "      <th>281</th>\n",
       "      <td>person's</td>\n",
       "      <td>69</td>\n",
       "    </tr>\n",
       "    <tr>\n",
       "      <th>1839</th>\n",
       "      <td>hero's</td>\n",
       "      <td>69</td>\n",
       "    </tr>\n",
       "    <tr>\n",
       "      <th>629</th>\n",
       "      <td>doctor's</td>\n",
       "      <td>68</td>\n",
       "    </tr>\n",
       "    <tr>\n",
       "      <th>955</th>\n",
       "      <td>fulci's</td>\n",
       "      <td>67</td>\n",
       "    </tr>\n",
       "    <tr>\n",
       "      <th>528</th>\n",
       "      <td>writer's</td>\n",
       "      <td>66</td>\n",
       "    </tr>\n",
       "    <tr>\n",
       "      <th>112</th>\n",
       "      <td>scott's</td>\n",
       "      <td>65</td>\n",
       "    </tr>\n",
       "    <tr>\n",
       "      <th>1664</th>\n",
       "      <td>charlie's</td>\n",
       "      <td>64</td>\n",
       "    </tr>\n",
       "    <tr>\n",
       "      <th>925</th>\n",
       "      <td>kubrick's</td>\n",
       "      <td>63</td>\n",
       "    </tr>\n",
       "    <tr>\n",
       "      <th>223</th>\n",
       "      <td>wayne's</td>\n",
       "      <td>63</td>\n",
       "    </tr>\n",
       "    <tr>\n",
       "      <th>111</th>\n",
       "      <td>kelly's</td>\n",
       "      <td>63</td>\n",
       "    </tr>\n",
       "    <tr>\n",
       "      <th>746</th>\n",
       "      <td>austen's</td>\n",
       "      <td>62</td>\n",
       "    </tr>\n",
       "    <tr>\n",
       "      <th>1400</th>\n",
       "      <td>'i</td>\n",
       "      <td>60</td>\n",
       "    </tr>\n",
       "  </tbody>\n",
       "</table>\n",
       "</div>"
      ],
      "text/plain": [
       "            word  count\n",
       "737      devil's     90\n",
       "86       actors'     86\n",
       "915        son's     85\n",
       "1755      ford's     84\n",
       "149        she'd     83\n",
       "45      killer's     83\n",
       "285   daughter's     82\n",
       "2051      she'll     81\n",
       "836    chaplin's     80\n",
       "4182   brother's     80\n",
       "1360      life's     78\n",
       "1198     story's     77\n",
       "1194     lynch's     75\n",
       "2297      else's     75\n",
       "2307       lee's     74\n",
       "797        men's     74\n",
       "478        dvd's     73\n",
       "322   audience's     70\n",
       "281     person's     69\n",
       "1839      hero's     69\n",
       "629     doctor's     68\n",
       "955      fulci's     67\n",
       "528     writer's     66\n",
       "112      scott's     65\n",
       "1664   charlie's     64\n",
       "925    kubrick's     63\n",
       "223      wayne's     63\n",
       "111      kelly's     63\n",
       "746     austen's     62\n",
       "1400          'i     60"
      ]
     },
     "execution_count": 25,
     "metadata": {},
     "output_type": "execute_result"
    }
   ],
   "source": [
    "non_cov.iloc[90:120,:]"
   ]
  },
  {
   "cell_type": "code",
   "execution_count": 26,
   "metadata": {},
   "outputs": [
    {
     "data": {
      "text/html": [
       "<div>\n",
       "<style scoped>\n",
       "    .dataframe tbody tr th:only-of-type {\n",
       "        vertical-align: middle;\n",
       "    }\n",
       "\n",
       "    .dataframe tbody tr th {\n",
       "        vertical-align: top;\n",
       "    }\n",
       "\n",
       "    .dataframe thead th {\n",
       "        text-align: right;\n",
       "    }\n",
       "</style>\n",
       "<table border=\"1\" class=\"dataframe\">\n",
       "  <thead>\n",
       "    <tr style=\"text-align: right;\">\n",
       "      <th></th>\n",
       "      <th>word</th>\n",
       "      <th>count</th>\n",
       "    </tr>\n",
       "  </thead>\n",
       "  <tbody>\n",
       "    <tr>\n",
       "      <th>4775</th>\n",
       "      <td>wood's</td>\n",
       "      <td>59</td>\n",
       "    </tr>\n",
       "    <tr>\n",
       "      <th>3052</th>\n",
       "      <td>tv's</td>\n",
       "      <td>59</td>\n",
       "    </tr>\n",
       "    <tr>\n",
       "      <th>108</th>\n",
       "      <td>heaven's</td>\n",
       "      <td>58</td>\n",
       "    </tr>\n",
       "    <tr>\n",
       "      <th>158</th>\n",
       "      <td>who've</td>\n",
       "      <td>57</td>\n",
       "    </tr>\n",
       "    <tr>\n",
       "      <th>636</th>\n",
       "      <td>keaton's</td>\n",
       "      <td>57</td>\n",
       "    </tr>\n",
       "    <tr>\n",
       "      <th>198</th>\n",
       "      <td>it'd</td>\n",
       "      <td>57</td>\n",
       "    </tr>\n",
       "    <tr>\n",
       "      <th>2050</th>\n",
       "      <td>must've</td>\n",
       "      <td>56</td>\n",
       "    </tr>\n",
       "    <tr>\n",
       "      <th>612</th>\n",
       "      <td>john's</td>\n",
       "      <td>56</td>\n",
       "    </tr>\n",
       "    <tr>\n",
       "      <th>1371</th>\n",
       "      <td>imho</td>\n",
       "      <td>56</td>\n",
       "    </tr>\n",
       "    <tr>\n",
       "      <th>212</th>\n",
       "      <td>sister's</td>\n",
       "      <td>55</td>\n",
       "    </tr>\n",
       "    <tr>\n",
       "      <th>2072</th>\n",
       "      <td>'a</td>\n",
       "      <td>55</td>\n",
       "    </tr>\n",
       "    <tr>\n",
       "      <th>1368</th>\n",
       "      <td>stewart's</td>\n",
       "      <td>55</td>\n",
       "    </tr>\n",
       "    <tr>\n",
       "      <th>5193</th>\n",
       "      <td>burton's</td>\n",
       "      <td>54</td>\n",
       "    </tr>\n",
       "    <tr>\n",
       "      <th>1898</th>\n",
       "      <td>hitler's</td>\n",
       "      <td>54</td>\n",
       "    </tr>\n",
       "    <tr>\n",
       "      <th>1482</th>\n",
       "      <td>altman's</td>\n",
       "      <td>54</td>\n",
       "    </tr>\n",
       "    <tr>\n",
       "      <th>720</th>\n",
       "      <td>jack's</td>\n",
       "      <td>53</td>\n",
       "    </tr>\n",
       "    <tr>\n",
       "      <th>703</th>\n",
       "      <td>man'</td>\n",
       "      <td>53</td>\n",
       "    </tr>\n",
       "    <tr>\n",
       "      <th>1015</th>\n",
       "      <td>rosemary's</td>\n",
       "      <td>53</td>\n",
       "    </tr>\n",
       "    <tr>\n",
       "      <th>403</th>\n",
       "      <td>moore's</td>\n",
       "      <td>53</td>\n",
       "    </tr>\n",
       "    <tr>\n",
       "      <th>793</th>\n",
       "      <td>girls'</td>\n",
       "      <td>51</td>\n",
       "    </tr>\n",
       "    <tr>\n",
       "      <th>641</th>\n",
       "      <td>bergman's</td>\n",
       "      <td>51</td>\n",
       "    </tr>\n",
       "    <tr>\n",
       "      <th>11031</th>\n",
       "      <td>gypo</td>\n",
       "      <td>50</td>\n",
       "    </tr>\n",
       "    <tr>\n",
       "      <th>140</th>\n",
       "      <td>eastwood's</td>\n",
       "      <td>49</td>\n",
       "    </tr>\n",
       "    <tr>\n",
       "      <th>800</th>\n",
       "      <td>country's</td>\n",
       "      <td>49</td>\n",
       "    </tr>\n",
       "    <tr>\n",
       "      <th>1235</th>\n",
       "      <td>freddy's</td>\n",
       "      <td>49</td>\n",
       "    </tr>\n",
       "    <tr>\n",
       "      <th>2069</th>\n",
       "      <td>bug's</td>\n",
       "      <td>49</td>\n",
       "    </tr>\n",
       "    <tr>\n",
       "      <th>2673</th>\n",
       "      <td>parents'</td>\n",
       "      <td>49</td>\n",
       "    </tr>\n",
       "    <tr>\n",
       "      <th>889</th>\n",
       "      <td>that'll</td>\n",
       "      <td>49</td>\n",
       "    </tr>\n",
       "    <tr>\n",
       "      <th>375</th>\n",
       "      <td>hartley's</td>\n",
       "      <td>48</td>\n",
       "    </tr>\n",
       "    <tr>\n",
       "      <th>581</th>\n",
       "      <td>cinema's</td>\n",
       "      <td>48</td>\n",
       "    </tr>\n",
       "  </tbody>\n",
       "</table>\n",
       "</div>"
      ],
      "text/plain": [
       "             word  count\n",
       "4775       wood's     59\n",
       "3052         tv's     59\n",
       "108      heaven's     58\n",
       "158        who've     57\n",
       "636      keaton's     57\n",
       "198          it'd     57\n",
       "2050      must've     56\n",
       "612        john's     56\n",
       "1371         imho     56\n",
       "212      sister's     55\n",
       "2072           'a     55\n",
       "1368    stewart's     55\n",
       "5193     burton's     54\n",
       "1898     hitler's     54\n",
       "1482     altman's     54\n",
       "720        jack's     53\n",
       "703          man'     53\n",
       "1015   rosemary's     53\n",
       "403       moore's     53\n",
       "793        girls'     51\n",
       "641     bergman's     51\n",
       "11031        gypo     50\n",
       "140    eastwood's     49\n",
       "800     country's     49\n",
       "1235     freddy's     49\n",
       "2069        bug's     49\n",
       "2673     parents'     49\n",
       "889       that'll     49\n",
       "375     hartley's     48\n",
       "581      cinema's     48"
      ]
     },
     "execution_count": 26,
     "metadata": {},
     "output_type": "execute_result"
    }
   ],
   "source": [
    "non_cov.iloc[120:150,:]"
   ]
  },
  {
   "cell_type": "code",
   "execution_count": 27,
   "metadata": {},
   "outputs": [
    {
     "data": {
      "text/html": [
       "<div>\n",
       "<style scoped>\n",
       "    .dataframe tbody tr th:only-of-type {\n",
       "        vertical-align: middle;\n",
       "    }\n",
       "\n",
       "    .dataframe tbody tr th {\n",
       "        vertical-align: top;\n",
       "    }\n",
       "\n",
       "    .dataframe thead th {\n",
       "        text-align: right;\n",
       "    }\n",
       "</style>\n",
       "<table border=\"1\" class=\"dataframe\">\n",
       "  <thead>\n",
       "    <tr style=\"text-align: right;\">\n",
       "      <th></th>\n",
       "      <th>word</th>\n",
       "      <th>count</th>\n",
       "    </tr>\n",
       "  </thead>\n",
       "  <tbody>\n",
       "    <tr>\n",
       "      <th>39</th>\n",
       "      <td>michael's</td>\n",
       "      <td>47</td>\n",
       "    </tr>\n",
       "    <tr>\n",
       "      <th>436</th>\n",
       "      <td>victim's</td>\n",
       "      <td>47</td>\n",
       "    </tr>\n",
       "    <tr>\n",
       "      <th>1956</th>\n",
       "      <td>dad's</td>\n",
       "      <td>47</td>\n",
       "    </tr>\n",
       "    <tr>\n",
       "      <th>518</th>\n",
       "      <td>who'd</td>\n",
       "      <td>47</td>\n",
       "    </tr>\n",
       "    <tr>\n",
       "      <th>2213</th>\n",
       "      <td>allen's</td>\n",
       "      <td>47</td>\n",
       "    </tr>\n",
       "    <tr>\n",
       "      <th>2228</th>\n",
       "      <td>town's</td>\n",
       "      <td>46</td>\n",
       "    </tr>\n",
       "    <tr>\n",
       "      <th>4556</th>\n",
       "      <td>jane's</td>\n",
       "      <td>46</td>\n",
       "    </tr>\n",
       "    <tr>\n",
       "      <th>2810</th>\n",
       "      <td>miyazaki's</td>\n",
       "      <td>46</td>\n",
       "    </tr>\n",
       "    <tr>\n",
       "      <th>3383</th>\n",
       "      <td>howard's</td>\n",
       "      <td>45</td>\n",
       "    </tr>\n",
       "    <tr>\n",
       "      <th>211</th>\n",
       "      <td>everybody's</td>\n",
       "      <td>44</td>\n",
       "    </tr>\n",
       "    <tr>\n",
       "      <th>1138</th>\n",
       "      <td>o'</td>\n",
       "      <td>44</td>\n",
       "    </tr>\n",
       "    <tr>\n",
       "      <th>516</th>\n",
       "      <td>kids'</td>\n",
       "      <td>44</td>\n",
       "    </tr>\n",
       "    <tr>\n",
       "      <th>1768</th>\n",
       "      <td>branagh's</td>\n",
       "      <td>44</td>\n",
       "    </tr>\n",
       "    <tr>\n",
       "      <th>1510</th>\n",
       "      <td>jones'</td>\n",
       "      <td>44</td>\n",
       "    </tr>\n",
       "    <tr>\n",
       "      <th>129</th>\n",
       "      <td>smith's</td>\n",
       "      <td>44</td>\n",
       "    </tr>\n",
       "    <tr>\n",
       "      <th>567</th>\n",
       "      <td>ship's</td>\n",
       "      <td>44</td>\n",
       "    </tr>\n",
       "    <tr>\n",
       "      <th>2388</th>\n",
       "      <td>stone's</td>\n",
       "      <td>43</td>\n",
       "    </tr>\n",
       "    <tr>\n",
       "      <th>1013</th>\n",
       "      <td>welles'</td>\n",
       "      <td>43</td>\n",
       "    </tr>\n",
       "    <tr>\n",
       "      <th>2561</th>\n",
       "      <td>spielberg's</td>\n",
       "      <td>43</td>\n",
       "    </tr>\n",
       "    <tr>\n",
       "      <th>3042</th>\n",
       "      <td>mom's</td>\n",
       "      <td>43</td>\n",
       "    </tr>\n",
       "    <tr>\n",
       "      <th>2035</th>\n",
       "      <td>argento's</td>\n",
       "      <td>43</td>\n",
       "    </tr>\n",
       "    <tr>\n",
       "      <th>249</th>\n",
       "      <td>ray's</td>\n",
       "      <td>42</td>\n",
       "    </tr>\n",
       "    <tr>\n",
       "      <th>332</th>\n",
       "      <td>bandw</td>\n",
       "      <td>42</td>\n",
       "    </tr>\n",
       "    <tr>\n",
       "      <th>2003</th>\n",
       "      <td>seagal's</td>\n",
       "      <td>42</td>\n",
       "    </tr>\n",
       "    <tr>\n",
       "      <th>307</th>\n",
       "      <td>movie'</td>\n",
       "      <td>42</td>\n",
       "    </tr>\n",
       "    <tr>\n",
       "      <th>2165</th>\n",
       "      <td>00's</td>\n",
       "      <td>42</td>\n",
       "    </tr>\n",
       "    <tr>\n",
       "      <th>1010</th>\n",
       "      <td>david's</td>\n",
       "      <td>42</td>\n",
       "    </tr>\n",
       "    <tr>\n",
       "      <th>812</th>\n",
       "      <td>get's</td>\n",
       "      <td>42</td>\n",
       "    </tr>\n",
       "    <tr>\n",
       "      <th>503</th>\n",
       "      <td>day's</td>\n",
       "      <td>42</td>\n",
       "    </tr>\n",
       "    <tr>\n",
       "      <th>1886</th>\n",
       "      <td>che's</td>\n",
       "      <td>41</td>\n",
       "    </tr>\n",
       "  </tbody>\n",
       "</table>\n",
       "</div>"
      ],
      "text/plain": [
       "             word  count\n",
       "39      michael's     47\n",
       "436      victim's     47\n",
       "1956        dad's     47\n",
       "518         who'd     47\n",
       "2213      allen's     47\n",
       "2228       town's     46\n",
       "4556       jane's     46\n",
       "2810   miyazaki's     46\n",
       "3383     howard's     45\n",
       "211   everybody's     44\n",
       "1138           o'     44\n",
       "516         kids'     44\n",
       "1768    branagh's     44\n",
       "1510       jones'     44\n",
       "129       smith's     44\n",
       "567        ship's     44\n",
       "2388      stone's     43\n",
       "1013      welles'     43\n",
       "2561  spielberg's     43\n",
       "3042        mom's     43\n",
       "2035    argento's     43\n",
       "249         ray's     42\n",
       "332         bandw     42\n",
       "2003     seagal's     42\n",
       "307        movie'     42\n",
       "2165         00's     42\n",
       "1010      david's     42\n",
       "812         get's     42\n",
       "503         day's     42\n",
       "1886        che's     41"
      ]
     },
     "execution_count": 27,
     "metadata": {},
     "output_type": "execute_result"
    }
   ],
   "source": [
    "non_cov.iloc[150:180,:]"
   ]
  },
  {
   "cell_type": "code",
   "execution_count": 28,
   "metadata": {},
   "outputs": [
    {
     "data": {
      "text/html": [
       "<div>\n",
       "<style scoped>\n",
       "    .dataframe tbody tr th:only-of-type {\n",
       "        vertical-align: middle;\n",
       "    }\n",
       "\n",
       "    .dataframe tbody tr th {\n",
       "        vertical-align: top;\n",
       "    }\n",
       "\n",
       "    .dataframe thead th {\n",
       "        text-align: right;\n",
       "    }\n",
       "</style>\n",
       "<table border=\"1\" class=\"dataframe\">\n",
       "  <thead>\n",
       "    <tr style=\"text-align: right;\">\n",
       "      <th></th>\n",
       "      <th>word</th>\n",
       "      <th>count</th>\n",
       "    </tr>\n",
       "  </thead>\n",
       "  <tbody>\n",
       "    <tr>\n",
       "      <th>3929</th>\n",
       "      <td>brown's</td>\n",
       "      <td>40</td>\n",
       "    </tr>\n",
       "    <tr>\n",
       "      <th>1282</th>\n",
       "      <td>'what</td>\n",
       "      <td>40</td>\n",
       "    </tr>\n",
       "    <tr>\n",
       "      <th>4021</th>\n",
       "      <td>tony's</td>\n",
       "      <td>40</td>\n",
       "    </tr>\n",
       "    <tr>\n",
       "      <th>467</th>\n",
       "      <td>murphy's</td>\n",
       "      <td>40</td>\n",
       "    </tr>\n",
       "    <tr>\n",
       "      <th>4120</th>\n",
       "      <td>joe's</td>\n",
       "      <td>39</td>\n",
       "    </tr>\n",
       "    <tr>\n",
       "      <th>1233</th>\n",
       "      <td>craven's</td>\n",
       "      <td>39</td>\n",
       "    </tr>\n",
       "    <tr>\n",
       "      <th>3576</th>\n",
       "      <td>boys'</td>\n",
       "      <td>39</td>\n",
       "    </tr>\n",
       "    <tr>\n",
       "      <th>4282</th>\n",
       "      <td>taylor's</td>\n",
       "      <td>39</td>\n",
       "    </tr>\n",
       "    <tr>\n",
       "      <th>434</th>\n",
       "      <td>series'</td>\n",
       "      <td>39</td>\n",
       "    </tr>\n",
       "    <tr>\n",
       "      <th>3232</th>\n",
       "      <td>anderson's</td>\n",
       "      <td>38</td>\n",
       "    </tr>\n",
       "    <tr>\n",
       "      <th>3504</th>\n",
       "      <td>lady's</td>\n",
       "      <td>38</td>\n",
       "    </tr>\n",
       "    <tr>\n",
       "      <th>2084</th>\n",
       "      <td>tom's</td>\n",
       "      <td>38</td>\n",
       "    </tr>\n",
       "    <tr>\n",
       "      <th>1508</th>\n",
       "      <td>ocean's</td>\n",
       "      <td>38</td>\n",
       "    </tr>\n",
       "    <tr>\n",
       "      <th>1436</th>\n",
       "      <td>author's</td>\n",
       "      <td>38</td>\n",
       "    </tr>\n",
       "    <tr>\n",
       "      <th>1154</th>\n",
       "      <td>filmmaker's</td>\n",
       "      <td>38</td>\n",
       "    </tr>\n",
       "    <tr>\n",
       "      <th>763</th>\n",
       "      <td>it'</td>\n",
       "      <td>38</td>\n",
       "    </tr>\n",
       "    <tr>\n",
       "      <th>2313</th>\n",
       "      <td>city's</td>\n",
       "      <td>38</td>\n",
       "    </tr>\n",
       "    <tr>\n",
       "      <th>1846</th>\n",
       "      <td>romero's</td>\n",
       "      <td>37</td>\n",
       "    </tr>\n",
       "    <tr>\n",
       "      <th>7743</th>\n",
       "      <td>earth's</td>\n",
       "      <td>37</td>\n",
       "    </tr>\n",
       "    <tr>\n",
       "      <th>7203</th>\n",
       "      <td>buddy's</td>\n",
       "      <td>37</td>\n",
       "    </tr>\n",
       "    <tr>\n",
       "      <th>2038</th>\n",
       "      <td>bakshi's</td>\n",
       "      <td>37</td>\n",
       "    </tr>\n",
       "    <tr>\n",
       "      <th>2736</th>\n",
       "      <td>williams'</td>\n",
       "      <td>37</td>\n",
       "    </tr>\n",
       "    <tr>\n",
       "      <th>2938</th>\n",
       "      <td>ted's</td>\n",
       "      <td>37</td>\n",
       "    </tr>\n",
       "    <tr>\n",
       "      <th>1251</th>\n",
       "      <td>imdb's</td>\n",
       "      <td>36</td>\n",
       "    </tr>\n",
       "    <tr>\n",
       "      <th>3301</th>\n",
       "      <td>ryan's</td>\n",
       "      <td>36</td>\n",
       "    </tr>\n",
       "    <tr>\n",
       "      <th>3690</th>\n",
       "      <td>its'</td>\n",
       "      <td>36</td>\n",
       "    </tr>\n",
       "    <tr>\n",
       "      <th>251</th>\n",
       "      <td>cat's</td>\n",
       "      <td>36</td>\n",
       "    </tr>\n",
       "    <tr>\n",
       "      <th>3094</th>\n",
       "      <td>cheezy</td>\n",
       "      <td>36</td>\n",
       "    </tr>\n",
       "    <tr>\n",
       "      <th>3638</th>\n",
       "      <td>girl'</td>\n",
       "      <td>36</td>\n",
       "    </tr>\n",
       "    <tr>\n",
       "      <th>544</th>\n",
       "      <td>nobody's</td>\n",
       "      <td>35</td>\n",
       "    </tr>\n",
       "  </tbody>\n",
       "</table>\n",
       "</div>"
      ],
      "text/plain": [
       "             word  count\n",
       "3929      brown's     40\n",
       "1282        'what     40\n",
       "4021       tony's     40\n",
       "467      murphy's     40\n",
       "4120        joe's     39\n",
       "1233     craven's     39\n",
       "3576        boys'     39\n",
       "4282     taylor's     39\n",
       "434       series'     39\n",
       "3232   anderson's     38\n",
       "3504       lady's     38\n",
       "2084        tom's     38\n",
       "1508      ocean's     38\n",
       "1436     author's     38\n",
       "1154  filmmaker's     38\n",
       "763           it'     38\n",
       "2313       city's     38\n",
       "1846     romero's     37\n",
       "7743      earth's     37\n",
       "7203      buddy's     37\n",
       "2038     bakshi's     37\n",
       "2736    williams'     37\n",
       "2938        ted's     37\n",
       "1251       imdb's     36\n",
       "3301       ryan's     36\n",
       "3690         its'     36\n",
       "251         cat's     36\n",
       "3094       cheezy     36\n",
       "3638        girl'     36\n",
       "544      nobody's     35"
      ]
     },
     "execution_count": 28,
     "metadata": {},
     "output_type": "execute_result"
    }
   ],
   "source": [
    "non_cov.iloc[180:210,:]"
   ]
  },
  {
   "cell_type": "markdown",
   "metadata": {},
   "source": [
    "The function below is based on above tables analysis. Regex cleaning."
   ]
  },
  {
   "cell_type": "code",
   "execution_count": 23,
   "metadata": {},
   "outputs": [],
   "source": [
    "def clean(x):\n",
    "    '''\n",
    "    cleaning function to combine with series.apply(lambda x: clean(x))\n",
    "    '''\n",
    "    \n",
    "    x = re.sub(\"it's\", 'it is', x)\n",
    "    x = re.sub(\"don't\", 'do not', x)\n",
    "    x = re.sub(\"i'm\", 'i am', x)\n",
    "    x = re.sub(\"doesn't\", 'does not', x)\n",
    "    x = re.sub(\"didn't\", 'did not', x)\n",
    "    x = re.sub(\"can't\", 'can not', x)\n",
    "    x = re.sub(\"that's\", 'that is', x)\n",
    "    x = re.sub(\"i've\", 'i have', x)\n",
    "    x = re.sub(\"isn't\", 'is not', x)\n",
    "    x = re.sub(\"there's\", 'there is', x)\n",
    "    x = re.sub(\"he's\", 'he is', x)\n",
    "    x = re.sub(\"wasn't\", 'was not', x)\n",
    "    x = re.sub(\"you're\", 'you are', x)\n",
    "    x = re.sub(\"couldn't\", 'could not', x)\n",
    "    x = re.sub(\"you'll\", 'you will', x)\n",
    "    x = re.sub(\"she's\", 'she is', x)\n",
    "    x = re.sub(\"i'd\", 'i would', x) # assumption that i'd means i wolud, not i had (simplification)\n",
    "    x = re.sub(\"they're\", 'they are', x)\n",
    "    x = re.sub(\"won't\", 'will not', x)\n",
    "    x = re.sub(\"wouldn't\", 'would not', x)\n",
    "    x = re.sub(\"i'll\", 'i will', x)\n",
    "    x = re.sub(\"aren't\", 'are not', x)\n",
    "    x = re.sub(\"haven't\", 'have not', x)\n",
    "    x = re.sub(\"what's\", 'what is', x)\n",
    "    x = re.sub(\"you've\", 'you have', x)\n",
    "    x = re.sub(\"who's\", 'who is', x)\n",
    "    x = re.sub(\"let's\", 'let us', x)\n",
    "    x = re.sub(\"'the\", 'the', x)\n",
    "    x = re.sub(\"we're\", 'we are', x)\n",
    "    x = re.sub(\"weren't\", 'were not', x)\n",
    "    x = re.sub(\"you'd\", 'you would', x) # assumption that you'd means you wolud, not you had (simplification)\n",
    "    x = re.sub(\"hasn't\", 'has not', x)\n",
    "    x = re.sub(\"shouldn't\", 'should not', x)\n",
    "    x = re.sub(\"here's\", 'here is', x)\n",
    "    x = re.sub(\"hadn't\", 'had not', x)\n",
    "    x = re.sub(\"we've\", 'we have', x)\n",
    "    x = re.sub(\"they've\", 'whey have', x)\n",
    "    x = re.sub(\"ain't\", 'not', x) # simplification\n",
    "    x = re.sub(\"would've\", 'would have', x)\n",
    "    x = re.sub(\"could've\", 'could have', x)\n",
    "    x = re.sub(\"he'd\", 'he would', x) # assumption that he'd means he wolud, not he had (simplification)\n",
    "    x = re.sub(\"we'll\", 'we will', x)\n",
    "    x = re.sub(\"they'd\", 'they would', x) # assumption that they'd means they wolud, not they had (simplification)\n",
    "    x = re.sub(\"it'll\", 'it will', x)\n",
    "    x = re.sub(\"they'll\", 'they will', x)\n",
    "    x = re.sub(\"he'll\", 'he will', x) \n",
    "    x = re.sub(\"we'd\", 'we would', x) # assumption that we'd means we wolud, not we had (simplification)\n",
    "    x = re.sub(\"should've\", 'should have', x)\n",
    "    x = re.sub(\"she'd\", 'she would', x) # assumption that she'd means she wolud, not she had (simplification)\n",
    "    x = re.sub(\"she'll\", 'she will', x)\n",
    "    x = re.sub(\"'i\", 'i', x) \n",
    "    x = re.sub(\"who've\", 'who have', x)\n",
    "    x = re.sub(\"it'd\", 'it would', x) # assumption that she'd means she wolud, not she had (simplification)\n",
    "    x = re.sub(\"bandw\", 'b and w', x) \n",
    "    x = re.sub(\"that'll\", 'that will', x) \n",
    "    x = re.sub(\"imho\", 'in my humble opinion', x)\n",
    "    x = re.sub(\"who'd\", 'who would', x) # assumption that who'd means who wolud, not who had (simplification)\n",
    "    x = re.sub(\"o'\", 'o', x)\n",
    "    x = re.sub(\"must've\", 'must have', x)\n",
    "    x = re.sub(\"'what\", 'what', x)\n",
    "    x = re.sub(\"it'\", 'it', x)\n",
    "    x = re.sub(\"its'\", 'its', x)\n",
    "    \n",
    "    return x "
   ]
  },
  {
   "cell_type": "code",
   "execution_count": 24,
   "metadata": {},
   "outputs": [],
   "source": [
    "# advanced cleaning\n",
    "X_train = pd.Series(X_train).apply(lambda x: clean(x)).values"
   ]
  },
  {
   "cell_type": "code",
   "execution_count": 25,
   "metadata": {},
   "outputs": [
    {
     "name": "stdout",
     "output_type": "stream",
     "text": [
      "Covered words percentage: 98.9452% raw: 65.5583%\n",
      "Non-covered words percentage: 1.0548% raw: 34.4417%\n"
     ]
    }
   ],
   "source": [
    "# coverage after final cleaning\n",
    "cov, non_cov = coverage(X_train, embeddings_index, info = True)"
   ]
  },
  {
   "cell_type": "markdown",
   "metadata": {},
   "source": [
    "As it can be seen coverage is now better by approximately 1.5 percentage points on the whole vocabulary and by approximately 0.4 percentage points on the unique vocabulary "
   ]
  },
  {
   "cell_type": "markdown",
   "metadata": {},
   "source": [
    "Based on training set coverage analysis, dev and test set were cleaned below."
   ]
  },
  {
   "cell_type": "code",
   "execution_count": 26,
   "metadata": {},
   "outputs": [],
   "source": [
    "X_dev = pd.Series(X_dev).apply(lambda x: clean(x)).values\n",
    "X_test = pd.Series(X_test).apply(lambda x: clean(x)).values"
   ]
  },
  {
   "cell_type": "markdown",
   "metadata": {},
   "source": [
    "Reviews has no length limit, using all the examples with potential outliers (in the length sense - there are even 2500 words long records) could cause some computational issues, removing some too long reviews seem to be reasonable. The analysis below is about dataset size with length bounded reviews."
   ]
  },
  {
   "cell_type": "code",
   "execution_count": 27,
   "metadata": {},
   "outputs": [
    {
     "name": "stdout",
     "output_type": "stream",
     "text": [
      "Shape of data with all the observations\t\t (50000, 2)\n",
      "Shape of data with reviews shorter than 1000 words (49832, 2)\n",
      "Shape of data with reviews shorter than 500 words (46016, 2)\n",
      "Shape of data with reviews shorter than 400 words (43375, 2)\n",
      "Shape of data with reviews shorter than 350 words (41348, 2)\n",
      "Shape of data with reviews shorter than 250 words (34957, 2)\n"
     ]
    }
   ],
   "source": [
    "# creating temporary dataframe (train, dev, test stplitting was preformed before)\n",
    "temp_df = pd.DataFrame(np.r_[X_train,X_dev,X_test], columns=[\"review\"])\n",
    "# creating column with review length information\n",
    "temp_df[\"length\"] = temp_df.review.apply(lambda x: len(x.split()))\n",
    "\n",
    "# analysis\n",
    "print(\"Shape of data with all the observations\\t\\t\", data.shape)\n",
    "print(\"Shape of data with reviews shorter than 1000 words\", temp_df.where(temp_df.length <= 1000).dropna().shape)\n",
    "print(\"Shape of data with reviews shorter than 500 words\", temp_df.where(temp_df.length <= 500).dropna().shape)\n",
    "print(\"Shape of data with reviews shorter than 400 words\", temp_df.where(temp_df.length <= 400).dropna().shape)\n",
    "print(\"Shape of data with reviews shorter than 350 words\", temp_df.where(temp_df.length <= 350).dropna().shape)\n",
    "print(\"Shape of data with reviews shorter than 250 words\", temp_df.where(temp_df.length <= 250).dropna().shape)\n"
   ]
  },
  {
   "cell_type": "markdown",
   "metadata": {},
   "source": [
    "Only 168 observations were lost when 1000 bound was established. It seems to be reasonable constraint.\n",
    "\n",
    "Below the application of the limiation to the data set is being made."
   ]
  },
  {
   "cell_type": "code",
   "execution_count": 28,
   "metadata": {},
   "outputs": [
    {
     "name": "stdout",
     "output_type": "stream",
     "text": [
      "data shape: (49832, 2)\n"
     ]
    }
   ],
   "source": [
    "# removing too long reviews\n",
    "selected_max_length = 1000\n",
    "temp_df = temp_df.where(temp_df.length <= selected_max_length).dropna().reset_index(drop = True)\n",
    "print(\"data shape:\", temp_df.shape)\n",
    "maxLen = selected_max_length"
   ]
  },
  {
   "cell_type": "code",
   "execution_count": 29,
   "metadata": {},
   "outputs": [],
   "source": [
    "# train, dev, test split again (on cutted dataset)\n",
    "\n",
    "temp_train = pd.DataFrame(np.c_[X_train,Y_train], columns = [\"review\", \"sentiment\"])\n",
    "temp_train[\"length\"] = temp_train.review.apply(lambda x: len(x.split()))\n",
    "temp_train = temp_train.where(temp_train.length <= selected_max_length).dropna().reset_index(drop = True) \n",
    "X_train = temp_train.review.values\n",
    "Y_train = temp_train.sentiment.values.astype(int) # labels has to be casted to int (numpy arrays has uniform datatype)\n",
    "\n",
    "temp_dev = pd.DataFrame(np.c_[X_dev,Y_dev], columns = [\"review\", \"sentiment\"])\n",
    "temp_dev[\"length\"] = temp_dev.review.apply(lambda x: len(x.split()))\n",
    "temp_dev = temp_dev.where(temp_dev.length <= selected_max_length).dropna().reset_index(drop = True) \n",
    "X_dev = temp_dev.review.values\n",
    "Y_dev = temp_dev.sentiment.values.astype(int) # labels has to be casted to int (numpy arrays has uniform datatype)\n",
    "\n",
    "temp_test = pd.DataFrame(np.c_[X_test,Y_test], columns = [\"review\", \"sentiment\"])\n",
    "temp_test[\"length\"] = temp_test.review.apply(lambda x: len(x.split()))\n",
    "temp_test = temp_test.where(temp_test.length <= selected_max_length).dropna().reset_index(drop = True)\n",
    "X_test = temp_test.review.values\n",
    "Y_test = temp_test.sentiment.values.astype(int) # labels has to be casted to int (numpy arrays has uniform datatype)"
   ]
  },
  {
   "cell_type": "markdown",
   "metadata": {},
   "source": [
    "##### Visualizations "
   ]
  },
  {
   "cell_type": "markdown",
   "metadata": {},
   "source": [
    "Now it is time to visualize some most popular words, separately for negatives and positives reviews.<br>\n",
    "To get more informative plots the subtraction of the STOPWORDS from the wordcloud package from vocabulary list was made. Also the words that are in top 30 most popular words for both categories were subtrackted. The assumption has been made that those words are not very informative."
   ]
  },
  {
   "cell_type": "code",
   "execution_count": 30,
   "metadata": {},
   "outputs": [],
   "source": [
    "# positive sentiment most frequent words (basic stopwords excluded)\n",
    "pos_voc = get_vocabulary(pd.DataFrame(np.c_[X_train,Y_train])[0].where(\n",
    "    pd.DataFrame(np.c_[X_train,Y_train])[1] == 1).dropna(), True)\n",
    "\n",
    "pos_voc = pos_voc[pos_voc.word.isin(set(pos_voc.word)-STOPWORDS)]\n",
    "\n",
    "# negative sentiment most frequent words  (basic stopwords excluded)\n",
    "neg_voc = get_vocabulary(pd.DataFrame(np.c_[X_train,Y_train])[0].where(\n",
    "    pd.DataFrame(np.c_[X_train,Y_train])[1] == 0).dropna(), True)\n",
    "\n",
    "neg_voc = neg_voc[neg_voc.word.isin(set(neg_voc.word)-STOPWORDS)]\n",
    "\n",
    "# custom stopwords (most common found in positive AND negative sentiment)\n",
    "most_frequent_intersection = set(pos_voc.iloc[:30,0].values).intersection(set(neg_voc.iloc[:30,0].values))\n",
    "\n",
    "# final vocabulary \n",
    "pos_voc = pos_voc[pos_voc.word.isin(set(pos_voc.word)-most_frequent_intersection)]\n",
    "neg_voc = neg_voc[neg_voc.word.isin(set(neg_voc.word)-most_frequent_intersection)]\n",
    "\n",
    "# new stopwords set\n",
    "STOPWORDS.update(most_frequent_intersection)"
   ]
  },
  {
   "cell_type": "code",
   "execution_count": 25,
   "metadata": {},
   "outputs": [
    {
     "data": {
      "image/png": "[encoded data removed]",
      "text/plain": [
       "<Figure size 1080x432 with 2 Axes>"
      ]
     },
     "metadata": {
      "needs_background": "light"
     },
     "output_type": "display_data"
    }
   ],
   "source": [
    "# count plots\n",
    "fig, ax = plt.subplots(nrows = 1, ncols = 2, figsize = (15,6))\n",
    "sns.barplot(x = \"count\", y = \"word\", data = pos_voc.head(15), ax = ax[0])\n",
    "ax[0].set_title(\"15 most frequent words in positive sentiment\")\n",
    "ax[0].grid()\n",
    "sns.barplot(x = \"count\", y = \"word\", data = neg_voc.head(15), ax = ax[1])\n",
    "ax[1].set_title(\"15 most frequent words in negative sentiment\")\n",
    "ax[1].grid()\n",
    "plt.show()"
   ]
  },
  {
   "cell_type": "markdown",
   "metadata": {},
   "source": [
    "In the category with positive reviews it can seen that the most popular words are indeed the ones which can be connected with positivity (*great*, *love*, *best*) <br>\n",
    "In case of negative the most obvious one is of course bad, which occurs almost 4000 times more often than the word *make* which is second most popular. <br>\n",
    "It is worth to mention that the word *good* was excluded from the plots because it has occured in both categories and was the most popular one (in negative probably it was connected with word *not*) "
   ]
  },
  {
   "cell_type": "code",
   "execution_count": 31,
   "metadata": {},
   "outputs": [
    {
     "data": {
      "image/png": "[encoded data removed]",
      "text/plain": [
       "<Figure size 576x576 with 1 Axes>"
      ]
     },
     "metadata": {
      "needs_background": "light"
     },
     "output_type": "display_data"
    }
   ],
   "source": [
    "# word cloud for positive sentiment \n",
    "plt.figure(figsize=(8,8))\n",
    "wordcloud2 = WordCloud(width = 800, height = 800, \n",
    "                background_color ='black', \n",
    "                stopwords = STOPWORDS,              \n",
    "                min_font_size = 10).generate(\n",
    "    ' '.join(map(str,pd.DataFrame(np.c_[X_train,Y_train])[0].where(\n",
    "        pd.DataFrame(np.c_[X_train,Y_train])[1] == 1).dropna()))) \n",
    "\n",
    "plt.imshow(wordcloud2)\n",
    "plt.title('Positive Sentiment')\n",
    "plt.axis('off')\n",
    "\n",
    "plt.show() "
   ]
  },
  {
   "cell_type": "code",
   "execution_count": 32,
   "metadata": {},
   "outputs": [
    {
     "data": {
      "image/png": "[encoded data removed]",
      "text/plain": [
       "<Figure size 576x576 with 1 Axes>"
      ]
     },
     "metadata": {
      "needs_background": "light"
     },
     "output_type": "display_data"
    }
   ],
   "source": [
    "# word cloud for negative centiment\n",
    "plt.figure(figsize=(8,8))\n",
    "wordcloud2 = WordCloud(width = 800, height = 800, \n",
    "                background_color ='black', \n",
    "                stopwords = STOPWORDS, \n",
    "                min_font_size = 10).generate(\n",
    "    ' '.join(map(str,pd.DataFrame(np.c_[X_train,Y_train])[0].where(\n",
    "        pd.DataFrame(np.c_[X_train,Y_train])[1] == 0).dropna())))\n",
    "\n",
    "plt.imshow(wordcloud2)\n",
    "plt.title('Negative Sentiment')\n",
    "plt.axis('off')\n",
    "\n",
    "plt.show() "
   ]
  },
  {
   "cell_type": "markdown",
   "metadata": {},
   "source": [
    "The word clouds are totally different, it can be observed that positive reviews often contains the words like great, love, scene, show, end, films, better, role, best, while negative reviews contains words like bad, something (probably with wrong), end, acting, funny, actor, never, simply, without, script, director, little. It may be concluded that good and bad feeling about movie is based on ending, scenario, acting, director etc. It is not so surprising, all these things adds up to a movie.\n",
    "\n",
    "##### Modelling - embedding layer preparation"
   ]
  },
  {
   "cell_type": "code",
   "execution_count": 33,
   "metadata": {},
   "outputs": [],
   "source": [
    "# get final training vocabulary\n",
    "train_vocab = list(get_vocabulary(X_train).keys())"
   ]
  },
  {
   "cell_type": "code",
   "execution_count": 34,
   "metadata": {},
   "outputs": [],
   "source": [
    "# build a token dictionary\n",
    "# inicialization\n",
    "word_index = {}\n",
    "# embedding words\n",
    "words_in_embedding = embeddings_index.keys()\n",
    "i = 0\n",
    "# loop through training vocabulary\n",
    "for word in train_vocab:\n",
    "    # covered word tokenization\n",
    "    if word in words_in_embedding:\n",
    "        word_index[word] = i\n",
    "        i += 1\n",
    "    # unknown token\n",
    "    else:\n",
    "        if not word_index.get(\"<OOV>\"):\n",
    "            word_index[\"<OOV>\"] = i\n",
    "            i += 1"
   ]
  },
  {
   "cell_type": "code",
   "execution_count": 2,
   "metadata": {},
   "outputs": [],
   "source": [
    "def sentences_to_indices(X, word_to_index, max_len):\n",
    "    \"\"\"\n",
    "    Function convert a vector of strings to its token representation with padding (batch training requirement).\n",
    "    \n",
    "    X -- sentences vector (strings)\n",
    "    word_to_index - token dictionary\n",
    "    max_len - fixed sentence length, shorter sentences are zero-padded \n",
    "    \n",
    "    returns X_indices (padded and tokenized sentences - shape (number of observations, max sentence length))\n",
    "    \"\"\"\n",
    "    \n",
    "    # number of training examples\n",
    "    m = X.shape[0]\n",
    "    \n",
    "    # inicialization (carry out padding)\n",
    "    X_indices = np.zeros((m, max_len)) \n",
    "    \n",
    "    # loop through training examples\n",
    "    for i in range(m):                               \n",
    "        \n",
    "        # lowercasting just for safety, splitting sentence into words\n",
    "        sentence_words = X[i].lower().split()\n",
    "        \n",
    "        # column iterator inicialization\n",
    "        j = 0\n",
    "        \n",
    "        # loop through the words in obtained sentence\n",
    "        for w in sentence_words:\n",
    "            if w in word_to_index.keys():\n",
    "                # tokenization saving (covered with embedding)\n",
    "                X_indices[i, j] = word_to_index[w]\n",
    "            else:\n",
    "                # tokenization saving (unknown token)\n",
    "                X_indices[i, j] = word_to_index[\"<OOV>\"]\n",
    "                \n",
    "            # column iterator incrementation\n",
    "            j = j + 1\n",
    "            \n",
    "    return X_indices"
   ]
  },
  {
   "cell_type": "code",
   "execution_count": 36,
   "metadata": {},
   "outputs": [],
   "source": [
    "# train and dev set tokenization\n",
    "X_train_ind = sentences_to_indices(X_train, word_index, maxLen)\n",
    "X_dev_ind = sentences_to_indices(X_dev, word_index, maxLen)"
   ]
  },
  {
   "cell_type": "code",
   "execution_count": 37,
   "metadata": {},
   "outputs": [],
   "source": [
    "# pre-trained embedding matrix preparation\n",
    "\n",
    "# embedding dimension (GloVe 100 used)   \n",
    "embedding_dim = 100\n",
    "\n",
    "# embedding matrix inicialization (one zeros row is the Keras requirement)\n",
    "embedding_matrix = np.zeros((len(word_index) + 1, embedding_dim))\n",
    "\n",
    "# loop through tokens\n",
    "for word, i in word_index.items():\n",
    "    # embedding extraction\n",
    "    embedding_vector = embeddings_index.get(word)\n",
    "    # just for safety\n",
    "    if embedding_vector is not None:\n",
    "        embedding_matrix[i] = embedding_vector"
   ]
  },
  {
   "cell_type": "code",
   "execution_count": 38,
   "metadata": {},
   "outputs": [],
   "source": [
    "# Keras Embedding layer building (not trainable)\n",
    "embedding_layer = Embedding(len(word_index) + 1,\n",
    "                            embedding_dim,\n",
    "                            weights=[embedding_matrix],\n",
    "                            input_length=maxLen,\n",
    "                            trainable=False)"
   ]
  },
  {
   "cell_type": "markdown",
   "metadata": {},
   "source": [
    "##### Convolutional Neural Network architecture\n",
    "\n",
    "CNNs are very popular with NLP tasks. In this project CNN was used due to its effectivness/computational cost ratio."
   ]
  },
  {
   "cell_type": "code",
   "execution_count": 39,
   "metadata": {},
   "outputs": [
    {
     "name": "stdout",
     "output_type": "stream",
     "text": [
      "Model: \"model_1\"\n",
      "_________________________________________________________________\n",
      "Layer (type)                 Output Shape              Param #   \n",
      "=================================================================\n",
      "input_1 (InputLayer)         (None, 1000)              0         \n",
      "_________________________________________________________________\n",
      "embedding_1 (Embedding)      (None, 1000, 100)         6634300   \n",
      "_________________________________________________________________\n",
      "conv1d_1 (Conv1D)            (None, 996, 128)          64128     \n",
      "_________________________________________________________________\n",
      "max_pooling1d_1 (MaxPooling1 (None, 199, 128)          0         \n",
      "_________________________________________________________________\n",
      "conv1d_2 (Conv1D)            (None, 195, 128)          82048     \n",
      "_________________________________________________________________\n",
      "max_pooling1d_2 (MaxPooling1 (None, 39, 128)           0         \n",
      "_________________________________________________________________\n",
      "conv1d_3 (Conv1D)            (None, 35, 128)           82048     \n",
      "_________________________________________________________________\n",
      "max_pooling1d_3 (MaxPooling1 (None, 1, 128)            0         \n",
      "_________________________________________________________________\n",
      "flatten_1 (Flatten)          (None, 128)               0         \n",
      "_________________________________________________________________\n",
      "dense_1 (Dense)              (None, 128)               16512     \n",
      "_________________________________________________________________\n",
      "dense_2 (Dense)              (None, 1)                 129       \n",
      "=================================================================\n",
      "Total params: 6,879,165\n",
      "Trainable params: 244,865\n",
      "Non-trainable params: 6,634,300\n",
      "_________________________________________________________________\n"
     ]
    }
   ],
   "source": [
    "sequence_input = Input(shape=(maxLen,), dtype='int32')\n",
    "embedded_sequences = embedding_layer(sequence_input)\n",
    "x = Conv1D(128, 5, activation='relu')(embedded_sequences)\n",
    "x = MaxPooling1D(5)(x)\n",
    "x = Conv1D(128, 5, activation='relu')(x)\n",
    "x = MaxPooling1D(5)(x)\n",
    "x = Conv1D(128, 5, activation='relu')(x)\n",
    "x = MaxPooling1D(35)(x) \n",
    "x = Flatten()(x)\n",
    "x = Dense(128, activation='relu')(x)\n",
    "preds = Dense(1, activation='sigmoid')(x)\n",
    "\n",
    "model = Model(sequence_input, preds)\n",
    "model.compile(loss='binary_crossentropy',\n",
    "              optimizer='rmsprop',\n",
    "              metrics=['acc'])\n",
    "\n",
    "model.summary()"
   ]
  },
  {
   "cell_type": "code",
   "execution_count": 47,
   "metadata": {},
   "outputs": [
    {
     "name": "stdout",
     "output_type": "stream",
     "text": [
      "Train on 34879 samples, validate on 9968 samples\n",
      "Epoch 1/20\n",
      "34879/34879 [==============================] - 151s 4ms/step - loss: 0.6698 - acc: 0.5969 - val_loss: 0.5298 - val_acc: 0.7478\n",
      "Epoch 2/20\n",
      "34879/34879 [==============================] - 151s 4ms/step - loss: 0.5061 - acc: 0.7582 - val_loss: 0.4511 - val_acc: 0.7811\n",
      "Epoch 3/20\n",
      "34879/34879 [==============================] - 151s 4ms/step - loss: 0.4183 - acc: 0.8097 - val_loss: 0.5369 - val_acc: 0.7329\n",
      "Epoch 4/20\n",
      "34879/34879 [==============================] - 151s 4ms/step - loss: 0.3688 - acc: 0.8356 - val_loss: 0.4382 - val_acc: 0.7894\n",
      "Epoch 5/20\n",
      "34879/34879 [==============================] - 151s 4ms/step - loss: 0.3360 - acc: 0.8560 - val_loss: 0.3282 - val_acc: 0.8599\n",
      "Epoch 6/20\n",
      "34879/34879 [==============================] - 151s 4ms/step - loss: 0.3006 - acc: 0.8712 - val_loss: 0.5240 - val_acc: 0.7786\n",
      "Epoch 7/20\n",
      "34879/34879 [==============================] - 151s 4ms/step - loss: 0.2688 - acc: 0.8848 - val_loss: 0.3734 - val_acc: 0.8245\n",
      "Epoch 8/20\n",
      "34879/34879 [==============================] - 151s 4ms/step - loss: 0.2338 - acc: 0.9032 - val_loss: 0.4326 - val_acc: 0.8421\n",
      "Epoch 9/20\n",
      "34879/34879 [==============================] - 151s 4ms/step - loss: 0.2063 - acc: 0.9172 - val_loss: 0.3372 - val_acc: 0.8644\n",
      "Epoch 10/20\n",
      "34879/34879 [==============================] - 151s 4ms/step - loss: 0.1693 - acc: 0.9325 - val_loss: 0.3523 - val_acc: 0.8583\n",
      "Epoch 11/20\n",
      "34879/34879 [==============================] - 155s 4ms/step - loss: 0.1417 - acc: 0.9470 - val_loss: 0.4651 - val_acc: 0.8586\n",
      "Epoch 12/20\n",
      "34879/34879 [==============================] - 151s 4ms/step - loss: 0.1193 - acc: 0.9550 - val_loss: 0.7563 - val_acc: 0.7895\n",
      "Epoch 13/20\n",
      "34879/34879 [==============================] - 151s 4ms/step - loss: 0.1009 - acc: 0.9628 - val_loss: 0.5593 - val_acc: 0.8562\n",
      "Epoch 14/20\n",
      "34879/34879 [==============================] - 151s 4ms/step - loss: 0.1141 - acc: 0.9639 - val_loss: 0.5254 - val_acc: 0.8611\n",
      "Epoch 15/20\n",
      "34879/34879 [==============================] - 151s 4ms/step - loss: 0.1044 - acc: 0.9670 - val_loss: 0.4970 - val_acc: 0.8611\n",
      "Epoch 16/20\n",
      "34879/34879 [==============================] - 151s 4ms/step - loss: 0.0940 - acc: 0.9694 - val_loss: 0.5310 - val_acc: 0.8500\n",
      "Epoch 17/20\n",
      "34879/34879 [==============================] - 151s 4ms/step - loss: 0.0815 - acc: 0.9793 - val_loss: 0.5988 - val_acc: 0.8433\n",
      "Epoch 18/20\n",
      "34879/34879 [==============================] - 152s 4ms/step - loss: 0.0762 - acc: 0.9797 - val_loss: 0.7322 - val_acc: 0.8562\n",
      "Epoch 19/20\n",
      "34879/34879 [==============================] - 151s 4ms/step - loss: 0.0818 - acc: 0.9780 - val_loss: 0.7174 - val_acc: 0.8597\n",
      "Epoch 20/20\n",
      "34879/34879 [==============================] - 151s 4ms/step - loss: 0.0760 - acc: 0.9783 - val_loss: 0.7800 - val_acc: 0.8530\n"
     ]
    }
   ],
   "source": [
    "# model training, 20 epochs, 256 batch size\n",
    "history = model.fit(X_train_ind, Y_train, validation_data=(X_dev_ind, Y_dev),\n",
    "                    epochs=20, batch_size=256)"
   ]
  },
  {
   "cell_type": "code",
   "execution_count": 48,
   "metadata": {},
   "outputs": [],
   "source": [
    "# model saving\n",
    "#model.save(\"model_CNN_20_epochs.h5\")"
   ]
  },
  {
   "cell_type": "markdown",
   "metadata": {},
   "source": [
    "#### Plots with accuracy and loss during training"
   ]
  },
  {
   "cell_type": "code",
   "execution_count": 3,
   "metadata": {},
   "outputs": [],
   "source": [
    "def plots(model, epoch, version=\"both\"):\n",
    "    plt.style.use(\"seaborn\")\n",
    "    plt.figure()\n",
    "    plt.rcParams[\"font.family\"] = \"Courier New\"\n",
    "\n",
    "    if version == \"both\":\n",
    "        plt.plot(np.arange(0, epoch), model.history[\"loss\"], label=\"train_loss\")\n",
    "        plt.plot(np.arange(0, epoch), model.history[\"val_loss\"], label=\"val_loss\")\n",
    "        plt.plot(np.arange(0, epoch), model.history[\"acc\"], label=\"train_acc\")\n",
    "        plt.plot(np.arange(0, epoch), model.history[\"val_acc\"], label=\"val_acc\")\n",
    "        plt.title(\"Loss and Accuracy during training\")\n",
    "        plt.ylabel(\"Loss/Accuracy\")\n",
    "\n",
    "    elif version == \"loss\":\n",
    "        plt.plot(np.arange(0, epoch), model.history[\"loss\"], label=\"train_loss\")\n",
    "        plt.plot(np.arange(0, epoch), model.history[\"val_loss\"], label=\"val_loss\")\n",
    "        plt.title(\"Loss during training\")\n",
    "        plt.ylabel(\"Loss\")\n",
    "\n",
    "    elif version == \"acc\":\n",
    "        plt.plot(np.arange(0, epoch), model.history[\"acc\"], label=\"train_acc\")\n",
    "        plt.plot(np.arange(0, epoch), model.history[\"val_acc\"], label=\"val_acc\")\n",
    "        plt.title(\"Accuracy during training\")\n",
    "        plt.ylabel(\"Accuracy\")\n",
    "\n",
    "    plt.xlabel(\"Epoch #\")\n",
    "    plt.legend(loc=\"lower left\")\n",
    "    plt.show()"
   ]
  },
  {
   "cell_type": "code",
   "execution_count": 57,
   "metadata": {},
   "outputs": [
    {
     "data": {
      "image/png": "[encoded data removed]",
      "text/plain": [
       "<Figure size 576x396 with 1 Axes>"
      ]
     },
     "metadata": {},
     "output_type": "display_data"
    }
   ],
   "source": [
    "plots(history, epoch=20, version=\"acc\")"
   ]
  },
  {
   "cell_type": "markdown",
   "metadata": {},
   "source": [
    "Training accuracy was pretty while validation accuracy looks more random"
   ]
  },
  {
   "cell_type": "code",
   "execution_count": null,
   "metadata": {},
   "outputs": [],
   "source": [
    "plots(his, epoch=20, version=\"loss\")"
   ]
  },
  {
   "attachments": {
    "loss.png": {
     "image/png": "[encoded data removed]"
    }
   },
   "cell_type": "markdown",
   "metadata": {},
   "source": [
    "![loss.png](attachment:loss.png)\n",
    "\n",
    "<br><br>\n",
    "\\*due to some problems the photo of the plot was attached instead of the plot itself"
   ]
  },
  {
   "cell_type": "markdown",
   "metadata": {},
   "source": [
    "After the 8th epoch model start to overfit"
   ]
  },
  {
   "cell_type": "markdown",
   "metadata": {},
   "source": [
    "##### Model's evaluation"
   ]
  },
  {
   "cell_type": "code",
   "execution_count": 51,
   "metadata": {},
   "outputs": [
    {
     "name": "stdout",
     "output_type": "stream",
     "text": [
      "4985/4985 [==============================] - 8s 2ms/step\n"
     ]
    },
    {
     "data": {
      "text/plain": [
       "[0.7262414247126374, 0.8603811264038086]"
      ]
     },
     "execution_count": 51,
     "metadata": {},
     "output_type": "execute_result"
    }
   ],
   "source": [
    "X_test_ind = sentences_to_indices(X_test, word_index, maxLen)\n",
    "\n",
    "model.evaluate(X_test_ind, Y_test)"
   ]
  },
  {
   "cell_type": "markdown",
   "metadata": {},
   "source": [
    "86% accuracy on the test set (approx. the same as on dev set), compared with the train set, the conclusion about overfitting may be upheld. Nevertheless final results are pretty decent"
   ]
  },
  {
   "cell_type": "code",
   "execution_count": 52,
   "metadata": {},
   "outputs": [],
   "source": [
    "def results(real, pred):\n",
    "    cm=confusion_matrix(real, pred)\n",
    "    df_cm = pd.DataFrame(cm, range(cm.shape[0]), range(cm.shape[1]))\n",
    "\n",
    "    sns.set(font_scale=1) # for label size\n",
    "    sns.heatmap(df_cm, annot=True, fmt='d', annot_kws={\"size\": 11}) # font size\n",
    "\n",
    "    plt.show()\n",
    "    print(classification_report(real, pred))"
   ]
  },
  {
   "cell_type": "code",
   "execution_count": 54,
   "metadata": {},
   "outputs": [
    {
     "data": {
      "image/png": "[encoded data removed]",
      "text/plain": [
       "<Figure size 576x396 with 2 Axes>"
      ]
     },
     "metadata": {},
     "output_type": "display_data"
    },
    {
     "name": "stdout",
     "output_type": "stream",
     "text": [
      "              precision    recall  f1-score   support\n",
      "\n",
      "           0       0.89      0.82      0.86      2497\n",
      "           1       0.83      0.90      0.87      2488\n",
      "\n",
      "    accuracy                           0.86      4985\n",
      "   macro avg       0.86      0.86      0.86      4985\n",
      "weighted avg       0.86      0.86      0.86      4985\n",
      "\n"
     ]
    }
   ],
   "source": [
    "preds = model.predict(X_test_ind)\n",
    "# assign score categories and logic\n",
    "i = 0\n",
    "preds_value = [ ] # empty series to hold our predicted values\n",
    "\n",
    "while(i<len(preds)):\n",
    "    if ((preds[i][0] > 0.5)):\n",
    "        preds_value.append(1)\n",
    "        i = i+1\n",
    "    elif ((preds[i][0] <= 0.5)):\n",
    "        preds_value.append(0)\n",
    "        i = i+1\n",
    "#print(preds_value)\n",
    "\n",
    "\n",
    "results(Y_test, preds_value)"
   ]
  },
  {
   "cell_type": "markdown",
   "metadata": {},
   "source": [
    "The model tends to predict positive sentiment as negative more often than negative sentiment as positive"
   ]
  },
  {
   "cell_type": "markdown",
   "metadata": {},
   "source": [
    "##### Examples of misclassification"
   ]
  },
  {
   "cell_type": "code",
   "execution_count": 70,
   "metadata": {},
   "outputs": [
    {
     "name": "stdout",
     "output_type": "stream",
     "text": [
      "0.8004012036108326\n",
      "True value: 1\n",
      "Predicted probability 0.3731861710548401\n",
      "Predicted value: 0\n",
      "The review:\n",
      "i would like to start by saying i can only hope that the makers of this movie and it is sister film the intruder directed by the great unheralded stylist auteur that is jopi burnama know in their hearts just how much pleasure they have brought to me and my friends in the sleepy north eastern town of jarrow from the opening pre credit sequence which manages to drag ever so slightly despite containing a man crashing through a window on a motorbike the pitiless destruction of a silence lab the introduction of one of the most simultaneously annoying and anaemic bad guys in movie history and costume design that jean paul gautier would find ott and garish make no mistake this is a truly unique experience early highlight an explosion get used to it plenty more where that came from followed by a close up of our chubby heroine and the most hilarious line reading of the word dad in living memory and then the theme song yeah this deserves its own paragraph sung by aj written by people who really should wish to remain anonymous it makes the songs written for the rocky films sound like schubert this is crap 's hero motivation narcissism at an all time high with choice lyrics such as its only me and you its come down to the wire and much talk of having to cross the line it will make sense in time our hero cares little for the boundaries of bona fida police work abounding not to mention the indonesian supremes cooing the film's title seductively at this point anyone wishing to switch off officially has no pulse our hero is semitic cop peter goldson essayed brilliantly by intruder star peter obrien the stabilizer of the title the man's bull in a china shop approach to crime fighting and particularly his less than inconspicuous undercover work truly leaves much to be desired but he is without question an entertaining guide through the mean streets of downtown jakarta with local sleaze ball connection captain johnny in tow as well as peter's own waste of space partner in fashion crime sylvia nash who does little so many highlights so little time the slide please arrogance of peter's not all too convincingly argued case against chief baddie greg rainmaker intruder fans will know hirsute slimy bastard craig gavin as the monstrous john white helluva name eh no oh well the x marks the spot location map stupidity our hero taking horrible advantage of heroine tina probost during a moment of weakness on her behalf the latter turning up at a sting operation dressed like a member of a particularly flamboyant dancing troop and believe me that barely covers it there was not even time to go into the plot revolving around the hunt for a drug detection system and a kidnapped professor with an alarming but commendable amount of national pride or our hero turning up at a funeral dressed as if an extra on boogie nights or the absolutely hysterical craic between captain johnny and goldson two guys have never made more heavy weather of buddy buddy shtick than these clowns the trowel was possibly too subtle me thinks ah it tails off people and you never thought scenes of wanton destruction and general mayhem could be so unbelievably boring but the character interaction is stupendous the dialogue truly priceless and the incompetence on show somehow endearing oh and the shoes people watch out for the shoes \n"
     ]
    }
   ],
   "source": [
    "misclass = []\n",
    "for i in range(len(preds)):\n",
    "    if preds_value[i] != Y_test[i]:\n",
    "        misclass.append(i)\n",
    "\n",
    "#print(1-len(misclass)/len(preds))\n",
    "def example(i, misclass):\n",
    "    if i<len(misclass):\n",
    "        print(f\"True value: {Y_test[misclass[0]]}\\nPredicted probability {preds[misclass[0]][0]}\\nPredicted value: {preds_value[misclass[0]]}\\nThe review:\\n{X_test[misclass[0]]}\")\n",
    "    else:\n",
    "        print(\"Try lower number\")\n",
    "\n",
    "example(3, misclass)"
   ]
  },
  {
   "cell_type": "markdown",
   "metadata": {},
   "source": [
    "### Vader"
   ]
  },
  {
   "cell_type": "markdown",
   "metadata": {},
   "source": [
    "VADER is a VALENCE based sentiment analyzer <br>\n",
    "Valence based approach taken into consideration the \"intensity\" of a word as opposed to only the polarity (+ve or -ve). For ex. \"Great\" is more treated as more +ve as opposed to \"Good\"<br>\n",
    "Used scale:\n",
    "- For 3 categories:\n",
    "    - Neutral 0 < and > 0.7\n",
    "    - Positive >=0.7\n",
    "    - Negative <=0\n",
    "- For 2 categories:\n",
    "    - Positive >0\n",
    "    - Negative <0"
   ]
  },
  {
   "cell_type": "code",
   "execution_count": 59,
   "metadata": {},
   "outputs": [
    {
     "name": "stderr",
     "output_type": "stream",
     "text": [
      "[nltk_data] Downloading package vader_lexicon to\n",
      "[nltk_data]     C:\\Users\\maciej\\AppData\\Roaming\\nltk_data...\n"
     ]
    }
   ],
   "source": [
    "import nltk\n",
    "nltk.download('vader_lexicon')\n",
    "from nltk.sentiment.vader import SentimentIntensityAnalyzer\n",
    "\n",
    "analyser = SentimentIntensityAnalyzer()"
   ]
  },
  {
   "cell_type": "code",
   "execution_count": 60,
   "metadata": {},
   "outputs": [
    {
     "data": {
      "text/html": [
       "<div>\n",
       "<style scoped>\n",
       "    .dataframe tbody tr th:only-of-type {\n",
       "        vertical-align: middle;\n",
       "    }\n",
       "\n",
       "    .dataframe tbody tr th {\n",
       "        vertical-align: top;\n",
       "    }\n",
       "\n",
       "    .dataframe thead th {\n",
       "        text-align: right;\n",
       "    }\n",
       "</style>\n",
       "<table border=\"1\" class=\"dataframe\">\n",
       "  <thead>\n",
       "    <tr style=\"text-align: right;\">\n",
       "      <th></th>\n",
       "      <th>review</th>\n",
       "      <th>sentiment</th>\n",
       "    </tr>\n",
       "  </thead>\n",
       "  <tbody>\n",
       "    <tr>\n",
       "      <th>0</th>\n",
       "      <td>i would like to start by saying i can only hop...</td>\n",
       "      <td>positive</td>\n",
       "    </tr>\n",
       "    <tr>\n",
       "      <th>1</th>\n",
       "      <td>after visiting the kimbell museum in forth wor...</td>\n",
       "      <td>positive</td>\n",
       "    </tr>\n",
       "    <tr>\n",
       "      <th>2</th>\n",
       "      <td>i would buy that for a dollar i did buy this f...</td>\n",
       "      <td>positive</td>\n",
       "    </tr>\n",
       "    <tr>\n",
       "      <th>3</th>\n",
       "      <td>anyone who thinks this film has not been appre...</td>\n",
       "      <td>negative</td>\n",
       "    </tr>\n",
       "    <tr>\n",
       "      <th>4</th>\n",
       "      <td>perhaps i am out of date or just do not know w...</td>\n",
       "      <td>negative</td>\n",
       "    </tr>\n",
       "  </tbody>\n",
       "</table>\n",
       "</div>"
      ],
      "text/plain": [
       "                                              review sentiment\n",
       "0  i would like to start by saying i can only hop...  positive\n",
       "1  after visiting the kimbell museum in forth wor...  positive\n",
       "2  i would buy that for a dollar i did buy this f...  positive\n",
       "3  anyone who thinks this film has not been appre...  negative\n",
       "4  perhaps i am out of date or just do not know w...  negative"
      ]
     },
     "execution_count": 60,
     "metadata": {},
     "output_type": "execute_result"
    }
   ],
   "source": [
    "df=pd.DataFrame()\n",
    "df[\"review\"]=X_test\n",
    "df[\"sentiment\"]=Y_test\n",
    "df.sentiment = df.sentiment.apply(lambda x: \"positive\" if x == 1  else \"negative\")\n",
    "df.head()"
   ]
  },
  {
   "cell_type": "code",
   "execution_count": 61,
   "metadata": {},
   "outputs": [],
   "source": [
    "# move to sentiment analysis\n",
    "def print_sentiment_scores(sentence):\n",
    "    snt = analyser.polarity_scores(sentence)  #call the polarity analyzer\n",
    "    print(\"{:-<40} {}\".format(sentence, str(snt)))"
   ]
  },
  {
   "cell_type": "code",
   "execution_count": 62,
   "metadata": {},
   "outputs": [
    {
     "name": "stdout",
     "output_type": "stream",
     "text": [
      "negative\n",
      "while everyone does a decent job in this film i agree with the other comment it is too loose and scattered too much like a script less experiment with really talented actors as such it is not enough to hold your attention having said that there are a few really funny moments one involving dylan mcdermott and a flaming shot glass that i think anyone who is been that drunk would find as funny as i did the other is a split second with an inflatable dinosaur crispin glover does his usual nutty twitch fest guy and does it fine harry dean stanton does his usual nutty patriarch repo man anyone etc good cast not enough to keep it going just a few gems seconds long  {'neg': 0.036, 'neu': 0.816, 'pos': 0.149, 'compound': 0.9322}\n"
     ]
    }
   ],
   "source": [
    "# compound value scale = -1 to 1 (-ve to +ve)\n",
    "print(df.sentiment[11])\n",
    "print_sentiment_scores(df.review[11])"
   ]
  },
  {
   "cell_type": "code",
   "execution_count": 63,
   "metadata": {},
   "outputs": [
    {
     "name": "stdout",
     "output_type": "stream",
     "text": [
      "Wall time: 0 ns\n",
      "Time: 2.57 seconds, number of obs: 1000\n",
      "Time: 5.03 seconds, number of obs: 2000\n",
      "Time: 7.51 seconds, number of obs: 3000\n",
      "Time: 9.99 seconds, number of obs: 4000\n",
      "Total execution time: 12.48 seconds, total number of obs: 4985\n"
     ]
    }
   ],
   "source": [
    "%time # to calulate the time it takes the algorithm to compute a VADER score\n",
    "start = time.time()\n",
    "\n",
    "i=0 # counter\n",
    "compval1 = [ ] # empty list to hold our computed 'compound' VADER scores\n",
    "\n",
    "while (i<len(df)):\n",
    "    k = analyser.polarity_scores(df.iloc[i]['review'])\n",
    "    compval1.append(k['compound'])\n",
    "    i = i+1\n",
    "    if i%1000==0:\n",
    "        stopPart = time.time()\n",
    "        print(\"Time: {} seconds, number of obs: {}\".format(round(stopPart-start, 2), i))\n",
    "# convert sentiment values to numpy for easier usage\n",
    "stop = time.time()\n",
    "print(\"Total execution time: {} seconds, total number of obs: {}\".format(round(stop-start, 2), i))\n",
    "compval1 = np.array(compval1)\n",
    "#len(compval1)"
   ]
  },
  {
   "cell_type": "code",
   "execution_count": 64,
   "metadata": {},
   "outputs": [
    {
     "data": {
      "text/html": [
       "<div>\n",
       "<style scoped>\n",
       "    .dataframe tbody tr th:only-of-type {\n",
       "        vertical-align: middle;\n",
       "    }\n",
       "\n",
       "    .dataframe tbody tr th {\n",
       "        vertical-align: top;\n",
       "    }\n",
       "\n",
       "    .dataframe thead th {\n",
       "        text-align: right;\n",
       "    }\n",
       "</style>\n",
       "<table border=\"1\" class=\"dataframe\">\n",
       "  <thead>\n",
       "    <tr style=\"text-align: right;\">\n",
       "      <th></th>\n",
       "      <th>review</th>\n",
       "      <th>sentiment</th>\n",
       "      <th>vader</th>\n",
       "    </tr>\n",
       "  </thead>\n",
       "  <tbody>\n",
       "    <tr>\n",
       "      <th>0</th>\n",
       "      <td>i would like to start by saying i can only hop...</td>\n",
       "      <td>positive</td>\n",
       "      <td>-0.9407</td>\n",
       "    </tr>\n",
       "    <tr>\n",
       "      <th>1</th>\n",
       "      <td>after visiting the kimbell museum in forth wor...</td>\n",
       "      <td>positive</td>\n",
       "      <td>0.9922</td>\n",
       "    </tr>\n",
       "    <tr>\n",
       "      <th>2</th>\n",
       "      <td>i would buy that for a dollar i did buy this f...</td>\n",
       "      <td>positive</td>\n",
       "      <td>0.9872</td>\n",
       "    </tr>\n",
       "    <tr>\n",
       "      <th>3</th>\n",
       "      <td>anyone who thinks this film has not been appre...</td>\n",
       "      <td>negative</td>\n",
       "      <td>0.9178</td>\n",
       "    </tr>\n",
       "    <tr>\n",
       "      <th>4</th>\n",
       "      <td>perhaps i am out of date or just do not know w...</td>\n",
       "      <td>negative</td>\n",
       "      <td>0.7226</td>\n",
       "    </tr>\n",
       "  </tbody>\n",
       "</table>\n",
       "</div>"
      ],
      "text/plain": [
       "                                              review sentiment   vader\n",
       "0  i would like to start by saying i can only hop...  positive -0.9407\n",
       "1  after visiting the kimbell museum in forth wor...  positive  0.9922\n",
       "2  i would buy that for a dollar i did buy this f...  positive  0.9872\n",
       "3  anyone who thinks this film has not been appre...  negative  0.9178\n",
       "4  perhaps i am out of date or just do not know w...  negative  0.7226"
      ]
     },
     "execution_count": 64,
     "metadata": {},
     "output_type": "execute_result"
    }
   ],
   "source": [
    "df['vader'] = compval1\n",
    "df.head()"
   ]
  },
  {
   "cell_type": "code",
   "execution_count": 65,
   "metadata": {},
   "outputs": [],
   "source": [
    "def labels(neutral):\n",
    "    if neutral == True:\n",
    "        # assign score categories and logic\n",
    "        i = 0\n",
    "        predicted_value = [ ] # empty series to hold our predicted values\n",
    "\n",
    "        while(i<len(df)):\n",
    "            if ((df.iloc[i]['vader'] >= 0.7)):\n",
    "                predicted_value.append('positive')\n",
    "                i = i+1\n",
    "            elif ((df.iloc[i]['vader'] > 0) & (df.iloc[i]['vader'] < 0.7)):\n",
    "                predicted_value.append('neutral')\n",
    "                i = i+1\n",
    "            elif ((df.iloc[i]['vader'] <= 0)):\n",
    "                predicted_value.append('negative')\n",
    "                i = i+1\n",
    "    else: \n",
    "        # assign score categories and logic\n",
    "        i = 0\n",
    "        predicted_value = [ ] # empty series to hold our predicted values\n",
    "\n",
    "        while(i<len(df)):\n",
    "            if ((df.iloc[i]['vader'] > 0)):\n",
    "                predicted_value.append('positive')\n",
    "                i = i+1\n",
    "            elif ((df.iloc[i]['vader'] <= 0)):\n",
    "                predicted_value.append('negative')\n",
    "                i = i+1\n",
    "                \n",
    "    return predicted_value"
   ]
  },
  {
   "cell_type": "code",
   "execution_count": 66,
   "metadata": {},
   "outputs": [
    {
     "data": {
      "text/html": [
       "<div>\n",
       "<style scoped>\n",
       "    .dataframe tbody tr th:only-of-type {\n",
       "        vertical-align: middle;\n",
       "    }\n",
       "\n",
       "    .dataframe tbody tr th {\n",
       "        vertical-align: top;\n",
       "    }\n",
       "\n",
       "    .dataframe thead th {\n",
       "        text-align: right;\n",
       "    }\n",
       "</style>\n",
       "<table border=\"1\" class=\"dataframe\">\n",
       "  <thead>\n",
       "    <tr style=\"text-align: right;\">\n",
       "      <th></th>\n",
       "      <th>review</th>\n",
       "      <th>sentiment</th>\n",
       "      <th>vader</th>\n",
       "      <th>vader_prediction_N</th>\n",
       "      <th>vader_prediction</th>\n",
       "    </tr>\n",
       "  </thead>\n",
       "  <tbody>\n",
       "    <tr>\n",
       "      <th>0</th>\n",
       "      <td>i would like to start by saying i can only hop...</td>\n",
       "      <td>positive</td>\n",
       "      <td>-0.9407</td>\n",
       "      <td>negative</td>\n",
       "      <td>negative</td>\n",
       "    </tr>\n",
       "    <tr>\n",
       "      <th>1</th>\n",
       "      <td>after visiting the kimbell museum in forth wor...</td>\n",
       "      <td>positive</td>\n",
       "      <td>0.9922</td>\n",
       "      <td>positive</td>\n",
       "      <td>positive</td>\n",
       "    </tr>\n",
       "    <tr>\n",
       "      <th>2</th>\n",
       "      <td>i would buy that for a dollar i did buy this f...</td>\n",
       "      <td>positive</td>\n",
       "      <td>0.9872</td>\n",
       "      <td>positive</td>\n",
       "      <td>positive</td>\n",
       "    </tr>\n",
       "    <tr>\n",
       "      <th>3</th>\n",
       "      <td>anyone who thinks this film has not been appre...</td>\n",
       "      <td>negative</td>\n",
       "      <td>0.9178</td>\n",
       "      <td>positive</td>\n",
       "      <td>positive</td>\n",
       "    </tr>\n",
       "    <tr>\n",
       "      <th>4</th>\n",
       "      <td>perhaps i am out of date or just do not know w...</td>\n",
       "      <td>negative</td>\n",
       "      <td>0.7226</td>\n",
       "      <td>positive</td>\n",
       "      <td>positive</td>\n",
       "    </tr>\n",
       "  </tbody>\n",
       "</table>\n",
       "</div>"
      ],
      "text/plain": [
       "                                              review sentiment   vader  \\\n",
       "0  i would like to start by saying i can only hop...  positive -0.9407   \n",
       "1  after visiting the kimbell museum in forth wor...  positive  0.9922   \n",
       "2  i would buy that for a dollar i did buy this f...  positive  0.9872   \n",
       "3  anyone who thinks this film has not been appre...  negative  0.9178   \n",
       "4  perhaps i am out of date or just do not know w...  negative  0.7226   \n",
       "\n",
       "  vader_prediction_N vader_prediction  \n",
       "0           negative         negative  \n",
       "1           positive         positive  \n",
       "2           positive         positive  \n",
       "3           positive         positive  \n",
       "4           positive         positive  "
      ]
     },
     "execution_count": 66,
     "metadata": {},
     "output_type": "execute_result"
    }
   ],
   "source": [
    "df['vader_prediction_N'] = labels(True)\n",
    "df['vader_prediction'] = labels(False)\n",
    "df.head()"
   ]
  },
  {
   "cell_type": "code",
   "execution_count": 67,
   "metadata": {},
   "outputs": [
    {
     "data": {
      "image/png": "[encoded data removed]",
      "text/plain": [
       "<Figure size 576x396 with 2 Axes>"
      ]
     },
     "metadata": {},
     "output_type": "display_data"
    },
    {
     "name": "stdout",
     "output_type": "stream",
     "text": [
      "              precision    recall  f1-score   support\n",
      "\n",
      "    negative       0.79      0.55      0.65      2497\n",
      "    positive       0.65      0.85      0.74      2488\n",
      "\n",
      "    accuracy                           0.70      4985\n",
      "   macro avg       0.72      0.70      0.70      4985\n",
      "weighted avg       0.72      0.70      0.70      4985\n",
      "\n"
     ]
    }
   ],
   "source": [
    "results(df.sentiment,df.vader_prediction)"
   ]
  },
  {
   "cell_type": "markdown",
   "metadata": {},
   "source": [
    "As it can be seen the vader approach was used only on the test set to compare somehow results with the ones obtained by CNN. Accuracy in region of 0.7 is quite good, not great but it is better than it was assumed, but still it is significantly worse than CNN result"
   ]
  },
  {
   "cell_type": "code",
   "execution_count": 68,
   "metadata": {},
   "outputs": [
    {
     "data": {
      "image/png": "[encoded data removed]",
      "text/plain": [
       "<Figure size 576x396 with 2 Axes>"
      ]
     },
     "metadata": {},
     "output_type": "display_data"
    },
    {
     "name": "stdout",
     "output_type": "stream",
     "text": [
      "              precision    recall  f1-score   support\n",
      "\n",
      "    negative       0.79      0.55      0.65      2497\n",
      "     neutral       0.00      0.00      0.00         0\n",
      "    positive       0.72      0.78      0.74      2488\n",
      "\n",
      "    accuracy                           0.66      4985\n",
      "   macro avg       0.50      0.44      0.46      4985\n",
      "weighted avg       0.75      0.66      0.70      4985\n",
      "\n"
     ]
    },
    {
     "name": "stderr",
     "output_type": "stream",
     "text": [
      "C:\\Users\\maciej\\anaconda3\\lib\\site-packages\\sklearn\\metrics\\_classification.py:1272: UndefinedMetricWarning: Recall and F-score are ill-defined and being set to 0.0 in labels with no true samples. Use `zero_division` parameter to control this behavior.\n",
      "  _warn_prf(average, modifier, msg_start, len(result))\n"
     ]
    }
   ],
   "source": [
    "results(df.sentiment,df.vader_prediction_N)"
   ]
  },
  {
   "cell_type": "markdown",
   "metadata": {},
   "source": [
    "Negative reviews are more often taken as positive or neutral than positive as negative or neutral."
   ]
  },
  {
   "cell_type": "markdown",
   "metadata": {},
   "source": [
    "## Experiments"
   ]
  },
  {
   "cell_type": "markdown",
   "metadata": {},
   "source": [
    "#### Maximum length of review"
   ]
  },
  {
   "cell_type": "markdown",
   "metadata": {},
   "source": [
    "Max 250 words"
   ]
  },
  {
   "cell_type": "code",
   "execution_count": 4,
   "metadata": {},
   "outputs": [
    {
     "name": "stdout",
     "output_type": "stream",
     "text": [
      "Max sentence length: 250\n",
      "Embedding dimension: 100D\n",
      "Stopwords used: False\n",
      "Train part: 0.7\n",
      "Dev part: 0.2\n",
      "Test part: 0.1\n",
      "Random state: 2021\n",
      "Total execution time: 33.43 seconds\n",
      "Model: \"model\"\n",
      "_________________________________________________________________\n",
      "Layer (type)                 Output Shape              Param #   \n",
      "=================================================================\n",
      "input_1 (InputLayer)         [(None, 250)]             0         \n",
      "_________________________________________________________________\n",
      "embedding (Embedding)        (None, 250, 100)          4934200   \n",
      "_________________________________________________________________\n",
      "conv1d (Conv1D)              (None, 246, 128)          64128     \n",
      "_________________________________________________________________\n",
      "max_pooling1d (MaxPooling1D) (None, 49, 128)           0         \n",
      "_________________________________________________________________\n",
      "conv1d_1 (Conv1D)            (None, 45, 128)           82048     \n",
      "_________________________________________________________________\n",
      "max_pooling1d_1 (MaxPooling1 (None, 9, 128)            0         \n",
      "_________________________________________________________________\n",
      "conv1d_2 (Conv1D)            (None, 5, 128)            82048     \n",
      "_________________________________________________________________\n",
      "max_pooling1d_2 (MaxPooling1 (None, 1, 128)            0         \n",
      "_________________________________________________________________\n",
      "flatten (Flatten)            (None, 128)               0         \n",
      "_________________________________________________________________\n",
      "dense (Dense)                (None, 128)               16512     \n",
      "_________________________________________________________________\n",
      "dense_1 (Dense)              (None, 1)                 129       \n",
      "=================================================================\n",
      "Total params: 5,179,065\n",
      "Trainable params: 244,865\n",
      "Non-trainable params: 4,934,200\n",
      "_________________________________________________________________\n",
      "Epoch 1/10\n",
      "96/96 [==============================] - 26s 259ms/step - loss: 0.7627 - acc: 0.5319 - val_loss: 0.6206 - val_acc: 0.6476\n",
      "Epoch 2/10\n",
      "96/96 [==============================] - 22s 233ms/step - loss: 0.5945 - acc: 0.7102 - val_loss: 0.4527 - val_acc: 0.8020\n",
      "Epoch 3/10\n",
      "96/96 [==============================] - 23s 239ms/step - loss: 0.4812 - acc: 0.7785 - val_loss: 0.4305 - val_acc: 0.8002\n",
      "Epoch 4/10\n",
      "96/96 [==============================] - 22s 232ms/step - loss: 0.4301 - acc: 0.8051 - val_loss: 0.4225 - val_acc: 0.8431\n",
      "Epoch 5/10\n",
      "96/96 [==============================] - 22s 234ms/step - loss: 0.3750 - acc: 0.8342 - val_loss: 0.4923 - val_acc: 0.7875\n",
      "Epoch 6/10\n",
      "96/96 [==============================] - 23s 239ms/step - loss: 0.3435 - acc: 0.8496 - val_loss: 0.3758 - val_acc: 0.8349\n",
      "Epoch 7/10\n",
      "96/96 [==============================] - 24s 245ms/step - loss: 0.3058 - acc: 0.8682 - val_loss: 0.3144 - val_acc: 0.8673\n",
      "Epoch 8/10\n",
      "96/96 [==============================] - 23s 238ms/step - loss: 0.2594 - acc: 0.8957 - val_loss: 0.4484 - val_acc: 0.8258\n",
      "Epoch 9/10\n",
      "96/96 [==============================] - 24s 255ms/step - loss: 0.2447 - acc: 0.8964 - val_loss: 0.4484 - val_acc: 0.8215\n",
      "Epoch 10/10\n",
      "96/96 [==============================] - 23s 244ms/step - loss: 0.2086 - acc: 0.9110 - val_loss: 0.3756 - val_acc: 0.8620\n",
      "Total execution time: 267.07 seconds\n"
     ]
    }
   ],
   "source": [
    "start=time.time()\n",
    "embedding_layer, maxLen, word_index, X_train_ind, Y_train, X_dev_ind, Y_dev, X_test, Y_test = own.dataset(250, 100, False, 0.7, 0.2, 0.1, 2021)\n",
    "\n",
    "\n",
    "sequence_input = Input(shape=(maxLen,), dtype='int32')\n",
    "embedded_sequences = embedding_layer(sequence_input)\n",
    "x = Conv1D(128, 5, activation='relu')(embedded_sequences)\n",
    "x = MaxPooling1D(5)(x)\n",
    "x = Conv1D(128, 5, activation='relu')(x)\n",
    "x = MaxPooling1D(5)(x)\n",
    "x = Conv1D(128, 5, activation='relu')(x)\n",
    "x = MaxPooling1D(5)(x)  # global max pooling (zmieniany w zaleznosci od opcji dataset)\n",
    "x = Flatten()(x)\n",
    "x = Dense(128, activation='relu')(x)\n",
    "preds = Dense(1, activation='sigmoid')(x)\n",
    "\n",
    "model = Model(sequence_input, preds)\n",
    "model.compile(loss='binary_crossentropy',\n",
    "              optimizer='rmsprop',\n",
    "              metrics=['acc'])\n",
    "\n",
    "model.summary()\n",
    "history = model.fit(X_train_ind, Y_train, validation_data=(X_dev_ind, Y_dev),\n",
    "                    epochs=10, batch_size=256)\n",
    "model.save(\"model_CNN_250_100_10_epochs.h5\")\n",
    "stop = time.time()\n",
    "print(\"Total execution time: {} seconds\".format(round(stop-start, 2)))"
   ]
  },
  {
   "cell_type": "code",
   "execution_count": 5,
   "metadata": {},
   "outputs": [
    {
     "name": "stdout",
     "output_type": "stream",
     "text": [
      "111/111 [==============================] - 1s 12ms/step - loss: 0.3626 - acc: 0.8607\n"
     ]
    },
    {
     "data": {
      "text/plain": [
       "[0.3626479208469391, 0.8606557250022888]"
      ]
     },
     "execution_count": 5,
     "metadata": {},
     "output_type": "execute_result"
    }
   ],
   "source": [
    "X_test_ind = sentences_to_indices(X_test, word_index, maxLen)\n",
    "model.evaluate(X_test_ind, Y_test)"
   ]
  },
  {
   "cell_type": "code",
   "execution_count": 6,
   "metadata": {},
   "outputs": [
    {
     "data": {
      "image/png": "[encoded data removed]",
      "text/plain": [
       "<Figure size 576x396 with 1 Axes>"
      ]
     },
     "metadata": {},
     "output_type": "display_data"
    }
   ],
   "source": [
    "plots(history, epoch=10, version=\"both\")"
   ]
  },
  {
   "cell_type": "markdown",
   "metadata": {},
   "source": [
    "Max 500 words"
   ]
  },
  {
   "cell_type": "code",
   "execution_count": 7,
   "metadata": {},
   "outputs": [
    {
     "name": "stdout",
     "output_type": "stream",
     "text": [
      "Max sentence length: 500\n",
      "Embedding dimension: 100D\n",
      "Stopwords used: False\n",
      "Train part: 0.7\n",
      "Dev part: 0.2\n",
      "Test part: 0.1\n",
      "Random state: 2021\n",
      "Total execution time: 52.52 seconds\n",
      "Model: \"model_1\"\n",
      "_________________________________________________________________\n",
      "Layer (type)                 Output Shape              Param #   \n",
      "=================================================================\n",
      "input_2 (InputLayer)         [(None, 500)]             0         \n",
      "_________________________________________________________________\n",
      "embedding_1 (Embedding)      (None, 500, 100)          6057800   \n",
      "_________________________________________________________________\n",
      "conv1d_3 (Conv1D)            (None, 496, 128)          64128     \n",
      "_________________________________________________________________\n",
      "max_pooling1d_3 (MaxPooling1 (None, 99, 128)           0         \n",
      "_________________________________________________________________\n",
      "conv1d_4 (Conv1D)            (None, 95, 128)           82048     \n",
      "_________________________________________________________________\n",
      "max_pooling1d_4 (MaxPooling1 (None, 19, 128)           0         \n",
      "_________________________________________________________________\n",
      "conv1d_5 (Conv1D)            (None, 15, 128)           82048     \n",
      "_________________________________________________________________\n",
      "max_pooling1d_5 (MaxPooling1 (None, 3, 128)            0         \n",
      "_________________________________________________________________\n",
      "flatten_1 (Flatten)          (None, 384)               0         \n",
      "_________________________________________________________________\n",
      "dense_2 (Dense)              (None, 128)               49280     \n",
      "_________________________________________________________________\n",
      "dense_3 (Dense)              (None, 1)                 129       \n",
      "=================================================================\n",
      "Total params: 6,335,433\n",
      "Trainable params: 277,633\n",
      "Non-trainable params: 6,057,800\n",
      "_________________________________________________________________\n",
      "Epoch 1/10\n",
      "126/126 [==============================] - 87s 684ms/step - loss: 0.7975 - acc: 0.5451 - val_loss: 0.5588 - val_acc: 0.7521\n",
      "Epoch 2/10\n",
      "126/126 [==============================] - 80s 637ms/step - loss: 0.5546 - acc: 0.7285 - val_loss: 0.4413 - val_acc: 0.7937\n",
      "Epoch 3/10\n",
      "126/126 [==============================] - 81s 645ms/step - loss: 0.4424 - acc: 0.7988 - val_loss: 0.3634 - val_acc: 0.8399\n",
      "Epoch 4/10\n",
      "126/126 [==============================] - 80s 637ms/step - loss: 0.3954 - acc: 0.8254 - val_loss: 0.3395 - val_acc: 0.8584\n",
      "Epoch 5/10\n",
      "126/126 [==============================] - 80s 631ms/step - loss: 0.3542 - acc: 0.8439 - val_loss: 0.3397 - val_acc: 0.8504\n",
      "Epoch 6/10\n",
      "126/126 [==============================] - 80s 636ms/step - loss: 0.3230 - acc: 0.8604 - val_loss: 0.3285 - val_acc: 0.8588\n",
      "Epoch 7/10\n",
      "126/126 [==============================] - 80s 635ms/step - loss: 0.2698 - acc: 0.8842 - val_loss: 0.4613 - val_acc: 0.7945\n",
      "Epoch 8/10\n",
      "126/126 [==============================] - 90s 718ms/step - loss: 0.2519 - acc: 0.8968 - val_loss: 0.3451 - val_acc: 0.8493\n",
      "Epoch 9/10\n",
      "126/126 [==============================] - 104s 824ms/step - loss: 0.2021 - acc: 0.9201 - val_loss: 0.8286 - val_acc: 0.7371\n",
      "Epoch 10/10\n",
      "126/126 [==============================] - 127s 1s/step - loss: 0.1951 - acc: 0.9243 - val_loss: 0.3777 - val_acc: 0.8645\n",
      "Total execution time: 943.05 seconds\n"
     ]
    }
   ],
   "source": [
    "start=time.time()\n",
    "embedding_layer, maxLen, word_index, X_train_ind, Y_train, X_dev_ind, Y_dev, X_test, Y_test = own.dataset(500, 100, False, 0.7, 0.2, 0.1, 2021)\n",
    "\n",
    "sequence_input = Input(shape=(maxLen,), dtype='int32')\n",
    "embedded_sequences = embedding_layer(sequence_input)\n",
    "x = Conv1D(128, 5, activation='relu')(embedded_sequences)\n",
    "x = MaxPooling1D(5)(x)\n",
    "x = Conv1D(128, 5, activation='relu')(x)\n",
    "x = MaxPooling1D(5)(x)\n",
    "x = Conv1D(128, 5, activation='relu')(x)\n",
    "x = MaxPooling1D(5)(x)  # global max pooling (zmieniany w zaleznosci od opcji dataset)\n",
    "x = Flatten()(x)\n",
    "x = Dense(128, activation='relu')(x)\n",
    "preds = Dense(1, activation='sigmoid')(x)\n",
    "\n",
    "model = Model(sequence_input, preds)\n",
    "model.compile(loss='binary_crossentropy',\n",
    "              optimizer='rmsprop',\n",
    "              metrics=['acc'])\n",
    "\n",
    "model.summary()\n",
    "history = model.fit(X_train_ind, Y_train, validation_data=(X_dev_ind, Y_dev),\n",
    "                    epochs=10, batch_size=256)\n",
    "\n",
    "model.save(\"model_CNN_500_100_10_epochs.h5\")\n",
    "stop = time.time()\n",
    "print(\"Total execution time: {} seconds\".format(round(stop-start, 2)))"
   ]
  },
  {
   "cell_type": "code",
   "execution_count": 8,
   "metadata": {},
   "outputs": [
    {
     "name": "stdout",
     "output_type": "stream",
     "text": [
      "144/144 [==============================] - 6s 43ms/step - loss: 0.3542 - acc: 0.8708\n"
     ]
    },
    {
     "data": {
      "text/plain": [
       "[0.35415616631507874, 0.8707571625709534]"
      ]
     },
     "execution_count": 8,
     "metadata": {},
     "output_type": "execute_result"
    }
   ],
   "source": [
    "X_test_ind = sentences_to_indices(X_test, word_index, maxLen)\n",
    "model.evaluate(X_test_ind, Y_test)"
   ]
  },
  {
   "cell_type": "code",
   "execution_count": 9,
   "metadata": {},
   "outputs": [
    {
     "data": {
      "image/png": "[encoded data removed]",
      "text/plain": [
       "<Figure size 576x396 with 1 Axes>"
      ]
     },
     "metadata": {},
     "output_type": "display_data"
    }
   ],
   "source": [
    "plots(history, epoch=10, version=\"both\")"
   ]
  },
  {
   "cell_type": "markdown",
   "metadata": {},
   "source": [
    "Max 1000 words"
   ]
  },
  {
   "cell_type": "code",
   "execution_count": 10,
   "metadata": {},
   "outputs": [
    {
     "name": "stdout",
     "output_type": "stream",
     "text": [
      "Max sentence length: 1000\n",
      "Embedding dimension: 100D\n",
      "Stopwords used: False\n",
      "Train part: 0.7\n",
      "Dev part: 0.2\n",
      "Test part: 0.1\n",
      "Random state: 2021\n",
      "Total execution time: 96.79 seconds\n",
      "Model: \"model_2\"\n",
      "_________________________________________________________________\n",
      "Layer (type)                 Output Shape              Param #   \n",
      "=================================================================\n",
      "input_3 (InputLayer)         [(None, 1000)]            0         \n",
      "_________________________________________________________________\n",
      "embedding_2 (Embedding)      (None, 1000, 100)         6634300   \n",
      "_________________________________________________________________\n",
      "conv1d_6 (Conv1D)            (None, 996, 128)          64128     \n",
      "_________________________________________________________________\n",
      "max_pooling1d_6 (MaxPooling1 (None, 199, 128)          0         \n",
      "_________________________________________________________________\n",
      "conv1d_7 (Conv1D)            (None, 195, 128)          82048     \n",
      "_________________________________________________________________\n",
      "max_pooling1d_7 (MaxPooling1 (None, 39, 128)           0         \n",
      "_________________________________________________________________\n",
      "conv1d_8 (Conv1D)            (None, 35, 128)           82048     \n",
      "_________________________________________________________________\n",
      "max_pooling1d_8 (MaxPooling1 (None, 7, 128)            0         \n",
      "_________________________________________________________________\n",
      "flatten_2 (Flatten)          (None, 896)               0         \n",
      "_________________________________________________________________\n",
      "dense_4 (Dense)              (None, 128)               114816    \n",
      "_________________________________________________________________\n",
      "dense_5 (Dense)              (None, 1)                 129       \n",
      "=================================================================\n",
      "Total params: 6,977,469\n",
      "Trainable params: 343,169\n",
      "Non-trainable params: 6,634,300\n",
      "_________________________________________________________________\n",
      "Epoch 1/10\n",
      "137/137 [==============================] - 312s 2s/step - loss: 0.7664 - acc: 0.5481 - val_loss: 0.5266 - val_acc: 0.7455\n",
      "Epoch 2/10\n",
      "137/137 [==============================] - 302s 2s/step - loss: 0.5393 - acc: 0.7464 - val_loss: 0.5474 - val_acc: 0.6915\n",
      "Epoch 3/10\n",
      "137/137 [==============================] - 312s 2s/step - loss: 0.4414 - acc: 0.7971 - val_loss: 0.3468 - val_acc: 0.8506\n",
      "Epoch 4/10\n",
      "137/137 [==============================] - 263s 2s/step - loss: 0.3831 - acc: 0.8290 - val_loss: 0.5268 - val_acc: 0.7527\n",
      "Epoch 5/10\n",
      "137/137 [==============================] - 239s 2s/step - loss: 0.3546 - acc: 0.8469 - val_loss: 0.3389 - val_acc: 0.8559\n",
      "Epoch 6/10\n",
      "137/137 [==============================] - 216s 2s/step - loss: 0.3104 - acc: 0.8628 - val_loss: 0.3203 - val_acc: 0.8644\n",
      "Epoch 7/10\n",
      "137/137 [==============================] - 174s 1s/step - loss: 0.2761 - acc: 0.8841 - val_loss: 0.2985 - val_acc: 0.8722\n",
      "Epoch 8/10\n",
      "137/137 [==============================] - 216s 2s/step - loss: 0.2456 - acc: 0.8991 - val_loss: 0.3032 - val_acc: 0.8727\n",
      "Epoch 9/10\n",
      "137/137 [==============================] - 233s 2s/step - loss: 0.2153 - acc: 0.9161 - val_loss: 0.3165 - val_acc: 0.8743\n",
      "Epoch 10/10\n",
      "137/137 [==============================] - 229s 2s/step - loss: 0.1865 - acc: 0.9262 - val_loss: 0.4237 - val_acc: 0.8427\n",
      "Total execution time: 2595.4 seconds\n"
     ]
    }
   ],
   "source": [
    "start=time.time()\n",
    "embedding_layer, maxLen, word_index, X_train_ind, Y_train, X_dev_ind, Y_dev, X_test, Y_test = own.dataset(1000, 100, False, 0.7, 0.2, 0.1, 2021)\n",
    "\n",
    "sequence_input = Input(shape=(maxLen,), dtype='int32')\n",
    "embedded_sequences = embedding_layer(sequence_input)\n",
    "x = Conv1D(128, 5, activation='relu')(embedded_sequences)\n",
    "x = MaxPooling1D(5)(x)\n",
    "x = Conv1D(128, 5, activation='relu')(x)\n",
    "x = MaxPooling1D(5)(x)\n",
    "x = Conv1D(128, 5, activation='relu')(x)\n",
    "x = MaxPooling1D(5)(x)  # global max pooling (zmieniany w zaleznosci od opcji dataset)\n",
    "x = Flatten()(x)\n",
    "x = Dense(128, activation='relu')(x)\n",
    "preds = Dense(1, activation='sigmoid')(x)\n",
    "\n",
    "model = Model(sequence_input, preds)\n",
    "model.compile(loss='binary_crossentropy',\n",
    "              optimizer='rmsprop',\n",
    "              metrics=['acc'])\n",
    "\n",
    "model.summary()\n",
    "history = model.fit(X_train_ind, Y_train, validation_data=(X_dev_ind, Y_dev),\n",
    "                    epochs=10, batch_size=256)\n",
    "\n",
    "model.save(\"model_CNN_1000_100_10_epochs.h5\")\n",
    "stop = time.time()\n",
    "print(\"Total execution time: {} seconds\".format(round(stop-start, 2)))"
   ]
  },
  {
   "cell_type": "code",
   "execution_count": 11,
   "metadata": {},
   "outputs": [
    {
     "name": "stdout",
     "output_type": "stream",
     "text": [
      "156/156 [==============================] - 10s 64ms/step - loss: 0.4103 - acc: 0.8439\n"
     ]
    },
    {
     "data": {
      "text/plain": [
       "[0.41032323241233826, 0.8439317941665649]"
      ]
     },
     "execution_count": 11,
     "metadata": {},
     "output_type": "execute_result"
    }
   ],
   "source": [
    "X_test_ind = sentences_to_indices(X_test, word_index, maxLen)\n",
    "model.evaluate(X_test_ind, Y_test)"
   ]
  },
  {
   "cell_type": "code",
   "execution_count": 12,
   "metadata": {},
   "outputs": [
    {
     "data": {
      "image/png": "[encoded data removed]",
      "text/plain": [
       "<Figure size 576x396 with 1 Axes>"
      ]
     },
     "metadata": {},
     "output_type": "display_data"
    }
   ],
   "source": [
    "plots(history, epoch=10, version=\"both\")"
   ]
  },
  {
   "cell_type": "markdown",
   "metadata": {},
   "source": [
    "#### Embeddings"
   ]
  },
  {
   "cell_type": "markdown",
   "metadata": {},
   "source": [
    "50D"
   ]
  },
  {
   "cell_type": "code",
   "execution_count": 14,
   "metadata": {},
   "outputs": [
    {
     "name": "stdout",
     "output_type": "stream",
     "text": [
      "Max sentence length: 500\n",
      "Embedding dimension: 50D\n",
      "Stopwords used: False\n",
      "Train part: 0.7\n",
      "Dev part: 0.2\n",
      "Test part: 0.1\n",
      "Random state: 2021\n",
      "Total execution time: 58.3 seconds\n",
      "Model: \"model_3\"\n",
      "_________________________________________________________________\n",
      "Layer (type)                 Output Shape              Param #   \n",
      "=================================================================\n",
      "input_4 (InputLayer)         [(None, 500)]             0         \n",
      "_________________________________________________________________\n",
      "embedding_3 (Embedding)      (None, 500, 50)           3028900   \n",
      "_________________________________________________________________\n",
      "conv1d_9 (Conv1D)            (None, 496, 128)          32128     \n",
      "_________________________________________________________________\n",
      "max_pooling1d_9 (MaxPooling1 (None, 99, 128)           0         \n",
      "_________________________________________________________________\n",
      "conv1d_10 (Conv1D)           (None, 95, 128)           82048     \n",
      "_________________________________________________________________\n",
      "max_pooling1d_10 (MaxPooling (None, 19, 128)           0         \n",
      "_________________________________________________________________\n",
      "conv1d_11 (Conv1D)           (None, 15, 128)           82048     \n",
      "_________________________________________________________________\n",
      "max_pooling1d_11 (MaxPooling (None, 3, 128)            0         \n",
      "_________________________________________________________________\n",
      "flatten_3 (Flatten)          (None, 384)               0         \n",
      "_________________________________________________________________\n",
      "dense_6 (Dense)              (None, 128)               49280     \n",
      "_________________________________________________________________\n",
      "dense_7 (Dense)              (None, 1)                 129       \n",
      "=================================================================\n",
      "Total params: 3,274,533\n",
      "Trainable params: 245,633\n",
      "Non-trainable params: 3,028,900\n",
      "_________________________________________________________________\n",
      "Epoch 1/10\n",
      "126/126 [==============================] - 70s 540ms/step - loss: 0.7710 - acc: 0.5418 - val_loss: 0.5843 - val_acc: 0.7225\n",
      "Epoch 2/10\n",
      "126/126 [==============================] - 35s 280ms/step - loss: 0.5664 - acc: 0.7171 - val_loss: 0.4747 - val_acc: 0.7701\n",
      "Epoch 3/10\n",
      "126/126 [==============================] - 35s 279ms/step - loss: 0.4945 - acc: 0.7659 - val_loss: 0.4119 - val_acc: 0.8174\n",
      "Epoch 4/10\n",
      "126/126 [==============================] - 38s 301ms/step - loss: 0.4339 - acc: 0.7985 - val_loss: 0.3805 - val_acc: 0.8317\n",
      "Epoch 5/10\n",
      "126/126 [==============================] - 36s 287ms/step - loss: 0.3988 - acc: 0.8213 - val_loss: 0.3690 - val_acc: 0.8375\n",
      "Epoch 6/10\n",
      "126/126 [==============================] - 39s 311ms/step - loss: 0.3609 - acc: 0.8403 - val_loss: 0.3494 - val_acc: 0.8497\n",
      "Epoch 7/10\n",
      "126/126 [==============================] - 37s 295ms/step - loss: 0.3358 - acc: 0.8552 - val_loss: 0.3459 - val_acc: 0.8487\n",
      "Epoch 8/10\n",
      "126/126 [==============================] - 38s 304ms/step - loss: 0.3032 - acc: 0.8662 - val_loss: 0.4290 - val_acc: 0.8087\n",
      "Epoch 9/10\n",
      "126/126 [==============================] - 37s 292ms/step - loss: 0.2685 - acc: 0.8869 - val_loss: 0.3780 - val_acc: 0.8456\n",
      "Epoch 10/10\n",
      "126/126 [==============================] - 36s 285ms/step - loss: 0.2370 - acc: 0.9039 - val_loss: 0.5058 - val_acc: 0.7536\n",
      "Total execution time: 461.54 seconds\n"
     ]
    }
   ],
   "source": [
    "start=time.time()\n",
    "embedding_layer, maxLen, word_index, X_train_ind, Y_train, X_dev_ind, Y_dev, X_test, Y_test = own.dataset(500, 50, False, 0.7, 0.2, 0.1, 2021)\n",
    "\n",
    "sequence_input = Input(shape=(maxLen,), dtype='int32')\n",
    "embedded_sequences = embedding_layer(sequence_input)\n",
    "x = Conv1D(128, 5, activation='relu')(embedded_sequences)\n",
    "x = MaxPooling1D(5)(x)\n",
    "x = Conv1D(128, 5, activation='relu')(x)\n",
    "x = MaxPooling1D(5)(x)\n",
    "x = Conv1D(128, 5, activation='relu')(x)\n",
    "x = MaxPooling1D(5)(x)  # global max pooling (zmieniany w zaleznosci od opcji dataset)\n",
    "x = Flatten()(x)\n",
    "x = Dense(128, activation='relu')(x)\n",
    "preds = Dense(1, activation='sigmoid')(x)\n",
    "\n",
    "model = Model(sequence_input, preds)\n",
    "model.compile(loss='binary_crossentropy',\n",
    "              optimizer='rmsprop',\n",
    "              metrics=['acc'])\n",
    "\n",
    "model.summary()\n",
    "history = model.fit(X_train_ind, Y_train, validation_data=(X_dev_ind, Y_dev),\n",
    "                    epochs=10, batch_size=256)\n",
    "\n",
    "model.save(\"model_CNN_500_50_10_epochs.h5\")\n",
    "stop = time.time()\n",
    "print(\"Total execution time: {} seconds\".format(round(stop-start, 2)))"
   ]
  },
  {
   "cell_type": "code",
   "execution_count": 15,
   "metadata": {},
   "outputs": [
    {
     "name": "stdout",
     "output_type": "stream",
     "text": [
      "144/144 [==============================] - 1s 10ms/step - loss: 0.5072 - acc: 0.7533\n"
     ]
    },
    {
     "data": {
      "text/plain": [
       "[0.5072380900382996, 0.7532637119293213]"
      ]
     },
     "execution_count": 15,
     "metadata": {},
     "output_type": "execute_result"
    }
   ],
   "source": [
    "X_test_ind = sentences_to_indices(X_test, word_index, maxLen)\n",
    "model.evaluate(X_test_ind, Y_test)"
   ]
  },
  {
   "cell_type": "code",
   "execution_count": 16,
   "metadata": {},
   "outputs": [
    {
     "data": {
      "image/png": "[encoded data removed]",
      "text/plain": [
       "<Figure size 576x396 with 1 Axes>"
      ]
     },
     "metadata": {},
     "output_type": "display_data"
    }
   ],
   "source": [
    "plots(history, epoch=10, version=\"both\")"
   ]
  },
  {
   "cell_type": "markdown",
   "metadata": {},
   "source": [
    "300D"
   ]
  },
  {
   "cell_type": "code",
   "execution_count": 17,
   "metadata": {},
   "outputs": [
    {
     "name": "stdout",
     "output_type": "stream",
     "text": [
      "Max sentence length: 500\n",
      "Embedding dimension: 300D\n",
      "Stopwords used: False\n",
      "Train part: 0.7\n",
      "Dev part: 0.2\n",
      "Test part: 0.1\n",
      "Random state: 2021\n",
      "Total execution time: 46.22 seconds\n",
      "Model: \"model_4\"\n",
      "_________________________________________________________________\n",
      "Layer (type)                 Output Shape              Param #   \n",
      "=================================================================\n",
      "input_5 (InputLayer)         [(None, 500)]             0         \n",
      "_________________________________________________________________\n",
      "embedding_4 (Embedding)      (None, 500, 300)          18173400  \n",
      "_________________________________________________________________\n",
      "conv1d_12 (Conv1D)           (None, 496, 128)          192128    \n",
      "_________________________________________________________________\n",
      "max_pooling1d_12 (MaxPooling (None, 99, 128)           0         \n",
      "_________________________________________________________________\n",
      "conv1d_13 (Conv1D)           (None, 95, 128)           82048     \n",
      "_________________________________________________________________\n",
      "max_pooling1d_13 (MaxPooling (None, 19, 128)           0         \n",
      "_________________________________________________________________\n",
      "conv1d_14 (Conv1D)           (None, 15, 128)           82048     \n",
      "_________________________________________________________________\n",
      "max_pooling1d_14 (MaxPooling (None, 3, 128)            0         \n",
      "_________________________________________________________________\n",
      "flatten_4 (Flatten)          (None, 384)               0         \n",
      "_________________________________________________________________\n",
      "dense_8 (Dense)              (None, 128)               49280     \n",
      "_________________________________________________________________\n",
      "dense_9 (Dense)              (None, 1)                 129       \n",
      "=================================================================\n",
      "Total params: 18,579,033\n",
      "Trainable params: 405,633\n",
      "Non-trainable params: 18,173,400\n",
      "_________________________________________________________________\n",
      "Epoch 1/10\n",
      "126/126 [==============================] - 107s 845ms/step - loss: 0.7377 - acc: 0.5674 - val_loss: 0.4071 - val_acc: 0.8207\n",
      "Epoch 2/10\n",
      "126/126 [==============================] - 109s 864ms/step - loss: 0.4283 - acc: 0.8100 - val_loss: 0.4280 - val_acc: 0.7961\n",
      "Epoch 3/10\n",
      "126/126 [==============================] - 108s 859ms/step - loss: 0.3474 - acc: 0.8451 - val_loss: 0.3126 - val_acc: 0.8648\n",
      "Epoch 4/10\n",
      "126/126 [==============================] - 110s 869ms/step - loss: 0.3031 - acc: 0.8704 - val_loss: 0.2814 - val_acc: 0.8832\n",
      "Epoch 5/10\n",
      "126/126 [==============================] - 108s 860ms/step - loss: 0.2603 - acc: 0.8902 - val_loss: 0.3840 - val_acc: 0.8437\n",
      "Epoch 6/10\n",
      "126/126 [==============================] - 110s 872ms/step - loss: 0.2250 - acc: 0.9059 - val_loss: 0.2982 - val_acc: 0.8814\n",
      "Epoch 7/10\n",
      "126/126 [==============================] - 108s 853ms/step - loss: 0.1703 - acc: 0.9351 - val_loss: 0.5484 - val_acc: 0.7881\n",
      "Epoch 8/10\n",
      "126/126 [==============================] - 108s 855ms/step - loss: 0.1574 - acc: 0.9425 - val_loss: 0.6808 - val_acc: 0.8286\n",
      "Epoch 9/10\n",
      "126/126 [==============================] - 103s 819ms/step - loss: 0.1388 - acc: 0.9519 - val_loss: 0.3931 - val_acc: 0.8800\n",
      "Epoch 10/10\n",
      "126/126 [==============================] - 108s 858ms/step - loss: 0.1018 - acc: 0.9655 - val_loss: 0.4940 - val_acc: 0.8826\n",
      "Total execution time: 1125.46 seconds\n"
     ]
    }
   ],
   "source": [
    "start=time.time()\n",
    "embedding_layer, maxLen, word_index, X_train_ind, Y_train, X_dev_ind, Y_dev, X_test, Y_test = own.dataset(500, 300, False, 0.7, 0.2, 0.1, 2021)\n",
    "\n",
    "sequence_input = Input(shape=(maxLen,), dtype='int32')\n",
    "embedded_sequences = embedding_layer(sequence_input)\n",
    "x = Conv1D(128, 5, activation='relu')(embedded_sequences)\n",
    "x = MaxPooling1D(5)(x)\n",
    "x = Conv1D(128, 5, activation='relu')(x)\n",
    "x = MaxPooling1D(5)(x)\n",
    "x = Conv1D(128, 5, activation='relu')(x)\n",
    "x = MaxPooling1D(5)(x)  # global max pooling (zmieniany w zaleznosci od opcji dataset)\n",
    "x = Flatten()(x)\n",
    "x = Dense(128, activation='relu')(x)\n",
    "preds = Dense(1, activation='sigmoid')(x)\n",
    "\n",
    "model = Model(sequence_input, preds)\n",
    "model.compile(loss='binary_crossentropy',\n",
    "              optimizer='rmsprop',\n",
    "              metrics=['acc'])\n",
    "\n",
    "model.summary()\n",
    "history = model.fit(X_train_ind, Y_train, validation_data=(X_dev_ind, Y_dev),\n",
    "                    epochs=10, batch_size=256)\n",
    "\n",
    "model.save(\"model_CNN_500_300_10_epochs.h5\")\n",
    "stop = time.time()\n",
    "print(\"Total execution time: {} seconds\".format(round(stop-start, 2)))"
   ]
  },
  {
   "cell_type": "code",
   "execution_count": 18,
   "metadata": {},
   "outputs": [
    {
     "name": "stdout",
     "output_type": "stream",
     "text": [
      "144/144 [==============================] - 6s 41ms/step - loss: 0.4398 - acc: 0.8903\n"
     ]
    },
    {
     "data": {
      "text/plain": [
       "[0.4398419260978699, 0.8903394341468811]"
      ]
     },
     "execution_count": 18,
     "metadata": {},
     "output_type": "execute_result"
    }
   ],
   "source": [
    "X_test_ind = sentences_to_indices(X_test, word_index, maxLen)\n",
    "model.evaluate(X_test_ind, Y_test)"
   ]
  },
  {
   "cell_type": "code",
   "execution_count": 19,
   "metadata": {},
   "outputs": [
    {
     "data": {
      "image/png": "[encoded data removed]",
      "text/plain": [
       "<Figure size 576x396 with 1 Axes>"
      ]
     },
     "metadata": {},
     "output_type": "display_data"
    }
   ],
   "source": [
    "plots(history, epoch=10, version=\"both\")"
   ]
  },
  {
   "cell_type": "markdown",
   "metadata": {},
   "source": [
    "#### Stopwords\n",
    "\n",
    "Stopwords excluded"
   ]
  },
  {
   "cell_type": "code",
   "execution_count": 21,
   "metadata": {},
   "outputs": [
    {
     "name": "stdout",
     "output_type": "stream",
     "text": [
      "Max sentence length: 500\n",
      "Embedding dimension: 100D\n",
      "Stopwords used: True\n",
      "Train part: 0.7\n",
      "Dev part: 0.2\n",
      "Test part: 0.1\n",
      "Random state: 2021\n",
      "Total execution time: 31.17 seconds\n",
      "Model: \"model_5\"\n",
      "_________________________________________________________________\n",
      "Layer (type)                 Output Shape              Param #   \n",
      "=================================================================\n",
      "input_6 (InputLayer)         [(None, 500)]             0         \n",
      "_________________________________________________________________\n",
      "embedding_5 (Embedding)      (None, 500, 100)          6043600   \n",
      "_________________________________________________________________\n",
      "conv1d_15 (Conv1D)           (None, 496, 128)          64128     \n",
      "_________________________________________________________________\n",
      "max_pooling1d_15 (MaxPooling (None, 99, 128)           0         \n",
      "_________________________________________________________________\n",
      "conv1d_16 (Conv1D)           (None, 95, 128)           82048     \n",
      "_________________________________________________________________\n",
      "max_pooling1d_16 (MaxPooling (None, 19, 128)           0         \n",
      "_________________________________________________________________\n",
      "conv1d_17 (Conv1D)           (None, 15, 128)           82048     \n",
      "_________________________________________________________________\n",
      "max_pooling1d_17 (MaxPooling (None, 3, 128)            0         \n",
      "_________________________________________________________________\n",
      "flatten_5 (Flatten)          (None, 384)               0         \n",
      "_________________________________________________________________\n",
      "dense_10 (Dense)             (None, 128)               49280     \n",
      "_________________________________________________________________\n",
      "dense_11 (Dense)             (None, 1)                 129       \n",
      "=================================================================\n",
      "Total params: 6,321,233\n",
      "Trainable params: 277,633\n",
      "Non-trainable params: 6,043,600\n",
      "_________________________________________________________________\n",
      "Epoch 1/10\n",
      "126/126 [==============================] - 51s 403ms/step - loss: 0.7574 - acc: 0.5757 - val_loss: 0.5666 - val_acc: 0.7158\n",
      "Epoch 2/10\n",
      "126/126 [==============================] - 53s 425ms/step - loss: 0.4985 - acc: 0.7625 - val_loss: 0.5591 - val_acc: 0.7258\n",
      "Epoch 3/10\n",
      "126/126 [==============================] - 54s 432ms/step - loss: 0.4153 - acc: 0.8108 - val_loss: 0.4119 - val_acc: 0.8156\n",
      "Epoch 4/10\n",
      "126/126 [==============================] - 50s 397ms/step - loss: 0.3714 - acc: 0.8363 - val_loss: 0.3535 - val_acc: 0.8449\n",
      "Epoch 5/10\n",
      "126/126 [==============================] - 48s 380ms/step - loss: 0.3506 - acc: 0.8481 - val_loss: 0.3724 - val_acc: 0.8393\n",
      "Epoch 6/10\n",
      "126/126 [==============================] - 48s 382ms/step - loss: 0.3087 - acc: 0.8669 - val_loss: 0.4310 - val_acc: 0.8108\n",
      "Epoch 7/10\n",
      "126/126 [==============================] - 48s 381ms/step - loss: 0.2805 - acc: 0.8785 - val_loss: 0.3251 - val_acc: 0.8634\n",
      "Epoch 8/10\n",
      "126/126 [==============================] - 48s 383ms/step - loss: 0.2497 - acc: 0.8956 - val_loss: 0.3431 - val_acc: 0.8628\n",
      "Epoch 9/10\n",
      "126/126 [==============================] - 48s 383ms/step - loss: 0.2266 - acc: 0.9063 - val_loss: 0.5239 - val_acc: 0.7643\n",
      "Epoch 10/10\n",
      "126/126 [==============================] - 48s 383ms/step - loss: 0.1906 - acc: 0.9231 - val_loss: 0.5273 - val_acc: 0.7835\n",
      "Total execution time: 529.88 seconds\n"
     ]
    }
   ],
   "source": [
    "#stopword\n",
    "start=time.time()\n",
    "embedding_layer, maxLen, word_index, X_train_ind, Y_train, X_dev_ind, Y_dev, X_test, Y_test = own.dataset(500, 100, True, 0.7, 0.2, 0.1, 2021)\n",
    "\n",
    "sequence_input = Input(shape=(maxLen,), dtype='int32')\n",
    "embedded_sequences = embedding_layer(sequence_input)\n",
    "x = Conv1D(128, 5, activation='relu')(embedded_sequences)\n",
    "x = MaxPooling1D(5)(x)\n",
    "x = Conv1D(128, 5, activation='relu')(x)\n",
    "x = MaxPooling1D(5)(x)\n",
    "x = Conv1D(128, 5, activation='relu')(x)\n",
    "x = MaxPooling1D(5)(x)  # global max pooling (zmieniany w zaleznosci od opcji dataset)\n",
    "x = Flatten()(x)\n",
    "x = Dense(128, activation='relu')(x)\n",
    "preds = Dense(1, activation='sigmoid')(x)\n",
    "\n",
    "model = Model(sequence_input, preds)\n",
    "model.compile(loss='binary_crossentropy',\n",
    "              optimizer='rmsprop',\n",
    "              metrics=['acc'])\n",
    "\n",
    "model.summary()\n",
    "history = model.fit(X_train_ind, Y_train, validation_data=(X_dev_ind, Y_dev),\n",
    "                    epochs=10, batch_size=256)\n",
    "\n",
    "model.save(\"model_CNN_500_100_10_epochs.h5\")\n",
    "stop = time.time()\n",
    "print(\"Total execution time: {} seconds\".format(round(stop-start, 2)))"
   ]
  },
  {
   "cell_type": "code",
   "execution_count": 22,
   "metadata": {},
   "outputs": [
    {
     "name": "stdout",
     "output_type": "stream",
     "text": [
      "144/144 [==============================] - 2s 15ms/step - loss: 0.5107 - acc: 0.7842\n"
     ]
    },
    {
     "data": {
      "text/plain": [
       "[0.5106518864631653, 0.7841601371765137]"
      ]
     },
     "execution_count": 22,
     "metadata": {},
     "output_type": "execute_result"
    }
   ],
   "source": [
    "X_test_ind = sentences_to_indices(X_test, word_index, maxLen)\n",
    "model.evaluate(X_test_ind, Y_test)"
   ]
  },
  {
   "cell_type": "code",
   "execution_count": 23,
   "metadata": {},
   "outputs": [
    {
     "data": {
      "image/png": "[encoded data removed]",
      "text/plain": [
       "<Figure size 576x396 with 1 Axes>"
      ]
     },
     "metadata": {},
     "output_type": "display_data"
    }
   ],
   "source": [
    "plots(history, epoch=10, version=\"both\")"
   ]
  },
  {
   "cell_type": "markdown",
   "metadata": {},
   "source": [
    "##### Results\n",
    "\n",
    "|           \t| len 250 <br> emb 100 <br> sw false <br> \t| len 500  <br> emb 100  <br> sw false  <br> \t| len 1000  <br> emb 100  <br> sw false  <br> \t| len 500  <br> emb 50  <br> sw false  <br> \t| len 500  <br> emb 300  <br> sw false  <br> \t| len 500  <br> emb 100  <br> sw true  <br> \t|\n",
    "|-----------\t|-----------------------------------------\t|--------------------------------------------\t|---------------------------------------------\t|-------------------------------------------\t|--------------------------------------------\t|-------------------------------------------\t|\n",
    "| Accuracy  \t| 0.8584                                  \t| 0.8705                                     \t| 0.7771                                      \t| 0.8551                                    \t| 0.8795                                     \t| 0.8436                                    \t|\n",
    "|  Time (s) \t| 205                                     \t| 500                                        \t| 1045                                        \t| 397                                       \t| 1035                                       \t| 497                                       \t|\n",
    "\n",
    "<br><br>\n",
    "\\*Values of the metrics are different from the one which can be seen in the training process above, because they came from previous training (due to occured computational issues)\n",
    "\n",
    "In case of the maximum length of the review the best option seems to be about 500 words, it gives pretty decent result, and the computation time is not so long, we can see some anomaly with 1000 words (the result is really low). <br>\n",
    "In case of embedding dimension, 50 is definietely to low, obviously 300 is better than 100, but it need twice the time to train, well probably it should be used when someone has enough computional power. <br>\n",
    "It can also be seen that exlusion of the stop words make results worse (about 2.5 percetage points), so it definitely shouldn't be removed.\n",
    "\n",
    "##### Recurrent neural network"
   ]
  },
  {
   "cell_type": "code",
   "execution_count": 47,
   "metadata": {},
   "outputs": [
    {
     "name": "stdout",
     "output_type": "stream",
     "text": [
      "Max sentence length: 500\n",
      "Embedding dimension: 100D\n",
      "Stopwords used: False\n",
      "Train part: 0.7\n",
      "Dev part: 0.2\n",
      "Test part: 0.1\n",
      "Random state: 2021\n",
      "Total execution time: 36.63 seconds\n",
      "Model: \"model_3\"\n",
      "_________________________________________________________________\n",
      "Layer (type)                 Output Shape              Param #   \n",
      "=================================================================\n",
      "input_5 (InputLayer)         (None, 500)               0         \n",
      "_________________________________________________________________\n",
      "embedding_2 (Embedding)      (None, 500, 100)          6057800   \n",
      "_________________________________________________________________\n",
      "bidirectional_4 (Bidirection (None, 500, 256)          234496    \n",
      "_________________________________________________________________\n",
      "lstm_8 (LSTM)                (None, 64)                82176     \n",
      "_________________________________________________________________\n",
      "dropout_4 (Dropout)          (None, 64)                0         \n",
      "_________________________________________________________________\n",
      "dense_4 (Dense)              (None, 1)                 65        \n",
      "=================================================================\n",
      "Total params: 6,374,537\n",
      "Trainable params: 316,737\n",
      "Non-trainable params: 6,057,800\n",
      "_________________________________________________________________\n"
     ]
    }
   ],
   "source": [
    "embedding_layer, maxLen, word_index, X_train_ind, Y_train, X_dev_ind, Y_dev, X_test, Y_test = own.dataset(500, 100, False, 0.7, 0.2, 0.1, 2021)\n",
    "\n",
    "sequence_input = Input(shape=(maxLen,), dtype='int32')\n",
    "embedded_sequences = embedding_layer(sequence_input)\n",
    "y = Bidirectional(LSTM(128, return_sequences=True))(embedded_sequences)\n",
    "y = LSTM(64)(y)\n",
    "y = Dropout(0.4)(y)\n",
    "preds = Dense(1, activation='sigmoid')(y)\n",
    "\n",
    "modelRNN = Model(sequence_input, preds)\n",
    "modelRNN.compile(loss='binary_crossentropy',\n",
    "              optimizer='rmsprop',\n",
    "              metrics=['acc'])\n",
    "\n",
    "modelRNN.summary()"
   ]
  },
  {
   "cell_type": "code",
   "execution_count": 49,
   "metadata": {
    "scrolled": true
   },
   "outputs": [
    {
     "name": "stdout",
     "output_type": "stream",
     "text": [
      "Train on 32188 samples, validate on 9232 samples\n",
      "Epoch 1/4\n",
      "32188/32188 [==============================] - 5701s 177ms/step - loss: 0.6989 - acc: 0.4963 - val_loss: 0.6987 - val_acc: 0.5091\n",
      "Epoch 2/4\n",
      "32188/32188 [==============================] - 7763s 241ms/step - loss: 0.6943 - acc: 0.5000 - val_loss: 0.6945 - val_acc: 0.4909\n",
      "Epoch 3/4\n",
      "32188/32188 [==============================] - 8502s 264ms/step - loss: 0.6933 - acc: 0.5011 - val_loss: 0.6931 - val_acc: 0.5090\n",
      "Epoch 4/4\n",
      "  256/32188 [..............................] - ETA: 2:16:35 - loss: 0.6920 - acc: 0.5547"
     ]
    },
    {
     "ename": "KeyboardInterrupt",
     "evalue": "",
     "output_type": "error",
     "traceback": [
      "\u001b[1;31m---------------------------------------------------------------------------\u001b[0m",
      "\u001b[1;31mKeyboardInterrupt\u001b[0m                         Traceback (most recent call last)",
      "\u001b[1;32m<ipython-input-49-28fa46c36c25>\u001b[0m in \u001b[0;36m<module>\u001b[1;34m\u001b[0m\n\u001b[0;32m      1\u001b[0m historyRNN = modelRNN.fit(X_train_ind, Y_train, validation_data=(X_dev_ind, Y_dev),\n\u001b[1;32m----> 2\u001b[1;33m                           epochs=4, batch_size=256)\n\u001b[0m",
      "\u001b[1;32m~\\anaconda3\\lib\\site-packages\\keras\\engine\\training.py\u001b[0m in \u001b[0;36mfit\u001b[1;34m(self, x, y, batch_size, epochs, verbose, callbacks, validation_split, validation_data, shuffle, class_weight, sample_weight, initial_epoch, steps_per_epoch, validation_steps, validation_freq, max_queue_size, workers, use_multiprocessing, **kwargs)\u001b[0m\n\u001b[0;32m   1237\u001b[0m                                         \u001b[0msteps_per_epoch\u001b[0m\u001b[1;33m=\u001b[0m\u001b[0msteps_per_epoch\u001b[0m\u001b[1;33m,\u001b[0m\u001b[1;33m\u001b[0m\u001b[1;33m\u001b[0m\u001b[0m\n\u001b[0;32m   1238\u001b[0m                                         \u001b[0mvalidation_steps\u001b[0m\u001b[1;33m=\u001b[0m\u001b[0mvalidation_steps\u001b[0m\u001b[1;33m,\u001b[0m\u001b[1;33m\u001b[0m\u001b[1;33m\u001b[0m\u001b[0m\n\u001b[1;32m-> 1239\u001b[1;33m                                         validation_freq=validation_freq)\n\u001b[0m\u001b[0;32m   1240\u001b[0m \u001b[1;33m\u001b[0m\u001b[0m\n\u001b[0;32m   1241\u001b[0m     def evaluate(self,\n",
      "\u001b[1;32m~\\anaconda3\\lib\\site-packages\\keras\\engine\\training_arrays.py\u001b[0m in \u001b[0;36mfit_loop\u001b[1;34m(model, fit_function, fit_inputs, out_labels, batch_size, epochs, verbose, callbacks, val_function, val_inputs, shuffle, initial_epoch, steps_per_epoch, validation_steps, validation_freq)\u001b[0m\n\u001b[0;32m    194\u001b[0m                     \u001b[0mins_batch\u001b[0m\u001b[1;33m[\u001b[0m\u001b[0mi\u001b[0m\u001b[1;33m]\u001b[0m \u001b[1;33m=\u001b[0m \u001b[0mins_batch\u001b[0m\u001b[1;33m[\u001b[0m\u001b[0mi\u001b[0m\u001b[1;33m]\u001b[0m\u001b[1;33m.\u001b[0m\u001b[0mtoarray\u001b[0m\u001b[1;33m(\u001b[0m\u001b[1;33m)\u001b[0m\u001b[1;33m\u001b[0m\u001b[1;33m\u001b[0m\u001b[0m\n\u001b[0;32m    195\u001b[0m \u001b[1;33m\u001b[0m\u001b[0m\n\u001b[1;32m--> 196\u001b[1;33m                 \u001b[0mouts\u001b[0m \u001b[1;33m=\u001b[0m \u001b[0mfit_function\u001b[0m\u001b[1;33m(\u001b[0m\u001b[0mins_batch\u001b[0m\u001b[1;33m)\u001b[0m\u001b[1;33m\u001b[0m\u001b[1;33m\u001b[0m\u001b[0m\n\u001b[0m\u001b[0;32m    197\u001b[0m                 \u001b[0mouts\u001b[0m \u001b[1;33m=\u001b[0m \u001b[0mto_list\u001b[0m\u001b[1;33m(\u001b[0m\u001b[0mouts\u001b[0m\u001b[1;33m)\u001b[0m\u001b[1;33m\u001b[0m\u001b[1;33m\u001b[0m\u001b[0m\n\u001b[0;32m    198\u001b[0m                 \u001b[1;32mfor\u001b[0m \u001b[0ml\u001b[0m\u001b[1;33m,\u001b[0m \u001b[0mo\u001b[0m \u001b[1;32min\u001b[0m \u001b[0mzip\u001b[0m\u001b[1;33m(\u001b[0m\u001b[0mout_labels\u001b[0m\u001b[1;33m,\u001b[0m \u001b[0mouts\u001b[0m\u001b[1;33m)\u001b[0m\u001b[1;33m:\u001b[0m\u001b[1;33m\u001b[0m\u001b[1;33m\u001b[0m\u001b[0m\n",
      "\u001b[1;32m~\\anaconda3\\lib\\site-packages\\tensorflow_core\\python\\keras\\backend.py\u001b[0m in \u001b[0;36m__call__\u001b[1;34m(self, inputs)\u001b[0m\n\u001b[0;32m   3738\u001b[0m         \u001b[0mvalue\u001b[0m \u001b[1;33m=\u001b[0m \u001b[0mmath_ops\u001b[0m\u001b[1;33m.\u001b[0m\u001b[0mcast\u001b[0m\u001b[1;33m(\u001b[0m\u001b[0mvalue\u001b[0m\u001b[1;33m,\u001b[0m \u001b[0mtensor\u001b[0m\u001b[1;33m.\u001b[0m\u001b[0mdtype\u001b[0m\u001b[1;33m)\u001b[0m\u001b[1;33m\u001b[0m\u001b[1;33m\u001b[0m\u001b[0m\n\u001b[0;32m   3739\u001b[0m       \u001b[0mconverted_inputs\u001b[0m\u001b[1;33m.\u001b[0m\u001b[0mappend\u001b[0m\u001b[1;33m(\u001b[0m\u001b[0mvalue\u001b[0m\u001b[1;33m)\u001b[0m\u001b[1;33m\u001b[0m\u001b[1;33m\u001b[0m\u001b[0m\n\u001b[1;32m-> 3740\u001b[1;33m     \u001b[0moutputs\u001b[0m \u001b[1;33m=\u001b[0m \u001b[0mself\u001b[0m\u001b[1;33m.\u001b[0m\u001b[0m_graph_fn\u001b[0m\u001b[1;33m(\u001b[0m\u001b[1;33m*\u001b[0m\u001b[0mconverted_inputs\u001b[0m\u001b[1;33m)\u001b[0m\u001b[1;33m\u001b[0m\u001b[1;33m\u001b[0m\u001b[0m\n\u001b[0m\u001b[0;32m   3741\u001b[0m \u001b[1;33m\u001b[0m\u001b[0m\n\u001b[0;32m   3742\u001b[0m     \u001b[1;31m# EagerTensor.numpy() will often make a copy to ensure memory safety.\u001b[0m\u001b[1;33m\u001b[0m\u001b[1;33m\u001b[0m\u001b[1;33m\u001b[0m\u001b[0m\n",
      "\u001b[1;32m~\\anaconda3\\lib\\site-packages\\tensorflow_core\\python\\eager\\function.py\u001b[0m in \u001b[0;36m__call__\u001b[1;34m(self, *args, **kwargs)\u001b[0m\n\u001b[0;32m   1079\u001b[0m       \u001b[0mTypeError\u001b[0m\u001b[1;33m:\u001b[0m \u001b[0mFor\u001b[0m \u001b[0minvalid\u001b[0m \u001b[0mpositional\u001b[0m\u001b[1;33m/\u001b[0m\u001b[0mkeyword\u001b[0m \u001b[0margument\u001b[0m \u001b[0mcombinations\u001b[0m\u001b[1;33m.\u001b[0m\u001b[1;33m\u001b[0m\u001b[1;33m\u001b[0m\u001b[0m\n\u001b[0;32m   1080\u001b[0m     \"\"\"\n\u001b[1;32m-> 1081\u001b[1;33m     \u001b[1;32mreturn\u001b[0m \u001b[0mself\u001b[0m\u001b[1;33m.\u001b[0m\u001b[0m_call_impl\u001b[0m\u001b[1;33m(\u001b[0m\u001b[0margs\u001b[0m\u001b[1;33m,\u001b[0m \u001b[0mkwargs\u001b[0m\u001b[1;33m)\u001b[0m\u001b[1;33m\u001b[0m\u001b[1;33m\u001b[0m\u001b[0m\n\u001b[0m\u001b[0;32m   1082\u001b[0m \u001b[1;33m\u001b[0m\u001b[0m\n\u001b[0;32m   1083\u001b[0m   \u001b[1;32mdef\u001b[0m \u001b[0m_call_impl\u001b[0m\u001b[1;33m(\u001b[0m\u001b[0mself\u001b[0m\u001b[1;33m,\u001b[0m \u001b[0margs\u001b[0m\u001b[1;33m,\u001b[0m \u001b[0mkwargs\u001b[0m\u001b[1;33m,\u001b[0m \u001b[0mcancellation_manager\u001b[0m\u001b[1;33m=\u001b[0m\u001b[1;32mNone\u001b[0m\u001b[1;33m)\u001b[0m\u001b[1;33m:\u001b[0m\u001b[1;33m\u001b[0m\u001b[1;33m\u001b[0m\u001b[0m\n",
      "\u001b[1;32m~\\anaconda3\\lib\\site-packages\\tensorflow_core\\python\\eager\\function.py\u001b[0m in \u001b[0;36m_call_impl\u001b[1;34m(self, args, kwargs, cancellation_manager)\u001b[0m\n\u001b[0;32m   1119\u001b[0m       raise TypeError(\"Keyword arguments {} unknown. Expected {}.\".format(\n\u001b[0;32m   1120\u001b[0m           list(kwargs.keys()), list(self._arg_keywords)))\n\u001b[1;32m-> 1121\u001b[1;33m     \u001b[1;32mreturn\u001b[0m \u001b[0mself\u001b[0m\u001b[1;33m.\u001b[0m\u001b[0m_call_flat\u001b[0m\u001b[1;33m(\u001b[0m\u001b[0margs\u001b[0m\u001b[1;33m,\u001b[0m \u001b[0mself\u001b[0m\u001b[1;33m.\u001b[0m\u001b[0mcaptured_inputs\u001b[0m\u001b[1;33m,\u001b[0m \u001b[0mcancellation_manager\u001b[0m\u001b[1;33m)\u001b[0m\u001b[1;33m\u001b[0m\u001b[1;33m\u001b[0m\u001b[0m\n\u001b[0m\u001b[0;32m   1122\u001b[0m \u001b[1;33m\u001b[0m\u001b[0m\n\u001b[0;32m   1123\u001b[0m   \u001b[1;32mdef\u001b[0m \u001b[0m_filtered_call\u001b[0m\u001b[1;33m(\u001b[0m\u001b[0mself\u001b[0m\u001b[1;33m,\u001b[0m \u001b[0margs\u001b[0m\u001b[1;33m,\u001b[0m \u001b[0mkwargs\u001b[0m\u001b[1;33m)\u001b[0m\u001b[1;33m:\u001b[0m\u001b[1;33m\u001b[0m\u001b[1;33m\u001b[0m\u001b[0m\n",
      "\u001b[1;32m~\\anaconda3\\lib\\site-packages\\tensorflow_core\\python\\eager\\function.py\u001b[0m in \u001b[0;36m_call_flat\u001b[1;34m(self, args, captured_inputs, cancellation_manager)\u001b[0m\n\u001b[0;32m   1222\u001b[0m     \u001b[1;32mif\u001b[0m \u001b[0mexecuting_eagerly\u001b[0m\u001b[1;33m:\u001b[0m\u001b[1;33m\u001b[0m\u001b[1;33m\u001b[0m\u001b[0m\n\u001b[0;32m   1223\u001b[0m       flat_outputs = forward_function.call(\n\u001b[1;32m-> 1224\u001b[1;33m           ctx, args, cancellation_manager=cancellation_manager)\n\u001b[0m\u001b[0;32m   1225\u001b[0m     \u001b[1;32melse\u001b[0m\u001b[1;33m:\u001b[0m\u001b[1;33m\u001b[0m\u001b[1;33m\u001b[0m\u001b[0m\n\u001b[0;32m   1226\u001b[0m       \u001b[0mgradient_name\u001b[0m \u001b[1;33m=\u001b[0m \u001b[0mself\u001b[0m\u001b[1;33m.\u001b[0m\u001b[0m_delayed_rewrite_functions\u001b[0m\u001b[1;33m.\u001b[0m\u001b[0mregister\u001b[0m\u001b[1;33m(\u001b[0m\u001b[1;33m)\u001b[0m\u001b[1;33m\u001b[0m\u001b[1;33m\u001b[0m\u001b[0m\n",
      "\u001b[1;32m~\\anaconda3\\lib\\site-packages\\tensorflow_core\\python\\eager\\function.py\u001b[0m in \u001b[0;36mcall\u001b[1;34m(self, ctx, args, cancellation_manager)\u001b[0m\n\u001b[0;32m    509\u001b[0m               \u001b[0minputs\u001b[0m\u001b[1;33m=\u001b[0m\u001b[0margs\u001b[0m\u001b[1;33m,\u001b[0m\u001b[1;33m\u001b[0m\u001b[1;33m\u001b[0m\u001b[0m\n\u001b[0;32m    510\u001b[0m               \u001b[0mattrs\u001b[0m\u001b[1;33m=\u001b[0m\u001b[1;33m(\u001b[0m\u001b[1;34m\"executor_type\"\u001b[0m\u001b[1;33m,\u001b[0m \u001b[0mexecutor_type\u001b[0m\u001b[1;33m,\u001b[0m \u001b[1;34m\"config_proto\"\u001b[0m\u001b[1;33m,\u001b[0m \u001b[0mconfig\u001b[0m\u001b[1;33m)\u001b[0m\u001b[1;33m,\u001b[0m\u001b[1;33m\u001b[0m\u001b[1;33m\u001b[0m\u001b[0m\n\u001b[1;32m--> 511\u001b[1;33m               ctx=ctx)\n\u001b[0m\u001b[0;32m    512\u001b[0m         \u001b[1;32melse\u001b[0m\u001b[1;33m:\u001b[0m\u001b[1;33m\u001b[0m\u001b[1;33m\u001b[0m\u001b[0m\n\u001b[0;32m    513\u001b[0m           outputs = execute.execute_with_cancellation(\n",
      "\u001b[1;32m~\\anaconda3\\lib\\site-packages\\tensorflow_core\\python\\eager\\execute.py\u001b[0m in \u001b[0;36mquick_execute\u001b[1;34m(op_name, num_outputs, inputs, attrs, ctx, name)\u001b[0m\n\u001b[0;32m     59\u001b[0m     tensors = pywrap_tensorflow.TFE_Py_Execute(ctx._handle, device_name,\n\u001b[0;32m     60\u001b[0m                                                \u001b[0mop_name\u001b[0m\u001b[1;33m,\u001b[0m \u001b[0minputs\u001b[0m\u001b[1;33m,\u001b[0m \u001b[0mattrs\u001b[0m\u001b[1;33m,\u001b[0m\u001b[1;33m\u001b[0m\u001b[1;33m\u001b[0m\u001b[0m\n\u001b[1;32m---> 61\u001b[1;33m                                                num_outputs)\n\u001b[0m\u001b[0;32m     62\u001b[0m   \u001b[1;32mexcept\u001b[0m \u001b[0mcore\u001b[0m\u001b[1;33m.\u001b[0m\u001b[0m_NotOkStatusException\u001b[0m \u001b[1;32mas\u001b[0m \u001b[0me\u001b[0m\u001b[1;33m:\u001b[0m\u001b[1;33m\u001b[0m\u001b[1;33m\u001b[0m\u001b[0m\n\u001b[0;32m     63\u001b[0m     \u001b[1;32mif\u001b[0m \u001b[0mname\u001b[0m \u001b[1;32mis\u001b[0m \u001b[1;32mnot\u001b[0m \u001b[1;32mNone\u001b[0m\u001b[1;33m:\u001b[0m\u001b[1;33m\u001b[0m\u001b[1;33m\u001b[0m\u001b[0m\n",
      "\u001b[1;31mKeyboardInterrupt\u001b[0m: "
     ]
    }
   ],
   "source": [
    "historyRNN = modelRNN.fit(X_train_ind, Y_train, validation_data=(X_dev_ind, Y_dev),\n",
    "                          epochs=4, batch_size=256)"
   ]
  },
  {
   "cell_type": "markdown",
   "metadata": {},
   "source": [
    "There is no hope for the proposed RNN, the accuracy is at the random estimator level and the training time is positively correlated with the number of epoch, a longer training does not make sense."
   ]
  },
  {
   "cell_type": "markdown",
   "metadata": {},
   "source": [
    "### Conclusions"
   ]
  },
  {
   "cell_type": "markdown",
   "metadata": {},
   "source": [
    "After performed analysis it may be conluded that positive and negative movie reviews are totally different. The differences could be seen especially on the count and word cloud words after detailed stop words removal. <br>\n",
    "In tasks like this one the big challange is to spot and remove/substitute contraction of words or the ones that are unneccasery. <br>\n",
    "The above mentioned problem was especially important while using pretrained word embeddings in the neural network. <br>\n",
    "Proposed neural network architecture solved the task pretty well (approx. 98%, 85% and 86% accuracy on the training dev and test set, respectively). It may be concluded that the training process should be little bit shorter or some additional regularization should be used to deal with overfitting problem. <br>\n",
    "Compared to RNN, CNNs were much faster and gave much better results.<br>\n",
    "Performed Vader analysis gave surprisingly decent results (approx. 70% accuracy score, even better than the RNN).<br>\n",
    "After the experiment process it may be concluded that training process time is almost lineary positively correlated with the maximum length of the review, which should be considered while choosing the optimal length limit. It is also appropiate to conlcude that the 100 dimnesional embeddings are good enough for the job, because the results weren't much worse than using 300 dimensional ones, but the model needs twice the time to train. Exclusion of the stop words from the reviews made the results worse.<br>"
   ]
  }
 ],
 "metadata": {
  "kernelspec": {
   "display_name": "Python 3",
   "language": "python",
   "name": "python3"
  },
  "language_info": {
   "codemirror_mode": {
    "name": "ipython",
    "version": 3
   },
   "file_extension": ".py",
   "mimetype": "text/x-python",
   "name": "python",
   "nbconvert_exporter": "python",
   "pygments_lexer": "ipython3",
   "version": "3.7.6"
  }
 },
 "nbformat": 4,
 "nbformat_minor": 4
}
